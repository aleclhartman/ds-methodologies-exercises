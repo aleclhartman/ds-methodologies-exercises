{
 "cells": [
  {
   "cell_type": "markdown",
   "metadata": {},
   "source": [
    "# General Steps in Modeling\n",
    "\n",
    "1. Algorithm Selection\n",
    "\n",
    "2. Fit the model -- turning an algorithm into a model for our specific dataset\n",
    "\n",
    "    Linear regression is y = mx + b\n",
    "    \n",
    "    Our model is final_grade = 1.3 * exam1 + 12 (as an example)\n",
    "    \n",
    "    We \"learn\" the coefficients\n",
    "\n",
    "3. Predict + Evaluate\n",
    "\n",
    "4. **Repeat**\n",
    "\n",
    "5. Take the best model and use it on the test set to see of we overfit\n",
    "\n",
    "    Overfit - model works really well with train, but does poorly on test data; a model is overfit when it is too finely adapted to the training data to the point that it does not generalize to other data\n",
    "        Ex. ONLY learning the test material at Codeup instead of learning all material for later use"
   ]
  },
  {
   "cell_type": "code",
   "execution_count": null,
   "metadata": {},
   "outputs": [],
   "source": []
  }
 ],
 "metadata": {
  "kernelspec": {
   "display_name": "Python 3",
   "language": "python",
   "name": "python3"
  },
  "language_info": {
   "codemirror_mode": {
    "name": "ipython",
    "version": 3
   },
   "file_extension": ".py",
   "mimetype": "text/x-python",
   "name": "python",
   "nbconvert_exporter": "python",
   "pygments_lexer": "ipython3",
   "version": "3.7.4"
  }
 },
 "nbformat": 4,
 "nbformat_minor": 2
}
