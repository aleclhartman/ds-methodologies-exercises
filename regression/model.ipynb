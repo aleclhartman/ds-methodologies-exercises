{
 "cells": [
  {
   "cell_type": "code",
   "execution_count": 1,
   "metadata": {},
   "outputs": [],
   "source": [
    "import math\n",
    "\n",
    "import numpy as np\n",
    "import pandas as pd\n",
    "\n",
    "%matplotlib inline\n",
    "import matplotlib.pyplot as plt\n",
    "import seaborn as sns\n",
    "\n",
    "import sklearn\n",
    "\n",
    "import wrangle as wr\n",
    "import split_scale as ss\n",
    "import explore as ex\n",
    "import evaluate as ev\n",
    "import feature_engineering as fe"
   ]
  },
  {
   "cell_type": "code",
   "execution_count": 2,
   "metadata": {},
   "outputs": [
    {
     "data": {
      "text/html": [
       "<div>\n",
       "<style scoped>\n",
       "    .dataframe tbody tr th:only-of-type {\n",
       "        vertical-align: middle;\n",
       "    }\n",
       "\n",
       "    .dataframe tbody tr th {\n",
       "        vertical-align: top;\n",
       "    }\n",
       "\n",
       "    .dataframe thead th {\n",
       "        text-align: right;\n",
       "    }\n",
       "</style>\n",
       "<table border=\"1\" class=\"dataframe\">\n",
       "  <thead>\n",
       "    <tr style=\"text-align: right;\">\n",
       "      <th></th>\n",
       "      <th>exam1</th>\n",
       "      <th>exam2</th>\n",
       "      <th>exam3</th>\n",
       "      <th>final_grade</th>\n",
       "    </tr>\n",
       "  </thead>\n",
       "  <tbody>\n",
       "    <tr>\n",
       "      <th>0</th>\n",
       "      <td>100</td>\n",
       "      <td>90</td>\n",
       "      <td>95</td>\n",
       "      <td>96</td>\n",
       "    </tr>\n",
       "    <tr>\n",
       "      <th>1</th>\n",
       "      <td>98</td>\n",
       "      <td>93</td>\n",
       "      <td>96</td>\n",
       "      <td>95</td>\n",
       "    </tr>\n",
       "    <tr>\n",
       "      <th>2</th>\n",
       "      <td>85</td>\n",
       "      <td>83</td>\n",
       "      <td>87</td>\n",
       "      <td>87</td>\n",
       "    </tr>\n",
       "    <tr>\n",
       "      <th>3</th>\n",
       "      <td>83</td>\n",
       "      <td>80</td>\n",
       "      <td>86</td>\n",
       "      <td>85</td>\n",
       "    </tr>\n",
       "    <tr>\n",
       "      <th>4</th>\n",
       "      <td>93</td>\n",
       "      <td>90</td>\n",
       "      <td>96</td>\n",
       "      <td>97</td>\n",
       "    </tr>\n",
       "    <tr>\n",
       "      <th>...</th>\n",
       "      <td>...</td>\n",
       "      <td>...</td>\n",
       "      <td>...</td>\n",
       "      <td>...</td>\n",
       "    </tr>\n",
       "    <tr>\n",
       "      <th>99</th>\n",
       "      <td>70</td>\n",
       "      <td>65</td>\n",
       "      <td>78</td>\n",
       "      <td>77</td>\n",
       "    </tr>\n",
       "    <tr>\n",
       "      <th>100</th>\n",
       "      <td>62</td>\n",
       "      <td>70</td>\n",
       "      <td>79</td>\n",
       "      <td>70</td>\n",
       "    </tr>\n",
       "    <tr>\n",
       "      <th>101</th>\n",
       "      <td>58</td>\n",
       "      <td>65</td>\n",
       "      <td>70</td>\n",
       "      <td>68</td>\n",
       "    </tr>\n",
       "    <tr>\n",
       "      <th>102</th>\n",
       "      <td>57</td>\n",
       "      <td>65</td>\n",
       "      <td>75</td>\n",
       "      <td>65</td>\n",
       "    </tr>\n",
       "    <tr>\n",
       "      <th>103</th>\n",
       "      <td>70</td>\n",
       "      <td>75</td>\n",
       "      <td>78</td>\n",
       "      <td>72</td>\n",
       "    </tr>\n",
       "  </tbody>\n",
       "</table>\n",
       "<p>102 rows × 4 columns</p>\n",
       "</div>"
      ],
      "text/plain": [
       "     exam1  exam2  exam3  final_grade\n",
       "0      100     90     95           96\n",
       "1       98     93     96           95\n",
       "2       85     83     87           87\n",
       "3       83     80     86           85\n",
       "4       93     90     96           97\n",
       "..     ...    ...    ...          ...\n",
       "99      70     65     78           77\n",
       "100     62     70     79           70\n",
       "101     58     65     70           68\n",
       "102     57     65     75           65\n",
       "103     70     75     78           72\n",
       "\n",
       "[102 rows x 4 columns]"
      ]
     },
     "execution_count": 2,
     "metadata": {},
     "output_type": "execute_result"
    }
   ],
   "source": [
    "df = wr.wrangle_grades()\n",
    "df"
   ]
  },
  {
   "cell_type": "markdown",
   "metadata": {},
   "source": [
    "### 1. Split the data into train and test datasets."
   ]
  },
  {
   "cell_type": "code",
   "execution_count": 3,
   "metadata": {},
   "outputs": [],
   "source": [
    "train, test = ss.split_my_data(df)"
   ]
  },
  {
   "cell_type": "code",
   "execution_count": 4,
   "metadata": {},
   "outputs": [
    {
     "data": {
      "text/plain": [
       "(81, 4)"
      ]
     },
     "execution_count": 4,
     "metadata": {},
     "output_type": "execute_result"
    }
   ],
   "source": [
    "train.shape"
   ]
  },
  {
   "cell_type": "code",
   "execution_count": 5,
   "metadata": {},
   "outputs": [
    {
     "data": {
      "text/plain": [
       "(21, 4)"
      ]
     },
     "execution_count": 5,
     "metadata": {},
     "output_type": "execute_result"
    }
   ],
   "source": [
    "test.shape"
   ]
  },
  {
   "cell_type": "markdown",
   "metadata": {},
   "source": [
    "### 2. Create a model that uses exam 1 to predict the final grade."
   ]
  },
  {
   "cell_type": "code",
   "execution_count": 6,
   "metadata": {},
   "outputs": [
    {
     "data": {
      "text/html": [
       "<div>\n",
       "<style scoped>\n",
       "    .dataframe tbody tr th:only-of-type {\n",
       "        vertical-align: middle;\n",
       "    }\n",
       "\n",
       "    .dataframe tbody tr th {\n",
       "        vertical-align: top;\n",
       "    }\n",
       "\n",
       "    .dataframe thead th {\n",
       "        text-align: right;\n",
       "    }\n",
       "</style>\n",
       "<table border=\"1\" class=\"dataframe\">\n",
       "  <thead>\n",
       "    <tr style=\"text-align: right;\">\n",
       "      <th></th>\n",
       "      <th>final_grade</th>\n",
       "    </tr>\n",
       "  </thead>\n",
       "  <tbody>\n",
       "    <tr>\n",
       "      <th>78</th>\n",
       "      <td>96</td>\n",
       "    </tr>\n",
       "    <tr>\n",
       "      <th>37</th>\n",
       "      <td>65</td>\n",
       "    </tr>\n",
       "    <tr>\n",
       "      <th>38</th>\n",
       "      <td>72</td>\n",
       "    </tr>\n",
       "    <tr>\n",
       "      <th>25</th>\n",
       "      <td>72</td>\n",
       "    </tr>\n",
       "    <tr>\n",
       "      <th>103</th>\n",
       "      <td>72</td>\n",
       "    </tr>\n",
       "  </tbody>\n",
       "</table>\n",
       "</div>"
      ],
      "text/plain": [
       "     final_grade\n",
       "78            96\n",
       "37            65\n",
       "38            72\n",
       "25            72\n",
       "103           72"
      ]
     },
     "execution_count": 6,
     "metadata": {},
     "output_type": "execute_result"
    }
   ],
   "source": [
    "predictions = pd.DataFrame({\n",
    "    \"final_grade\": train.final_grade\n",
    "})\n",
    "predictions.head()"
   ]
  },
  {
   "cell_type": "code",
   "execution_count": 7,
   "metadata": {},
   "outputs": [],
   "source": [
    "# X must be 2-d\n",
    "X = train[[\"exam1\"]]\n",
    "# y can be 1-2\n",
    "y = train.final_grade"
   ]
  },
  {
   "cell_type": "code",
   "execution_count": 8,
   "metadata": {},
   "outputs": [
    {
     "data": {
      "text/html": [
       "<div>\n",
       "<style scoped>\n",
       "    .dataframe tbody tr th:only-of-type {\n",
       "        vertical-align: middle;\n",
       "    }\n",
       "\n",
       "    .dataframe tbody tr th {\n",
       "        vertical-align: top;\n",
       "    }\n",
       "\n",
       "    .dataframe thead th {\n",
       "        text-align: right;\n",
       "    }\n",
       "</style>\n",
       "<table border=\"1\" class=\"dataframe\">\n",
       "  <thead>\n",
       "    <tr style=\"text-align: right;\">\n",
       "      <th></th>\n",
       "      <th>final_grade</th>\n",
       "      <th>simple_lm_exam1</th>\n",
       "    </tr>\n",
       "  </thead>\n",
       "  <tbody>\n",
       "    <tr>\n",
       "      <th>78</th>\n",
       "      <td>96</td>\n",
       "      <td>97.833265</td>\n",
       "    </tr>\n",
       "    <tr>\n",
       "      <th>37</th>\n",
       "      <td>65</td>\n",
       "      <td>65.436309</td>\n",
       "    </tr>\n",
       "    <tr>\n",
       "      <th>38</th>\n",
       "      <td>72</td>\n",
       "      <td>75.230737</td>\n",
       "    </tr>\n",
       "    <tr>\n",
       "      <th>25</th>\n",
       "      <td>72</td>\n",
       "      <td>75.230737</td>\n",
       "    </tr>\n",
       "    <tr>\n",
       "      <th>103</th>\n",
       "      <td>72</td>\n",
       "      <td>75.230737</td>\n",
       "    </tr>\n",
       "  </tbody>\n",
       "</table>\n",
       "</div>"
      ],
      "text/plain": [
       "     final_grade  simple_lm_exam1\n",
       "78            96        97.833265\n",
       "37            65        65.436309\n",
       "38            72        75.230737\n",
       "25            72        75.230737\n",
       "103           72        75.230737"
      ]
     },
     "execution_count": 8,
     "metadata": {},
     "output_type": "execute_result"
    }
   ],
   "source": [
    "# 1. Make the object\n",
    "lm = sklearn.linear_model.LinearRegression()\n",
    "# 2. Fit the object\n",
    "lm.fit(X, y)\n",
    "# 3. Use the object\n",
    "predictions[\"simple_lm_exam1\"] = lm.predict(X)\n",
    "predictions.head()"
   ]
  },
  {
   "cell_type": "code",
   "execution_count": 9,
   "metadata": {},
   "outputs": [
    {
     "data": {
      "text/plain": [
       "(array([0.75341758]), 22.491506884667395)"
      ]
     },
     "execution_count": 9,
     "metadata": {},
     "output_type": "execute_result"
    }
   ],
   "source": [
    "lm.coef_, lm.intercept_"
   ]
  },
  {
   "cell_type": "code",
   "execution_count": 10,
   "metadata": {},
   "outputs": [
    {
     "name": "stdout",
     "output_type": "stream",
     "text": [
      "final_grade = 0.753 * exam1 + 22.492\n"
     ]
    }
   ],
   "source": [
    "print(f\"final_grade = {lm.coef_[0]:.3f} * exam1 + {lm.intercept_:.3f}\")"
   ]
  },
  {
   "cell_type": "markdown",
   "metadata": {},
   "source": [
    "- Visualize the actual vs the predicted values. Create a seperate visualization for each model."
   ]
  },
  {
   "cell_type": "code",
   "execution_count": 11,
   "metadata": {},
   "outputs": [],
   "source": [
    "x_pred = np.array([-25, 100]).reshape(-1, 1)\n",
    "y_pred = lm.predict(x_pred)"
   ]
  },
  {
   "cell_type": "code",
   "execution_count": 12,
   "metadata": {},
   "outputs": [
    {
     "data": {
      "image/png": "[encoded data removed]",
      "text/plain": [
       "<Figure size 1152x648 with 1 Axes>"
      ]
     },
     "metadata": {
      "needs_background": "light"
     },
     "output_type": "display_data"
    }
   ],
   "source": [
    "plt.figure(figsize=(16, 9))\n",
    "sns.scatterplot(x=train.exam1, y=train.final_grade, label=\"Actual\")\n",
    "sns.scatterplot(x=train.exam1, y=predictions.simple_lm_exam1, label=\"Simple Linear Model\")\n",
    "plt.plot(x_pred, y_pred, ls=\"--\", c=\"violet\", label=\"Linear Model Prediction\", alpha=.7)\n",
    "plt.hlines(0, -25, 100, ls=\":\", color=\"grey\")\n",
    "plt.vlines(0, -25, 100, ls=\":\", color=\"grey\")\n",
    "\n",
    "plt.title(\"Simple Linear Model Using Exam 1 to Predict Final Grades\")\n",
    "plt.xlabel(\"Exam 1\")\n",
    "plt.ylabel(\"Final Grade\")\n",
    "plt.legend()\n",
    "plt.show()"
   ]
  },
  {
   "cell_type": "markdown",
   "metadata": {},
   "source": [
    "### 3. Create a model that uses exam 2 to predict the final grade."
   ]
  },
  {
   "cell_type": "code",
   "execution_count": 13,
   "metadata": {},
   "outputs": [],
   "source": [
    "X = train[[\"exam2\"]]"
   ]
  },
  {
   "cell_type": "code",
   "execution_count": 14,
   "metadata": {},
   "outputs": [
    {
     "data": {
      "text/html": [
       "<div>\n",
       "<style scoped>\n",
       "    .dataframe tbody tr th:only-of-type {\n",
       "        vertical-align: middle;\n",
       "    }\n",
       "\n",
       "    .dataframe tbody tr th {\n",
       "        vertical-align: top;\n",
       "    }\n",
       "\n",
       "    .dataframe thead th {\n",
       "        text-align: right;\n",
       "    }\n",
       "</style>\n",
       "<table border=\"1\" class=\"dataframe\">\n",
       "  <thead>\n",
       "    <tr style=\"text-align: right;\">\n",
       "      <th></th>\n",
       "      <th>final_grade</th>\n",
       "      <th>simple_lm_exam1</th>\n",
       "      <th>simple_lm_exam2</th>\n",
       "    </tr>\n",
       "  </thead>\n",
       "  <tbody>\n",
       "    <tr>\n",
       "      <th>78</th>\n",
       "      <td>96</td>\n",
       "      <td>97.833265</td>\n",
       "      <td>93.986763</td>\n",
       "    </tr>\n",
       "    <tr>\n",
       "      <th>37</th>\n",
       "      <td>65</td>\n",
       "      <td>65.436309</td>\n",
       "      <td>69.592372</td>\n",
       "    </tr>\n",
       "    <tr>\n",
       "      <th>38</th>\n",
       "      <td>72</td>\n",
       "      <td>75.230737</td>\n",
       "      <td>79.350128</td>\n",
       "    </tr>\n",
       "    <tr>\n",
       "      <th>25</th>\n",
       "      <td>72</td>\n",
       "      <td>75.230737</td>\n",
       "      <td>79.350128</td>\n",
       "    </tr>\n",
       "    <tr>\n",
       "      <th>103</th>\n",
       "      <td>72</td>\n",
       "      <td>75.230737</td>\n",
       "      <td>79.350128</td>\n",
       "    </tr>\n",
       "  </tbody>\n",
       "</table>\n",
       "</div>"
      ],
      "text/plain": [
       "     final_grade  simple_lm_exam1  simple_lm_exam2\n",
       "78            96        97.833265        93.986763\n",
       "37            65        65.436309        69.592372\n",
       "38            72        75.230737        79.350128\n",
       "25            72        75.230737        79.350128\n",
       "103           72        75.230737        79.350128"
      ]
     },
     "execution_count": 14,
     "metadata": {},
     "output_type": "execute_result"
    }
   ],
   "source": [
    "# 1. Make the object\n",
    "lm = sklearn.linear_model.LinearRegression()\n",
    "# 2. Fit the object\n",
    "lm.fit(X, y)\n",
    "# 3. Use the object\n",
    "predictions[\"simple_lm_exam2\"] = lm.predict(X)\n",
    "predictions.head()"
   ]
  },
  {
   "cell_type": "code",
   "execution_count": 15,
   "metadata": {},
   "outputs": [
    {
     "data": {
      "text/plain": [
       "(array([0.97577564]), 6.1669553551717655)"
      ]
     },
     "execution_count": 15,
     "metadata": {},
     "output_type": "execute_result"
    }
   ],
   "source": [
    "lm.coef_, lm.intercept_"
   ]
  },
  {
   "cell_type": "code",
   "execution_count": 16,
   "metadata": {},
   "outputs": [
    {
     "name": "stdout",
     "output_type": "stream",
     "text": [
      "final_grade = 0.976 * exam1 + 6.167\n"
     ]
    }
   ],
   "source": [
    "print(f\"final_grade = {lm.coef_[0]:.3f} * exam1 + {lm.intercept_:.3f}\")"
   ]
  },
  {
   "cell_type": "markdown",
   "metadata": {},
   "source": [
    "- Visualize the actual vs the predicted values. Create a seperate visualization for each model."
   ]
  },
  {
   "cell_type": "code",
   "execution_count": 17,
   "metadata": {},
   "outputs": [],
   "source": [
    "x_pred = np.array([-25, 100]).reshape(-1, 1)\n",
    "y_pred = lm.predict(x_pred)"
   ]
  },
  {
   "cell_type": "code",
   "execution_count": 18,
   "metadata": {},
   "outputs": [
    {
     "data": {
      "image/png": "[encoded data removed]",
      "text/plain": [
       "<Figure size 1152x648 with 1 Axes>"
      ]
     },
     "metadata": {
      "needs_background": "light"
     },
     "output_type": "display_data"
    }
   ],
   "source": [
    "plt.figure(figsize=(16, 9))\n",
    "sns.scatterplot(x=train.exam2, y=train.final_grade, label=\"Actual\")\n",
    "sns.scatterplot(x=train.exam2, y=predictions.simple_lm_exam2, label=\"Simple Linear Model\")\n",
    "plt.plot(x_pred, y_pred, ls=\"--\", c=\"violet\", label=\"Linear Model Prediction\", alpha=.7)\n",
    "plt.hlines(0, -25, 100, ls=\":\", color=\"grey\")\n",
    "plt.vlines(0, -25, 100, ls=\":\", color=\"grey\")\n",
    "\n",
    "plt.title(\"Simple Linear Model Using Exam 2 to Predict Final Grades\")\n",
    "plt.xlabel(\"Exam 2\")\n",
    "plt.ylabel(\"Final Grade\")\n",
    "plt.legend()\n",
    "plt.show()"
   ]
  },
  {
   "cell_type": "markdown",
   "metadata": {},
   "source": [
    "### 4. Compare your models in the following manner:\n",
    "- Calculate the mean squared error"
   ]
  },
  {
   "cell_type": "code",
   "execution_count": 19,
   "metadata": {},
   "outputs": [
    {
     "data": {
      "text/plain": [
       "3.6912141790747937"
      ]
     },
     "execution_count": 19,
     "metadata": {},
     "output_type": "execute_result"
    }
   ],
   "source": [
    "mse = ev.regression_errors(predictions.final_grade, predictions.simple_lm_exam1, predictions)[\"MSE\"]\n",
    "mse"
   ]
  },
  {
   "cell_type": "code",
   "execution_count": 20,
   "metadata": {},
   "outputs": [
    {
     "data": {
      "text/plain": [
       "1.921253283425898"
      ]
     },
     "execution_count": 20,
     "metadata": {},
     "output_type": "execute_result"
    }
   ],
   "source": [
    "rmse = math.sqrt(mse)\n",
    "rmse"
   ]
  },
  {
   "cell_type": "code",
   "execution_count": 21,
   "metadata": {
    "scrolled": true
   },
   "outputs": [
    {
     "data": {
      "text/plain": [
       "16.466289799232563"
      ]
     },
     "execution_count": 21,
     "metadata": {},
     "output_type": "execute_result"
    }
   ],
   "source": [
    "mse = ev.regression_errors(predictions.final_grade, predictions.simple_lm_exam2, predictions)[\"MSE\"]\n",
    "mse"
   ]
  },
  {
   "cell_type": "code",
   "execution_count": 22,
   "metadata": {},
   "outputs": [
    {
     "data": {
      "text/plain": [
       "4.057867641906592"
      ]
     },
     "execution_count": 22,
     "metadata": {},
     "output_type": "execute_result"
    }
   ],
   "source": [
    "rmse = math.sqrt(mse)\n",
    "rmse"
   ]
  },
  {
   "cell_type": "markdown",
   "metadata": {},
   "source": [
    "- Visualize the residuals. Create a seperate visualization for each model."
   ]
  },
  {
   "cell_type": "code",
   "execution_count": 23,
   "metadata": {},
   "outputs": [
    {
     "data": {
      "text/html": [
       "<div>\n",
       "<style scoped>\n",
       "    .dataframe tbody tr th:only-of-type {\n",
       "        vertical-align: middle;\n",
       "    }\n",
       "\n",
       "    .dataframe tbody tr th {\n",
       "        vertical-align: top;\n",
       "    }\n",
       "\n",
       "    .dataframe thead th {\n",
       "        text-align: right;\n",
       "    }\n",
       "</style>\n",
       "<table border=\"1\" class=\"dataframe\">\n",
       "  <thead>\n",
       "    <tr style=\"text-align: right;\">\n",
       "      <th></th>\n",
       "      <th>final_grade</th>\n",
       "      <th>simple_lm_exam1</th>\n",
       "      <th>simple_lm_exam2</th>\n",
       "      <th>baseline</th>\n",
       "    </tr>\n",
       "  </thead>\n",
       "  <tbody>\n",
       "    <tr>\n",
       "      <th>78</th>\n",
       "      <td>96</td>\n",
       "      <td>97.833265</td>\n",
       "      <td>93.986763</td>\n",
       "      <td>81.518519</td>\n",
       "    </tr>\n",
       "    <tr>\n",
       "      <th>37</th>\n",
       "      <td>65</td>\n",
       "      <td>65.436309</td>\n",
       "      <td>69.592372</td>\n",
       "      <td>81.518519</td>\n",
       "    </tr>\n",
       "    <tr>\n",
       "      <th>38</th>\n",
       "      <td>72</td>\n",
       "      <td>75.230737</td>\n",
       "      <td>79.350128</td>\n",
       "      <td>81.518519</td>\n",
       "    </tr>\n",
       "    <tr>\n",
       "      <th>25</th>\n",
       "      <td>72</td>\n",
       "      <td>75.230737</td>\n",
       "      <td>79.350128</td>\n",
       "      <td>81.518519</td>\n",
       "    </tr>\n",
       "    <tr>\n",
       "      <th>103</th>\n",
       "      <td>72</td>\n",
       "      <td>75.230737</td>\n",
       "      <td>79.350128</td>\n",
       "      <td>81.518519</td>\n",
       "    </tr>\n",
       "    <tr>\n",
       "      <th>...</th>\n",
       "      <td>...</td>\n",
       "      <td>...</td>\n",
       "      <td>...</td>\n",
       "      <td>...</td>\n",
       "    </tr>\n",
       "    <tr>\n",
       "      <th>36</th>\n",
       "      <td>68</td>\n",
       "      <td>66.189726</td>\n",
       "      <td>69.592372</td>\n",
       "      <td>81.518519</td>\n",
       "    </tr>\n",
       "    <tr>\n",
       "      <th>66</th>\n",
       "      <td>95</td>\n",
       "      <td>96.326429</td>\n",
       "      <td>96.914090</td>\n",
       "      <td>81.518519</td>\n",
       "    </tr>\n",
       "    <tr>\n",
       "      <th>17</th>\n",
       "      <td>97</td>\n",
       "      <td>92.559342</td>\n",
       "      <td>93.986763</td>\n",
       "      <td>81.518519</td>\n",
       "    </tr>\n",
       "    <tr>\n",
       "      <th>102</th>\n",
       "      <td>65</td>\n",
       "      <td>65.436309</td>\n",
       "      <td>69.592372</td>\n",
       "      <td>81.518519</td>\n",
       "    </tr>\n",
       "    <tr>\n",
       "      <th>87</th>\n",
       "      <td>70</td>\n",
       "      <td>69.203397</td>\n",
       "      <td>74.471250</td>\n",
       "      <td>81.518519</td>\n",
       "    </tr>\n",
       "  </tbody>\n",
       "</table>\n",
       "<p>81 rows × 4 columns</p>\n",
       "</div>"
      ],
      "text/plain": [
       "     final_grade  simple_lm_exam1  simple_lm_exam2   baseline\n",
       "78            96        97.833265        93.986763  81.518519\n",
       "37            65        65.436309        69.592372  81.518519\n",
       "38            72        75.230737        79.350128  81.518519\n",
       "25            72        75.230737        79.350128  81.518519\n",
       "103           72        75.230737        79.350128  81.518519\n",
       "..           ...              ...              ...        ...\n",
       "36            68        66.189726        69.592372  81.518519\n",
       "66            95        96.326429        96.914090  81.518519\n",
       "17            97        92.559342        93.986763  81.518519\n",
       "102           65        65.436309        69.592372  81.518519\n",
       "87            70        69.203397        74.471250  81.518519\n",
       "\n",
       "[81 rows x 4 columns]"
      ]
     },
     "execution_count": 23,
     "metadata": {},
     "output_type": "execute_result"
    }
   ],
   "source": [
    "predictions[\"baseline\"] = train.final_grade.mean()\n",
    "predictions"
   ]
  },
  {
   "cell_type": "code",
   "execution_count": 24,
   "metadata": {},
   "outputs": [
    {
     "data": {
      "text/plain": [
       "<matplotlib.axes._subplots.AxesSubplot at 0x128e0bcd0>"
      ]
     },
     "execution_count": 24,
     "metadata": {},
     "output_type": "execute_result"
    },
    {
     "data": {
      "image/png": "[encoded data removed]",
      "text/plain": [
       "<Figure size 432x288 with 1 Axes>"
      ]
     },
     "metadata": {
      "needs_background": "light"
     },
     "output_type": "display_data"
    }
   ],
   "source": [
    "ev.plot_residuals(predictions.final_grade, predictions.simple_lm_exam1)"
   ]
  },
  {
   "cell_type": "code",
   "execution_count": 25,
   "metadata": {},
   "outputs": [
    {
     "data": {
      "text/plain": [
       "<matplotlib.axes._subplots.AxesSubplot at 0x129f9f2d0>"
      ]
     },
     "execution_count": 25,
     "metadata": {},
     "output_type": "execute_result"
    },
    {
     "data": {
      "image/png": "[encoded data removed]",
      "text/plain": [
       "<Figure size 432x288 with 1 Axes>"
      ]
     },
     "metadata": {
      "needs_background": "light"
     },
     "output_type": "display_data"
    }
   ],
   "source": [
    "ev.plot_residuals(predictions.final_grade, predictions.simple_lm_exam2)"
   ]
  },
  {
   "cell_type": "markdown",
   "metadata": {},
   "source": [
    "- **Bonus**: Combine the seperate visualizations for each model into a single visualization. Is this visual helpful?"
   ]
  },
  {
   "cell_type": "markdown",
   "metadata": {},
   "source": [
    "### 5. Create a model that uses exam 1 and exam 3 to predict final grade. How does this model compare to your previous ones?"
   ]
  },
  {
   "cell_type": "code",
   "execution_count": 26,
   "metadata": {},
   "outputs": [],
   "source": [
    "X = train[[\"exam1\", \"exam3\"]]"
   ]
  },
  {
   "cell_type": "code",
   "execution_count": 27,
   "metadata": {},
   "outputs": [
    {
     "data": {
      "text/html": [
       "<div>\n",
       "<style scoped>\n",
       "    .dataframe tbody tr th:only-of-type {\n",
       "        vertical-align: middle;\n",
       "    }\n",
       "\n",
       "    .dataframe tbody tr th {\n",
       "        vertical-align: top;\n",
       "    }\n",
       "\n",
       "    .dataframe thead th {\n",
       "        text-align: right;\n",
       "    }\n",
       "</style>\n",
       "<table border=\"1\" class=\"dataframe\">\n",
       "  <thead>\n",
       "    <tr style=\"text-align: right;\">\n",
       "      <th></th>\n",
       "      <th>final_grade</th>\n",
       "      <th>simple_lm_exam1</th>\n",
       "      <th>simple_lm_exam2</th>\n",
       "      <th>baseline</th>\n",
       "      <th>multiple_lm</th>\n",
       "    </tr>\n",
       "  </thead>\n",
       "  <tbody>\n",
       "    <tr>\n",
       "      <th>78</th>\n",
       "      <td>96</td>\n",
       "      <td>97.833265</td>\n",
       "      <td>93.986763</td>\n",
       "      <td>81.518519</td>\n",
       "      <td>97.329402</td>\n",
       "    </tr>\n",
       "    <tr>\n",
       "      <th>37</th>\n",
       "      <td>65</td>\n",
       "      <td>65.436309</td>\n",
       "      <td>69.592372</td>\n",
       "      <td>81.518519</td>\n",
       "      <td>66.487563</td>\n",
       "    </tr>\n",
       "    <tr>\n",
       "      <th>38</th>\n",
       "      <td>72</td>\n",
       "      <td>75.230737</td>\n",
       "      <td>79.350128</td>\n",
       "      <td>81.518519</td>\n",
       "      <td>74.952382</td>\n",
       "    </tr>\n",
       "    <tr>\n",
       "      <th>25</th>\n",
       "      <td>72</td>\n",
       "      <td>75.230737</td>\n",
       "      <td>79.350128</td>\n",
       "      <td>81.518519</td>\n",
       "      <td>74.952382</td>\n",
       "    </tr>\n",
       "    <tr>\n",
       "      <th>103</th>\n",
       "      <td>72</td>\n",
       "      <td>75.230737</td>\n",
       "      <td>79.350128</td>\n",
       "      <td>81.518519</td>\n",
       "      <td>74.952382</td>\n",
       "    </tr>\n",
       "  </tbody>\n",
       "</table>\n",
       "</div>"
      ],
      "text/plain": [
       "     final_grade  simple_lm_exam1  simple_lm_exam2   baseline  multiple_lm\n",
       "78            96        97.833265        93.986763  81.518519    97.329402\n",
       "37            65        65.436309        69.592372  81.518519    66.487563\n",
       "38            72        75.230737        79.350128  81.518519    74.952382\n",
       "25            72        75.230737        79.350128  81.518519    74.952382\n",
       "103           72        75.230737        79.350128  81.518519    74.952382"
      ]
     },
     "execution_count": 27,
     "metadata": {},
     "output_type": "execute_result"
    }
   ],
   "source": [
    "# 1. Make the object\n",
    "lm = sklearn.linear_model.LinearRegression()\n",
    "# 2. Fit the object\n",
    "lm.fit(X, y)\n",
    "# 3. Use the object\n",
    "predictions[\"multiple_lm\"] = lm.predict(X)\n",
    "predictions.head()"
   ]
  },
  {
   "cell_type": "code",
   "execution_count": 28,
   "metadata": {},
   "outputs": [
    {
     "data": {
      "text/plain": [
       "3.1254990433663594"
      ]
     },
     "execution_count": 28,
     "metadata": {},
     "output_type": "execute_result"
    }
   ],
   "source": [
    "mse = ev.regression_errors(predictions.final_grade, predictions.multiple_lm, predictions)[\"MSE\"]\n",
    "mse"
   ]
  },
  {
   "cell_type": "code",
   "execution_count": 29,
   "metadata": {},
   "outputs": [
    {
     "data": {
      "text/plain": [
       "1.7679080981109734"
      ]
     },
     "execution_count": 29,
     "metadata": {},
     "output_type": "execute_result"
    }
   ],
   "source": [
    "rmse = math.sqrt(mse)\n",
    "rmse"
   ]
  },
  {
   "cell_type": "code",
   "execution_count": 30,
   "metadata": {},
   "outputs": [
    {
     "data": {
      "text/plain": [
       "(array([0.58603708, 0.28211223]), 11.925032759024475)"
      ]
     },
     "execution_count": 30,
     "metadata": {},
     "output_type": "execute_result"
    }
   ],
   "source": [
    "lm.coef_, lm.intercept_"
   ]
  },
  {
   "cell_type": "code",
   "execution_count": 31,
   "metadata": {},
   "outputs": [
    {
     "name": "stdout",
     "output_type": "stream",
     "text": [
      "final_grade = 0.586 * exam1 + 0.282 * exam3 + 11.925\n"
     ]
    }
   ],
   "source": [
    "print(f\"final_grade = {lm.coef_[0]:.3f} * exam1 + {lm.coef_[1]:.3f} * exam3 + {lm.intercept_:.3f}\")"
   ]
  },
  {
   "cell_type": "markdown",
   "metadata": {},
   "source": [
    "### 6. Take your best preforming model and measure its performance on the test data set. How does performance differ between train and test?"
   ]
  },
  {
   "cell_type": "code",
   "execution_count": 32,
   "metadata": {},
   "outputs": [
    {
     "name": "stderr",
     "output_type": "stream",
     "text": [
      "/usr/local/anaconda3/lib/python3.7/site-packages/ipykernel_launcher.py:3: SettingWithCopyWarning: \n",
      "A value is trying to be set on a copy of a slice from a DataFrame.\n",
      "Try using .loc[row_indexer,col_indexer] = value instead\n",
      "\n",
      "See the caveats in the documentation: http://pandas.pydata.org/pandas-docs/stable/user_guide/indexing.html#returning-a-view-versus-a-copy\n",
      "  This is separate from the ipykernel package so we can avoid doing imports until\n"
     ]
    },
    {
     "data": {
      "text/html": [
       "<div>\n",
       "<style scoped>\n",
       "    .dataframe tbody tr th:only-of-type {\n",
       "        vertical-align: middle;\n",
       "    }\n",
       "\n",
       "    .dataframe tbody tr th {\n",
       "        vertical-align: top;\n",
       "    }\n",
       "\n",
       "    .dataframe thead th {\n",
       "        text-align: right;\n",
       "    }\n",
       "</style>\n",
       "<table border=\"1\" class=\"dataframe\">\n",
       "  <thead>\n",
       "    <tr style=\"text-align: right;\">\n",
       "      <th></th>\n",
       "      <th>exam1</th>\n",
       "      <th>exam2</th>\n",
       "      <th>exam3</th>\n",
       "      <th>final_grade</th>\n",
       "      <th>yhat</th>\n",
       "    </tr>\n",
       "  </thead>\n",
       "  <tbody>\n",
       "    <tr>\n",
       "      <th>48</th>\n",
       "      <td>62</td>\n",
       "      <td>70</td>\n",
       "      <td>79</td>\n",
       "      <td>70</td>\n",
       "      <td>70.546198</td>\n",
       "    </tr>\n",
       "    <tr>\n",
       "      <th>10</th>\n",
       "      <td>58</td>\n",
       "      <td>65</td>\n",
       "      <td>70</td>\n",
       "      <td>68</td>\n",
       "      <td>65.663039</td>\n",
       "    </tr>\n",
       "    <tr>\n",
       "      <th>0</th>\n",
       "      <td>100</td>\n",
       "      <td>90</td>\n",
       "      <td>95</td>\n",
       "      <td>96</td>\n",
       "      <td>97.329402</td>\n",
       "    </tr>\n",
       "    <tr>\n",
       "      <th>61</th>\n",
       "      <td>62</td>\n",
       "      <td>70</td>\n",
       "      <td>79</td>\n",
       "      <td>70</td>\n",
       "      <td>70.546198</td>\n",
       "    </tr>\n",
       "    <tr>\n",
       "      <th>100</th>\n",
       "      <td>62</td>\n",
       "      <td>70</td>\n",
       "      <td>79</td>\n",
       "      <td>70</td>\n",
       "      <td>70.546198</td>\n",
       "    </tr>\n",
       "    <tr>\n",
       "      <th>65</th>\n",
       "      <td>100</td>\n",
       "      <td>90</td>\n",
       "      <td>95</td>\n",
       "      <td>96</td>\n",
       "      <td>97.329402</td>\n",
       "    </tr>\n",
       "    <tr>\n",
       "      <th>4</th>\n",
       "      <td>93</td>\n",
       "      <td>90</td>\n",
       "      <td>96</td>\n",
       "      <td>97</td>\n",
       "      <td>93.509255</td>\n",
       "    </tr>\n",
       "    <tr>\n",
       "      <th>28</th>\n",
       "      <td>85</td>\n",
       "      <td>83</td>\n",
       "      <td>87</td>\n",
       "      <td>87</td>\n",
       "      <td>86.281948</td>\n",
       "    </tr>\n",
       "    <tr>\n",
       "      <th>80</th>\n",
       "      <td>85</td>\n",
       "      <td>83</td>\n",
       "      <td>87</td>\n",
       "      <td>87</td>\n",
       "      <td>86.281948</td>\n",
       "    </tr>\n",
       "    <tr>\n",
       "      <th>6</th>\n",
       "      <td>92</td>\n",
       "      <td>89</td>\n",
       "      <td>94</td>\n",
       "      <td>93</td>\n",
       "      <td>92.358994</td>\n",
       "    </tr>\n",
       "    <tr>\n",
       "      <th>93</th>\n",
       "      <td>85</td>\n",
       "      <td>83</td>\n",
       "      <td>87</td>\n",
       "      <td>87</td>\n",
       "      <td>86.281948</td>\n",
       "    </tr>\n",
       "    <tr>\n",
       "      <th>91</th>\n",
       "      <td>100</td>\n",
       "      <td>90</td>\n",
       "      <td>95</td>\n",
       "      <td>96</td>\n",
       "      <td>97.329402</td>\n",
       "    </tr>\n",
       "    <tr>\n",
       "      <th>86</th>\n",
       "      <td>70</td>\n",
       "      <td>65</td>\n",
       "      <td>78</td>\n",
       "      <td>77</td>\n",
       "      <td>74.952382</td>\n",
       "    </tr>\n",
       "    <tr>\n",
       "      <th>54</th>\n",
       "      <td>85</td>\n",
       "      <td>83</td>\n",
       "      <td>87</td>\n",
       "      <td>87</td>\n",
       "      <td>86.281948</td>\n",
       "    </tr>\n",
       "    <tr>\n",
       "      <th>97</th>\n",
       "      <td>92</td>\n",
       "      <td>89</td>\n",
       "      <td>94</td>\n",
       "      <td>93</td>\n",
       "      <td>92.358994</td>\n",
       "    </tr>\n",
       "    <tr>\n",
       "      <th>95</th>\n",
       "      <td>93</td>\n",
       "      <td>90</td>\n",
       "      <td>96</td>\n",
       "      <td>97</td>\n",
       "      <td>93.509255</td>\n",
       "    </tr>\n",
       "    <tr>\n",
       "      <th>44</th>\n",
       "      <td>79</td>\n",
       "      <td>70</td>\n",
       "      <td>85</td>\n",
       "      <td>81</td>\n",
       "      <td>82.201501</td>\n",
       "    </tr>\n",
       "    <tr>\n",
       "      <th>5</th>\n",
       "      <td>79</td>\n",
       "      <td>70</td>\n",
       "      <td>85</td>\n",
       "      <td>81</td>\n",
       "      <td>82.201501</td>\n",
       "    </tr>\n",
       "    <tr>\n",
       "      <th>7</th>\n",
       "      <td>73</td>\n",
       "      <td>70</td>\n",
       "      <td>75</td>\n",
       "      <td>76</td>\n",
       "      <td>75.864157</td>\n",
       "    </tr>\n",
       "    <tr>\n",
       "      <th>60</th>\n",
       "      <td>70</td>\n",
       "      <td>65</td>\n",
       "      <td>78</td>\n",
       "      <td>77</td>\n",
       "      <td>74.952382</td>\n",
       "    </tr>\n",
       "    <tr>\n",
       "      <th>77</th>\n",
       "      <td>70</td>\n",
       "      <td>75</td>\n",
       "      <td>78</td>\n",
       "      <td>72</td>\n",
       "      <td>74.952382</td>\n",
       "    </tr>\n",
       "  </tbody>\n",
       "</table>\n",
       "</div>"
      ],
      "text/plain": [
       "     exam1  exam2  exam3  final_grade       yhat\n",
       "48      62     70     79           70  70.546198\n",
       "10      58     65     70           68  65.663039\n",
       "0      100     90     95           96  97.329402\n",
       "61      62     70     79           70  70.546198\n",
       "100     62     70     79           70  70.546198\n",
       "65     100     90     95           96  97.329402\n",
       "4       93     90     96           97  93.509255\n",
       "28      85     83     87           87  86.281948\n",
       "80      85     83     87           87  86.281948\n",
       "6       92     89     94           93  92.358994\n",
       "93      85     83     87           87  86.281948\n",
       "91     100     90     95           96  97.329402\n",
       "86      70     65     78           77  74.952382\n",
       "54      85     83     87           87  86.281948\n",
       "97      92     89     94           93  92.358994\n",
       "95      93     90     96           97  93.509255\n",
       "44      79     70     85           81  82.201501\n",
       "5       79     70     85           81  82.201501\n",
       "7       73     70     75           76  75.864157\n",
       "60      70     65     78           77  74.952382\n",
       "77      70     75     78           72  74.952382"
      ]
     },
     "execution_count": 32,
     "metadata": {},
     "output_type": "execute_result"
    }
   ],
   "source": [
    "X_test = test[[\"exam1\", \"exam3\"]]\n",
    "\n",
    "test[\"yhat\"] = lm.predict(X_test)\n",
    "test"
   ]
  },
  {
   "cell_type": "code",
   "execution_count": 33,
   "metadata": {},
   "outputs": [
    {
     "data": {
      "text/plain": [
       "2.805751791214749"
      ]
     },
     "execution_count": 33,
     "metadata": {},
     "output_type": "execute_result"
    }
   ],
   "source": [
    "mse = ev.regression_errors(test.final_grade, test.yhat, test)[\"MSE\"]\n",
    "mse"
   ]
  },
  {
   "cell_type": "code",
   "execution_count": 34,
   "metadata": {},
   "outputs": [
    {
     "data": {
      "text/plain": [
       "1.6750378476962093"
      ]
     },
     "execution_count": 34,
     "metadata": {},
     "output_type": "execute_result"
    }
   ],
   "source": [
    "rmse = math.sqrt(mse)\n",
    "rmse"
   ]
  },
  {
   "cell_type": "markdown",
   "metadata": {},
   "source": [
    "---\n",
    "### 1. Run all your previous scripts that acquired, prepared, split, and scaled the telco churn data."
   ]
  },
  {
   "cell_type": "code",
   "execution_count": 35,
   "metadata": {},
   "outputs": [],
   "source": [
    "# How should pandas output float numbers?\n",
    "pd.options.display.float_format = '{:.3f}'.format"
   ]
  },
  {
   "cell_type": "code",
   "execution_count": 36,
   "metadata": {},
   "outputs": [
    {
     "name": "stderr",
     "output_type": "stream",
     "text": [
      "/Users/alechartman/codeup-data-science/ds-methodologies-exercises/regression/wrangle.py:36: SettingWithCopyWarning: \n",
      "A value is trying to be set on a copy of a slice from a DataFrame.\n",
      "Try using .loc[row_indexer,col_indexer] = value instead\n",
      "\n",
      "See the caveats in the documentation: http://pandas.pydata.org/pandas-docs/stable/user_guide/indexing.html#returning-a-view-versus-a-copy\n",
      "  df[\"total_charges\"] = df.total_charges.astype(\"float\")\n"
     ]
    },
    {
     "data": {
      "text/html": [
       "<div>\n",
       "<style scoped>\n",
       "    .dataframe tbody tr th:only-of-type {\n",
       "        vertical-align: middle;\n",
       "    }\n",
       "\n",
       "    .dataframe tbody tr th {\n",
       "        vertical-align: top;\n",
       "    }\n",
       "\n",
       "    .dataframe thead th {\n",
       "        text-align: right;\n",
       "    }\n",
       "</style>\n",
       "<table border=\"1\" class=\"dataframe\">\n",
       "  <thead>\n",
       "    <tr style=\"text-align: right;\">\n",
       "      <th></th>\n",
       "      <th>customer_id</th>\n",
       "      <th>monthly_charges</th>\n",
       "      <th>tenure</th>\n",
       "      <th>total_charges</th>\n",
       "    </tr>\n",
       "  </thead>\n",
       "  <tbody>\n",
       "    <tr>\n",
       "      <th>0</th>\n",
       "      <td>0013-SMEOE</td>\n",
       "      <td>109.700</td>\n",
       "      <td>71</td>\n",
       "      <td>7904.250</td>\n",
       "    </tr>\n",
       "    <tr>\n",
       "      <th>1</th>\n",
       "      <td>0014-BMAQU</td>\n",
       "      <td>84.650</td>\n",
       "      <td>63</td>\n",
       "      <td>5377.800</td>\n",
       "    </tr>\n",
       "    <tr>\n",
       "      <th>2</th>\n",
       "      <td>0016-QLJIS</td>\n",
       "      <td>90.450</td>\n",
       "      <td>65</td>\n",
       "      <td>5957.900</td>\n",
       "    </tr>\n",
       "    <tr>\n",
       "      <th>3</th>\n",
       "      <td>0017-DINOC</td>\n",
       "      <td>45.200</td>\n",
       "      <td>54</td>\n",
       "      <td>2460.550</td>\n",
       "    </tr>\n",
       "    <tr>\n",
       "      <th>4</th>\n",
       "      <td>0017-IUDMW</td>\n",
       "      <td>116.800</td>\n",
       "      <td>72</td>\n",
       "      <td>8456.750</td>\n",
       "    </tr>\n",
       "    <tr>\n",
       "      <th>...</th>\n",
       "      <td>...</td>\n",
       "      <td>...</td>\n",
       "      <td>...</td>\n",
       "      <td>...</td>\n",
       "    </tr>\n",
       "    <tr>\n",
       "      <th>1690</th>\n",
       "      <td>9964-WBQDJ</td>\n",
       "      <td>24.400</td>\n",
       "      <td>71</td>\n",
       "      <td>1725.400</td>\n",
       "    </tr>\n",
       "    <tr>\n",
       "      <th>1691</th>\n",
       "      <td>9972-EWRJS</td>\n",
       "      <td>19.250</td>\n",
       "      <td>67</td>\n",
       "      <td>1372.900</td>\n",
       "    </tr>\n",
       "    <tr>\n",
       "      <th>1692</th>\n",
       "      <td>9975-GPKZU</td>\n",
       "      <td>19.750</td>\n",
       "      <td>46</td>\n",
       "      <td>856.500</td>\n",
       "    </tr>\n",
       "    <tr>\n",
       "      <th>1693</th>\n",
       "      <td>9993-LHIEB</td>\n",
       "      <td>67.850</td>\n",
       "      <td>67</td>\n",
       "      <td>4627.650</td>\n",
       "    </tr>\n",
       "    <tr>\n",
       "      <th>1694</th>\n",
       "      <td>9995-HOTOH</td>\n",
       "      <td>59.000</td>\n",
       "      <td>63</td>\n",
       "      <td>3707.600</td>\n",
       "    </tr>\n",
       "  </tbody>\n",
       "</table>\n",
       "<p>1685 rows × 4 columns</p>\n",
       "</div>"
      ],
      "text/plain": [
       "     customer_id  monthly_charges  tenure  total_charges\n",
       "0     0013-SMEOE          109.700      71       7904.250\n",
       "1     0014-BMAQU           84.650      63       5377.800\n",
       "2     0016-QLJIS           90.450      65       5957.900\n",
       "3     0017-DINOC           45.200      54       2460.550\n",
       "4     0017-IUDMW          116.800      72       8456.750\n",
       "...          ...              ...     ...            ...\n",
       "1690  9964-WBQDJ           24.400      71       1725.400\n",
       "1691  9972-EWRJS           19.250      67       1372.900\n",
       "1692  9975-GPKZU           19.750      46        856.500\n",
       "1693  9993-LHIEB           67.850      67       4627.650\n",
       "1694  9995-HOTOH           59.000      63       3707.600\n",
       "\n",
       "[1685 rows x 4 columns]"
      ]
     },
     "execution_count": 36,
     "metadata": {},
     "output_type": "execute_result"
    }
   ],
   "source": [
    "df = wr.wrangle_telco()\n",
    "df"
   ]
  },
  {
   "cell_type": "code",
   "execution_count": 37,
   "metadata": {},
   "outputs": [
    {
     "data": {
      "text/html": [
       "<div>\n",
       "<style scoped>\n",
       "    .dataframe tbody tr th:only-of-type {\n",
       "        vertical-align: middle;\n",
       "    }\n",
       "\n",
       "    .dataframe tbody tr th {\n",
       "        vertical-align: top;\n",
       "    }\n",
       "\n",
       "    .dataframe thead th {\n",
       "        text-align: right;\n",
       "    }\n",
       "</style>\n",
       "<table border=\"1\" class=\"dataframe\">\n",
       "  <thead>\n",
       "    <tr style=\"text-align: right;\">\n",
       "      <th></th>\n",
       "      <th>monthly_charges</th>\n",
       "      <th>tenure</th>\n",
       "      <th>total_charges</th>\n",
       "    </tr>\n",
       "  </thead>\n",
       "  <tbody>\n",
       "    <tr>\n",
       "      <th>0</th>\n",
       "      <td>109.700</td>\n",
       "      <td>71</td>\n",
       "      <td>7904.250</td>\n",
       "    </tr>\n",
       "    <tr>\n",
       "      <th>1</th>\n",
       "      <td>84.650</td>\n",
       "      <td>63</td>\n",
       "      <td>5377.800</td>\n",
       "    </tr>\n",
       "    <tr>\n",
       "      <th>2</th>\n",
       "      <td>90.450</td>\n",
       "      <td>65</td>\n",
       "      <td>5957.900</td>\n",
       "    </tr>\n",
       "    <tr>\n",
       "      <th>3</th>\n",
       "      <td>45.200</td>\n",
       "      <td>54</td>\n",
       "      <td>2460.550</td>\n",
       "    </tr>\n",
       "    <tr>\n",
       "      <th>4</th>\n",
       "      <td>116.800</td>\n",
       "      <td>72</td>\n",
       "      <td>8456.750</td>\n",
       "    </tr>\n",
       "    <tr>\n",
       "      <th>...</th>\n",
       "      <td>...</td>\n",
       "      <td>...</td>\n",
       "      <td>...</td>\n",
       "    </tr>\n",
       "    <tr>\n",
       "      <th>1690</th>\n",
       "      <td>24.400</td>\n",
       "      <td>71</td>\n",
       "      <td>1725.400</td>\n",
       "    </tr>\n",
       "    <tr>\n",
       "      <th>1691</th>\n",
       "      <td>19.250</td>\n",
       "      <td>67</td>\n",
       "      <td>1372.900</td>\n",
       "    </tr>\n",
       "    <tr>\n",
       "      <th>1692</th>\n",
       "      <td>19.750</td>\n",
       "      <td>46</td>\n",
       "      <td>856.500</td>\n",
       "    </tr>\n",
       "    <tr>\n",
       "      <th>1693</th>\n",
       "      <td>67.850</td>\n",
       "      <td>67</td>\n",
       "      <td>4627.650</td>\n",
       "    </tr>\n",
       "    <tr>\n",
       "      <th>1694</th>\n",
       "      <td>59.000</td>\n",
       "      <td>63</td>\n",
       "      <td>3707.600</td>\n",
       "    </tr>\n",
       "  </tbody>\n",
       "</table>\n",
       "<p>1685 rows × 3 columns</p>\n",
       "</div>"
      ],
      "text/plain": [
       "      monthly_charges  tenure  total_charges\n",
       "0             109.700      71       7904.250\n",
       "1              84.650      63       5377.800\n",
       "2              90.450      65       5957.900\n",
       "3              45.200      54       2460.550\n",
       "4             116.800      72       8456.750\n",
       "...               ...     ...            ...\n",
       "1690           24.400      71       1725.400\n",
       "1691           19.250      67       1372.900\n",
       "1692           19.750      46        856.500\n",
       "1693           67.850      67       4627.650\n",
       "1694           59.000      63       3707.600\n",
       "\n",
       "[1685 rows x 3 columns]"
      ]
     },
     "execution_count": 37,
     "metadata": {},
     "output_type": "execute_result"
    }
   ],
   "source": [
    "df.drop(columns=\"customer_id\", inplace=True)\n",
    "df"
   ]
  },
  {
   "cell_type": "code",
   "execution_count": 38,
   "metadata": {},
   "outputs": [],
   "source": [
    "train, test = ss.split_my_data(df)"
   ]
  },
  {
   "cell_type": "code",
   "execution_count": 39,
   "metadata": {},
   "outputs": [
    {
     "data": {
      "text/plain": [
       "(1348, 3)"
      ]
     },
     "execution_count": 39,
     "metadata": {},
     "output_type": "execute_result"
    }
   ],
   "source": [
    "train.shape"
   ]
  },
  {
   "cell_type": "code",
   "execution_count": 40,
   "metadata": {},
   "outputs": [
    {
     "data": {
      "text/plain": [
       "(337, 3)"
      ]
     },
     "execution_count": 40,
     "metadata": {},
     "output_type": "execute_result"
    }
   ],
   "source": [
    "test.shape"
   ]
  },
  {
   "cell_type": "code",
   "execution_count": 41,
   "metadata": {},
   "outputs": [],
   "source": [
    "X_train = train[[\"monthly_charges\", \"tenure\"]]\n",
    "X_test = test[[\"monthly_charges\", \"tenure\"]]\n",
    "y_train = train[[\"total_charges\"]]\n",
    "y_test = test[[\"total_charges\"]]"
   ]
  },
  {
   "cell_type": "code",
   "execution_count": 42,
   "metadata": {},
   "outputs": [],
   "source": [
    "# scaler, X_train_scaled, X_test_scaled = ss.min_max_scaler(X_train, X_test)\n"
   ]
  },
  {
   "cell_type": "code",
   "execution_count": 43,
   "metadata": {},
   "outputs": [],
   "source": [
    "# scaler"
   ]
  },
  {
   "cell_type": "code",
   "execution_count": 44,
   "metadata": {},
   "outputs": [],
   "source": [
    "# X_train_scaled.head()"
   ]
  },
  {
   "cell_type": "code",
   "execution_count": 45,
   "metadata": {},
   "outputs": [],
   "source": [
    "# X_test_scaled.head()"
   ]
  },
  {
   "cell_type": "markdown",
   "metadata": {},
   "source": [
    "### 2. Fit 3 different linear models to your data, one with just tenure, one with just monthly_charges, and one with both."
   ]
  },
  {
   "cell_type": "code",
   "execution_count": 46,
   "metadata": {},
   "outputs": [
    {
     "data": {
      "text/html": [
       "<div>\n",
       "<style scoped>\n",
       "    .dataframe tbody tr th:only-of-type {\n",
       "        vertical-align: middle;\n",
       "    }\n",
       "\n",
       "    .dataframe tbody tr th {\n",
       "        vertical-align: top;\n",
       "    }\n",
       "\n",
       "    .dataframe thead th {\n",
       "        text-align: right;\n",
       "    }\n",
       "</style>\n",
       "<table border=\"1\" class=\"dataframe\">\n",
       "  <thead>\n",
       "    <tr style=\"text-align: right;\">\n",
       "      <th></th>\n",
       "      <th>total_charges</th>\n",
       "    </tr>\n",
       "  </thead>\n",
       "  <tbody>\n",
       "    <tr>\n",
       "      <th>893</th>\n",
       "      <td>6293.750</td>\n",
       "    </tr>\n",
       "    <tr>\n",
       "      <th>324</th>\n",
       "      <td>1292.650</td>\n",
       "    </tr>\n",
       "    <tr>\n",
       "      <th>1237</th>\n",
       "      <td>159.350</td>\n",
       "    </tr>\n",
       "    <tr>\n",
       "      <th>421</th>\n",
       "      <td>5638.300</td>\n",
       "    </tr>\n",
       "    <tr>\n",
       "      <th>793</th>\n",
       "      <td>828.850</td>\n",
       "    </tr>\n",
       "    <tr>\n",
       "      <th>...</th>\n",
       "      <td>...</td>\n",
       "    </tr>\n",
       "    <tr>\n",
       "      <th>1268</th>\n",
       "      <td>5589.450</td>\n",
       "    </tr>\n",
       "    <tr>\n",
       "      <th>1452</th>\n",
       "      <td>746.050</td>\n",
       "    </tr>\n",
       "    <tr>\n",
       "      <th>1225</th>\n",
       "      <td>1297.350</td>\n",
       "    </tr>\n",
       "    <tr>\n",
       "      <th>400</th>\n",
       "      <td>6310.900</td>\n",
       "    </tr>\n",
       "    <tr>\n",
       "      <th>487</th>\n",
       "      <td>467.700</td>\n",
       "    </tr>\n",
       "  </tbody>\n",
       "</table>\n",
       "<p>1348 rows × 1 columns</p>\n",
       "</div>"
      ],
      "text/plain": [
       "      total_charges\n",
       "893        6293.750\n",
       "324        1292.650\n",
       "1237        159.350\n",
       "421        5638.300\n",
       "793         828.850\n",
       "...             ...\n",
       "1268       5589.450\n",
       "1452        746.050\n",
       "1225       1297.350\n",
       "400        6310.900\n",
       "487         467.700\n",
       "\n",
       "[1348 rows x 1 columns]"
      ]
     },
     "execution_count": 46,
     "metadata": {},
     "output_type": "execute_result"
    }
   ],
   "source": [
    "predictions = pd.DataFrame({\n",
    "    \"total_charges\": train.total_charges\n",
    "})\n",
    "predictions"
   ]
  },
  {
   "cell_type": "code",
   "execution_count": 47,
   "metadata": {},
   "outputs": [
    {
     "data": {
      "text/html": [
       "<div>\n",
       "<style scoped>\n",
       "    .dataframe tbody tr th:only-of-type {\n",
       "        vertical-align: middle;\n",
       "    }\n",
       "\n",
       "    .dataframe tbody tr th {\n",
       "        vertical-align: top;\n",
       "    }\n",
       "\n",
       "    .dataframe thead th {\n",
       "        text-align: right;\n",
       "    }\n",
       "</style>\n",
       "<table border=\"1\" class=\"dataframe\">\n",
       "  <thead>\n",
       "    <tr style=\"text-align: right;\">\n",
       "      <th></th>\n",
       "      <th>total_charges</th>\n",
       "      <th>total_charges ~ tenure</th>\n",
       "    </tr>\n",
       "  </thead>\n",
       "  <tbody>\n",
       "    <tr>\n",
       "      <th>893</th>\n",
       "      <td>6293.750</td>\n",
       "      <td>5005.009</td>\n",
       "    </tr>\n",
       "    <tr>\n",
       "      <th>324</th>\n",
       "      <td>1292.650</td>\n",
       "      <td>4730.447</td>\n",
       "    </tr>\n",
       "    <tr>\n",
       "      <th>1237</th>\n",
       "      <td>159.350</td>\n",
       "      <td>-760.786</td>\n",
       "    </tr>\n",
       "    <tr>\n",
       "      <th>421</th>\n",
       "      <td>5638.300</td>\n",
       "      <td>4089.803</td>\n",
       "    </tr>\n",
       "    <tr>\n",
       "      <th>793</th>\n",
       "      <td>828.850</td>\n",
       "      <td>2350.913</td>\n",
       "    </tr>\n",
       "  </tbody>\n",
       "</table>\n",
       "</div>"
      ],
      "text/plain": [
       "      total_charges  total_charges ~ tenure\n",
       "893        6293.750                5005.009\n",
       "324        1292.650                4730.447\n",
       "1237        159.350                -760.786\n",
       "421        5638.300                4089.803\n",
       "793         828.850                2350.913"
      ]
     },
     "execution_count": 47,
     "metadata": {},
     "output_type": "execute_result"
    }
   ],
   "source": [
    "X = train[[\"tenure\"]]\n",
    "y = train.total_charges\n",
    "\n",
    "# 1. Make the object\n",
    "lm = sklearn.linear_model.LinearRegression()\n",
    "# 2. Fit the object\n",
    "lm.fit(X, y)\n",
    "# 3. Use the object\n",
    "predictions[\"total_charges ~ tenure\"] = lm.predict(X)\n",
    "predictions.head()"
   ]
  },
  {
   "cell_type": "code",
   "execution_count": 48,
   "metadata": {},
   "outputs": [
    {
     "data": {
      "text/plain": [
       "(array([91.52054695]), -1492.9500199633858)"
      ]
     },
     "execution_count": 48,
     "metadata": {},
     "output_type": "execute_result"
    }
   ],
   "source": [
    "lm.coef_, lm.intercept_"
   ]
  },
  {
   "cell_type": "code",
   "execution_count": 49,
   "metadata": {},
   "outputs": [
    {
     "name": "stdout",
     "output_type": "stream",
     "text": [
      "total_charges = 91.521 * tenure + -1492.950\n"
     ]
    }
   ],
   "source": [
    "print(f\"total_charges = {lm.coef_[0]:.3f} * tenure + {lm.intercept_:.3f}\")"
   ]
  },
  {
   "cell_type": "code",
   "execution_count": 50,
   "metadata": {},
   "outputs": [
    {
     "data": {
      "text/html": [
       "<div>\n",
       "<style scoped>\n",
       "    .dataframe tbody tr th:only-of-type {\n",
       "        vertical-align: middle;\n",
       "    }\n",
       "\n",
       "    .dataframe tbody tr th {\n",
       "        vertical-align: top;\n",
       "    }\n",
       "\n",
       "    .dataframe thead th {\n",
       "        text-align: right;\n",
       "    }\n",
       "</style>\n",
       "<table border=\"1\" class=\"dataframe\">\n",
       "  <thead>\n",
       "    <tr style=\"text-align: right;\">\n",
       "      <th></th>\n",
       "      <th>total_charges</th>\n",
       "      <th>total_charges ~ tenure</th>\n",
       "      <th>total_charges ~ monthly_charges</th>\n",
       "    </tr>\n",
       "  </thead>\n",
       "  <tbody>\n",
       "    <tr>\n",
       "      <th>893</th>\n",
       "      <td>6293.750</td>\n",
       "      <td>5005.009</td>\n",
       "      <td>5830.282</td>\n",
       "    </tr>\n",
       "    <tr>\n",
       "      <th>324</th>\n",
       "      <td>1292.650</td>\n",
       "      <td>4730.447</td>\n",
       "      <td>831.052</td>\n",
       "    </tr>\n",
       "    <tr>\n",
       "      <th>1237</th>\n",
       "      <td>159.350</td>\n",
       "      <td>-760.786</td>\n",
       "      <td>841.511</td>\n",
       "    </tr>\n",
       "    <tr>\n",
       "      <th>421</th>\n",
       "      <td>5638.300</td>\n",
       "      <td>4089.803</td>\n",
       "      <td>6042.941</td>\n",
       "    </tr>\n",
       "    <tr>\n",
       "      <th>793</th>\n",
       "      <td>828.850</td>\n",
       "      <td>2350.913</td>\n",
       "      <td>925.180</td>\n",
       "    </tr>\n",
       "  </tbody>\n",
       "</table>\n",
       "</div>"
      ],
      "text/plain": [
       "      total_charges  total_charges ~ tenure  total_charges ~ monthly_charges\n",
       "893        6293.750                5005.009                         5830.282\n",
       "324        1292.650                4730.447                          831.052\n",
       "1237        159.350                -760.786                          841.511\n",
       "421        5638.300                4089.803                         6042.941\n",
       "793         828.850                2350.913                          925.180"
      ]
     },
     "execution_count": 50,
     "metadata": {},
     "output_type": "execute_result"
    }
   ],
   "source": [
    "X = train[[\"monthly_charges\"]]\n",
    "y = train.total_charges\n",
    "\n",
    "# 1. Make the object\n",
    "lm = sklearn.linear_model.LinearRegression()\n",
    "# 2. Fit the object\n",
    "lm.fit(X, y)\n",
    "# 3. Use the object\n",
    "predictions[\"total_charges ~ monthly_charges\"] = lm.predict(X)\n",
    "predictions.head()"
   ]
  },
  {
   "cell_type": "code",
   "execution_count": 51,
   "metadata": {},
   "outputs": [
    {
     "data": {
      "text/plain": [
       "(array([69.72425792]), -518.1121050349211)"
      ]
     },
     "execution_count": 51,
     "metadata": {},
     "output_type": "execute_result"
    }
   ],
   "source": [
    "lm.coef_, lm.intercept_"
   ]
  },
  {
   "cell_type": "code",
   "execution_count": 52,
   "metadata": {},
   "outputs": [
    {
     "name": "stdout",
     "output_type": "stream",
     "text": [
      "total_charges = 69.724 * monthly_charges + -518.112\n"
     ]
    }
   ],
   "source": [
    "print(f\"total_charges = {lm.coef_[0]:.3f} * monthly_charges + {lm.intercept_:.3f}\")\n"
   ]
  },
  {
   "cell_type": "code",
   "execution_count": 53,
   "metadata": {},
   "outputs": [
    {
     "data": {
      "text/html": [
       "<div>\n",
       "<style scoped>\n",
       "    .dataframe tbody tr th:only-of-type {\n",
       "        vertical-align: middle;\n",
       "    }\n",
       "\n",
       "    .dataframe tbody tr th {\n",
       "        vertical-align: top;\n",
       "    }\n",
       "\n",
       "    .dataframe thead th {\n",
       "        text-align: right;\n",
       "    }\n",
       "</style>\n",
       "<table border=\"1\" class=\"dataframe\">\n",
       "  <thead>\n",
       "    <tr style=\"text-align: right;\">\n",
       "      <th></th>\n",
       "      <th>total_charges</th>\n",
       "      <th>total_charges ~ tenure</th>\n",
       "      <th>total_charges ~ monthly_charges</th>\n",
       "      <th>total_charges ~ monthly_charges + tenure</th>\n",
       "    </tr>\n",
       "  </thead>\n",
       "  <tbody>\n",
       "    <tr>\n",
       "      <th>893</th>\n",
       "      <td>6293.750</td>\n",
       "      <td>5005.009</td>\n",
       "      <td>5830.282</td>\n",
       "      <td>6148.602</td>\n",
       "    </tr>\n",
       "    <tr>\n",
       "      <th>324</th>\n",
       "      <td>1292.650</td>\n",
       "      <td>4730.447</td>\n",
       "      <td>831.052</td>\n",
       "      <td>1646.762</td>\n",
       "    </tr>\n",
       "    <tr>\n",
       "      <th>1237</th>\n",
       "      <td>159.350</td>\n",
       "      <td>-760.786</td>\n",
       "      <td>841.511</td>\n",
       "      <td>-833.323</td>\n",
       "    </tr>\n",
       "    <tr>\n",
       "      <th>421</th>\n",
       "      <td>5638.300</td>\n",
       "      <td>4089.803</td>\n",
       "      <td>6042.941</td>\n",
       "      <td>5919.934</td>\n",
       "    </tr>\n",
       "    <tr>\n",
       "      <th>793</th>\n",
       "      <td>828.850</td>\n",
       "      <td>2350.913</td>\n",
       "      <td>925.180</td>\n",
       "      <td>650.510</td>\n",
       "    </tr>\n",
       "  </tbody>\n",
       "</table>\n",
       "</div>"
      ],
      "text/plain": [
       "      total_charges  total_charges ~ tenure  total_charges ~ monthly_charges  \\\n",
       "893        6293.750                5005.009                         5830.282   \n",
       "324        1292.650                4730.447                          831.052   \n",
       "1237        159.350                -760.786                          841.511   \n",
       "421        5638.300                4089.803                         6042.941   \n",
       "793         828.850                2350.913                          925.180   \n",
       "\n",
       "      total_charges ~ monthly_charges + tenure  \n",
       "893                                   6148.602  \n",
       "324                                   1646.762  \n",
       "1237                                  -833.323  \n",
       "421                                   5919.934  \n",
       "793                                    650.510  "
      ]
     },
     "execution_count": 53,
     "metadata": {},
     "output_type": "execute_result"
    }
   ],
   "source": [
    "X = train[[\"monthly_charges\", \"tenure\"]]\n",
    "y = train.total_charges\n",
    "\n",
    "# 1. Make the object\n",
    "lm = sklearn.linear_model.LinearRegression()\n",
    "# 2. Fit the object\n",
    "lm.fit(X, y)\n",
    "# 3. Use the object\n",
    "predictions[\"total_charges ~ monthly_charges + tenure\"] = lm.predict(X)\n",
    "predictions.head()"
   ]
  },
  {
   "cell_type": "code",
   "execution_count": 54,
   "metadata": {},
   "outputs": [
    {
     "data": {
      "text/html": [
       "<div>\n",
       "<style scoped>\n",
       "    .dataframe tbody tr th:only-of-type {\n",
       "        vertical-align: middle;\n",
       "    }\n",
       "\n",
       "    .dataframe tbody tr th {\n",
       "        vertical-align: top;\n",
       "    }\n",
       "\n",
       "    .dataframe thead th {\n",
       "        text-align: right;\n",
       "    }\n",
       "</style>\n",
       "<table border=\"1\" class=\"dataframe\">\n",
       "  <thead>\n",
       "    <tr style=\"text-align: right;\">\n",
       "      <th></th>\n",
       "      <th>total_charges</th>\n",
       "      <th>total_charges ~ tenure</th>\n",
       "      <th>total_charges ~ monthly_charges</th>\n",
       "      <th>total_charges ~ monthly_charges + tenure</th>\n",
       "      <th>baseline</th>\n",
       "    </tr>\n",
       "  </thead>\n",
       "  <tbody>\n",
       "    <tr>\n",
       "      <th>893</th>\n",
       "      <td>6293.750</td>\n",
       "      <td>5005.009</td>\n",
       "      <td>5830.282</td>\n",
       "      <td>6148.602</td>\n",
       "      <td>3725.147</td>\n",
       "    </tr>\n",
       "    <tr>\n",
       "      <th>324</th>\n",
       "      <td>1292.650</td>\n",
       "      <td>4730.447</td>\n",
       "      <td>831.052</td>\n",
       "      <td>1646.762</td>\n",
       "      <td>3725.147</td>\n",
       "    </tr>\n",
       "    <tr>\n",
       "      <th>1237</th>\n",
       "      <td>159.350</td>\n",
       "      <td>-760.786</td>\n",
       "      <td>841.511</td>\n",
       "      <td>-833.323</td>\n",
       "      <td>3725.147</td>\n",
       "    </tr>\n",
       "    <tr>\n",
       "      <th>421</th>\n",
       "      <td>5638.300</td>\n",
       "      <td>4089.803</td>\n",
       "      <td>6042.941</td>\n",
       "      <td>5919.934</td>\n",
       "      <td>3725.147</td>\n",
       "    </tr>\n",
       "    <tr>\n",
       "      <th>793</th>\n",
       "      <td>828.850</td>\n",
       "      <td>2350.913</td>\n",
       "      <td>925.180</td>\n",
       "      <td>650.510</td>\n",
       "      <td>3725.147</td>\n",
       "    </tr>\n",
       "  </tbody>\n",
       "</table>\n",
       "</div>"
      ],
      "text/plain": [
       "      total_charges  total_charges ~ tenure  total_charges ~ monthly_charges  \\\n",
       "893        6293.750                5005.009                         5830.282   \n",
       "324        1292.650                4730.447                          831.052   \n",
       "1237        159.350                -760.786                          841.511   \n",
       "421        5638.300                4089.803                         6042.941   \n",
       "793         828.850                2350.913                          925.180   \n",
       "\n",
       "      total_charges ~ monthly_charges + tenure  baseline  \n",
       "893                                   6148.602  3725.147  \n",
       "324                                   1646.762  3725.147  \n",
       "1237                                  -833.323  3725.147  \n",
       "421                                   5919.934  3725.147  \n",
       "793                                    650.510  3725.147  "
      ]
     },
     "execution_count": 54,
     "metadata": {},
     "output_type": "execute_result"
    }
   ],
   "source": [
    "predictions[\"baseline\"] = predictions.total_charges.mean()\n",
    "predictions.head()"
   ]
  },
  {
   "cell_type": "code",
   "execution_count": 55,
   "metadata": {},
   "outputs": [
    {
     "data": {
      "text/plain": [
       "total_charges                                    0.000\n",
       "total_charges ~ tenure                     4013506.652\n",
       "total_charges ~ monthly_charges             695166.974\n",
       "total_charges ~ monthly_charges + tenure    252085.967\n",
       "baseline                                   6615479.974\n",
       "dtype: float64"
      ]
     },
     "execution_count": 55,
     "metadata": {},
     "output_type": "execute_result"
    }
   ],
   "source": [
    "predictions.apply(lambda c: sklearn.metrics.mean_squared_error(predictions.total_charges, c))"
   ]
  },
  {
   "cell_type": "code",
   "execution_count": 56,
   "metadata": {},
   "outputs": [
    {
     "data": {
      "text/html": [
       "<div>\n",
       "<style scoped>\n",
       "    .dataframe tbody tr th:only-of-type {\n",
       "        vertical-align: middle;\n",
       "    }\n",
       "\n",
       "    .dataframe tbody tr th {\n",
       "        vertical-align: top;\n",
       "    }\n",
       "\n",
       "    .dataframe thead th {\n",
       "        text-align: right;\n",
       "    }\n",
       "</style>\n",
       "<table border=\"1\" class=\"dataframe\">\n",
       "  <thead>\n",
       "    <tr style=\"text-align: right;\">\n",
       "      <th></th>\n",
       "      <th>tenure</th>\n",
       "      <th>monthly_charges</th>\n",
       "    </tr>\n",
       "  </thead>\n",
       "  <tbody>\n",
       "    <tr>\n",
       "      <th>893</th>\n",
       "      <td>71</td>\n",
       "      <td>91.050</td>\n",
       "    </tr>\n",
       "    <tr>\n",
       "      <th>324</th>\n",
       "      <td>68</td>\n",
       "      <td>19.350</td>\n",
       "    </tr>\n",
       "    <tr>\n",
       "      <th>1237</th>\n",
       "      <td>8</td>\n",
       "      <td>19.500</td>\n",
       "    </tr>\n",
       "    <tr>\n",
       "      <th>421</th>\n",
       "      <td>61</td>\n",
       "      <td>94.100</td>\n",
       "    </tr>\n",
       "    <tr>\n",
       "      <th>793</th>\n",
       "      <td>42</td>\n",
       "      <td>20.700</td>\n",
       "    </tr>\n",
       "    <tr>\n",
       "      <th>...</th>\n",
       "      <td>...</td>\n",
       "      <td>...</td>\n",
       "    </tr>\n",
       "    <tr>\n",
       "      <th>1268</th>\n",
       "      <td>70</td>\n",
       "      <td>79.600</td>\n",
       "    </tr>\n",
       "    <tr>\n",
       "      <th>1452</th>\n",
       "      <td>38</td>\n",
       "      <td>20.200</td>\n",
       "    </tr>\n",
       "    <tr>\n",
       "      <th>1225</th>\n",
       "      <td>62</td>\n",
       "      <td>20.450</td>\n",
       "    </tr>\n",
       "    <tr>\n",
       "      <th>400</th>\n",
       "      <td>71</td>\n",
       "      <td>90.100</td>\n",
       "    </tr>\n",
       "    <tr>\n",
       "      <th>487</th>\n",
       "      <td>19</td>\n",
       "      <td>24.900</td>\n",
       "    </tr>\n",
       "  </tbody>\n",
       "</table>\n",
       "<p>1348 rows × 2 columns</p>\n",
       "</div>"
      ],
      "text/plain": [
       "      tenure  monthly_charges\n",
       "893       71           91.050\n",
       "324       68           19.350\n",
       "1237       8           19.500\n",
       "421       61           94.100\n",
       "793       42           20.700\n",
       "...      ...              ...\n",
       "1268      70           79.600\n",
       "1452      38           20.200\n",
       "1225      62           20.450\n",
       "400       71           90.100\n",
       "487       19           24.900\n",
       "\n",
       "[1348 rows x 2 columns]"
      ]
     },
     "execution_count": 56,
     "metadata": {},
     "output_type": "execute_result"
    }
   ],
   "source": [
    "# RFE + PolynomialFeatures\n",
    "\n",
    "# 1. Create polynomial features\n",
    "# 2. Use RFE to determine which of the polynomial features are good\n",
    "# 3. Use the resulting features in our model\n",
    "\n",
    "X, y = train[[\"tenure\", \"monthly_charges\"]], train.total_charges\n",
    "X"
   ]
  },
  {
   "cell_type": "code",
   "execution_count": 57,
   "metadata": {},
   "outputs": [
    {
     "data": {
      "text/html": [
       "<div>\n",
       "<style scoped>\n",
       "    .dataframe tbody tr th:only-of-type {\n",
       "        vertical-align: middle;\n",
       "    }\n",
       "\n",
       "    .dataframe tbody tr th {\n",
       "        vertical-align: top;\n",
       "    }\n",
       "\n",
       "    .dataframe thead th {\n",
       "        text-align: right;\n",
       "    }\n",
       "</style>\n",
       "<table border=\"1\" class=\"dataframe\">\n",
       "  <thead>\n",
       "    <tr style=\"text-align: right;\">\n",
       "      <th></th>\n",
       "      <th>tenure</th>\n",
       "      <th>monthly_charges</th>\n",
       "      <th>tenure monthly_charges</th>\n",
       "    </tr>\n",
       "  </thead>\n",
       "  <tbody>\n",
       "    <tr>\n",
       "      <th>0</th>\n",
       "      <td>71.000</td>\n",
       "      <td>91.050</td>\n",
       "      <td>6464.550</td>\n",
       "    </tr>\n",
       "    <tr>\n",
       "      <th>1</th>\n",
       "      <td>68.000</td>\n",
       "      <td>19.350</td>\n",
       "      <td>1315.800</td>\n",
       "    </tr>\n",
       "    <tr>\n",
       "      <th>2</th>\n",
       "      <td>8.000</td>\n",
       "      <td>19.500</td>\n",
       "      <td>156.000</td>\n",
       "    </tr>\n",
       "    <tr>\n",
       "      <th>3</th>\n",
       "      <td>61.000</td>\n",
       "      <td>94.100</td>\n",
       "      <td>5740.100</td>\n",
       "    </tr>\n",
       "    <tr>\n",
       "      <th>4</th>\n",
       "      <td>42.000</td>\n",
       "      <td>20.700</td>\n",
       "      <td>869.400</td>\n",
       "    </tr>\n",
       "    <tr>\n",
       "      <th>...</th>\n",
       "      <td>...</td>\n",
       "      <td>...</td>\n",
       "      <td>...</td>\n",
       "    </tr>\n",
       "    <tr>\n",
       "      <th>1343</th>\n",
       "      <td>70.000</td>\n",
       "      <td>79.600</td>\n",
       "      <td>5572.000</td>\n",
       "    </tr>\n",
       "    <tr>\n",
       "      <th>1344</th>\n",
       "      <td>38.000</td>\n",
       "      <td>20.200</td>\n",
       "      <td>767.600</td>\n",
       "    </tr>\n",
       "    <tr>\n",
       "      <th>1345</th>\n",
       "      <td>62.000</td>\n",
       "      <td>20.450</td>\n",
       "      <td>1267.900</td>\n",
       "    </tr>\n",
       "    <tr>\n",
       "      <th>1346</th>\n",
       "      <td>71.000</td>\n",
       "      <td>90.100</td>\n",
       "      <td>6397.100</td>\n",
       "    </tr>\n",
       "    <tr>\n",
       "      <th>1347</th>\n",
       "      <td>19.000</td>\n",
       "      <td>24.900</td>\n",
       "      <td>473.100</td>\n",
       "    </tr>\n",
       "  </tbody>\n",
       "</table>\n",
       "<p>1348 rows × 3 columns</p>\n",
       "</div>"
      ],
      "text/plain": [
       "      tenure  monthly_charges  tenure monthly_charges\n",
       "0     71.000           91.050                6464.550\n",
       "1     68.000           19.350                1315.800\n",
       "2      8.000           19.500                 156.000\n",
       "3     61.000           94.100                5740.100\n",
       "4     42.000           20.700                 869.400\n",
       "...      ...              ...                     ...\n",
       "1343  70.000           79.600                5572.000\n",
       "1344  38.000           20.200                 767.600\n",
       "1345  62.000           20.450                1267.900\n",
       "1346  71.000           90.100                6397.100\n",
       "1347  19.000           24.900                 473.100\n",
       "\n",
       "[1348 rows x 3 columns]"
      ]
     },
     "execution_count": 57,
     "metadata": {},
     "output_type": "execute_result"
    }
   ],
   "source": [
    "poly = sklearn.preprocessing.PolynomialFeatures(degree=2, interaction_only=True, include_bias=False)\n",
    "poly.fit(X)\n",
    "X_poly = pd.DataFrame(poly.transform(X), columns=poly.get_feature_names(X.columns))\n",
    "X_poly"
   ]
  },
  {
   "cell_type": "code",
   "execution_count": 58,
   "metadata": {},
   "outputs": [
    {
     "data": {
      "text/html": [
       "<div>\n",
       "<style scoped>\n",
       "    .dataframe tbody tr th:only-of-type {\n",
       "        vertical-align: middle;\n",
       "    }\n",
       "\n",
       "    .dataframe tbody tr th {\n",
       "        vertical-align: top;\n",
       "    }\n",
       "\n",
       "    .dataframe thead th {\n",
       "        text-align: right;\n",
       "    }\n",
       "</style>\n",
       "<table border=\"1\" class=\"dataframe\">\n",
       "  <thead>\n",
       "    <tr style=\"text-align: right;\">\n",
       "      <th></th>\n",
       "      <th>tenure monthly_charges</th>\n",
       "    </tr>\n",
       "  </thead>\n",
       "  <tbody>\n",
       "    <tr>\n",
       "      <th>0</th>\n",
       "      <td>6464.550</td>\n",
       "    </tr>\n",
       "    <tr>\n",
       "      <th>1</th>\n",
       "      <td>1315.800</td>\n",
       "    </tr>\n",
       "    <tr>\n",
       "      <th>2</th>\n",
       "      <td>156.000</td>\n",
       "    </tr>\n",
       "    <tr>\n",
       "      <th>3</th>\n",
       "      <td>5740.100</td>\n",
       "    </tr>\n",
       "    <tr>\n",
       "      <th>4</th>\n",
       "      <td>869.400</td>\n",
       "    </tr>\n",
       "    <tr>\n",
       "      <th>...</th>\n",
       "      <td>...</td>\n",
       "    </tr>\n",
       "    <tr>\n",
       "      <th>1343</th>\n",
       "      <td>5572.000</td>\n",
       "    </tr>\n",
       "    <tr>\n",
       "      <th>1344</th>\n",
       "      <td>767.600</td>\n",
       "    </tr>\n",
       "    <tr>\n",
       "      <th>1345</th>\n",
       "      <td>1267.900</td>\n",
       "    </tr>\n",
       "    <tr>\n",
       "      <th>1346</th>\n",
       "      <td>6397.100</td>\n",
       "    </tr>\n",
       "    <tr>\n",
       "      <th>1347</th>\n",
       "      <td>473.100</td>\n",
       "    </tr>\n",
       "  </tbody>\n",
       "</table>\n",
       "<p>1348 rows × 1 columns</p>\n",
       "</div>"
      ],
      "text/plain": [
       "      tenure monthly_charges\n",
       "0                   6464.550\n",
       "1                   1315.800\n",
       "2                    156.000\n",
       "3                   5740.100\n",
       "4                    869.400\n",
       "...                      ...\n",
       "1343                5572.000\n",
       "1344                 767.600\n",
       "1345                1267.900\n",
       "1346                6397.100\n",
       "1347                 473.100\n",
       "\n",
       "[1348 rows x 1 columns]"
      ]
     },
     "execution_count": 58,
     "metadata": {},
     "output_type": "execute_result"
    }
   ],
   "source": [
    "lm = sklearn.linear_model.LinearRegression()\n",
    "rfe = sklearn.feature_selection.RFE(lm, 1)\n",
    "rfe.fit(X_poly, y)\n",
    "X_rfe = pd.DataFrame(rfe.transform(X_poly), columns=X_poly.columns[rfe.support_])\n",
    "X_rfe"
   ]
  },
  {
   "cell_type": "code",
   "execution_count": 59,
   "metadata": {},
   "outputs": [],
   "source": [
    "lm = sklearn.linear_model.LinearRegression().fit(X_rfe, y)\n",
    "predictions[\"total_charges ~ tenure:monthly_charges\"] = lm.predict(X_rfe)"
   ]
  },
  {
   "cell_type": "code",
   "execution_count": 60,
   "metadata": {},
   "outputs": [
    {
     "data": {
      "text/plain": [
       "total_charges                                    0.000\n",
       "total_charges ~ tenure                     4013506.652\n",
       "total_charges ~ monthly_charges             695166.974\n",
       "total_charges ~ monthly_charges + tenure    252085.967\n",
       "baseline                                   6615479.974\n",
       "total_charges ~ tenure:monthly_charges        7137.853\n",
       "dtype: float64"
      ]
     },
     "execution_count": 60,
     "metadata": {},
     "output_type": "execute_result"
    }
   ],
   "source": [
    "predictions.apply(lambda c: sklearn.metrics.mean_squared_error(predictions.total_charges, c))"
   ]
  },
  {
   "cell_type": "code",
   "execution_count": 61,
   "metadata": {},
   "outputs": [
    {
     "data": {
      "text/plain": [
       "7486.6704922266445"
      ]
     },
     "execution_count": 61,
     "metadata": {},
     "output_type": "execute_result"
    }
   ],
   "source": [
    "X_test, y_test = test[['tenure', 'monthly_charges']], test.total_charges\n",
    "\n",
    "# Using the existing poly, rfe, and lm objects\n",
    "X_test_poly = poly.transform(X_test)\n",
    "X_test_rfe = rfe.transform(X_test_poly)\n",
    "y_test_predictions = lm.predict(X_test_rfe)\n",
    "\n",
    "sklearn.metrics.mean_squared_error(y_test, y_test_predictions)"
   ]
  },
  {
   "cell_type": "code",
   "execution_count": null,
   "metadata": {},
   "outputs": [],
   "source": []
  }
 ],
 "metadata": {
  "kernelspec": {
   "display_name": "Python 3",
   "language": "python",
   "name": "python3"
  },
  "language_info": {
   "codemirror_mode": {
    "name": "ipython",
    "version": 3
   },
   "file_extension": ".py",
   "mimetype": "text/x-python",
   "name": "python",
   "nbconvert_exporter": "python",
   "pygments_lexer": "ipython3",
   "version": "3.7.4"
  }
 },
 "nbformat": 4,
 "nbformat_minor": 2
}
