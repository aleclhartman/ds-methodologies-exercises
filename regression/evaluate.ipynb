{
 "cells": [
  {
   "cell_type": "code",
   "execution_count": 1,
   "metadata": {},
   "outputs": [],
   "source": [
    "import numpy as np\n",
    "import pandas as pd\n",
    "\n",
    "%matplotlib inline\n",
    "import matplotlib.pyplot as plt\n",
    "import seaborn as sns\n",
    "\n",
    "from pydataset import data\n",
    "\n",
    "from statsmodels.formula.api import ols\n",
    "\n",
    "import split_scale as ss\n",
    "import explore as ex\n",
    "import evaluate as ev"
   ]
  },
  {
   "cell_type": "markdown",
   "metadata": {},
   "source": [
    "---\n",
    "### 1. Load the tips dataset from either pydataset or seaborn."
   ]
  },
  {
   "cell_type": "code",
   "execution_count": 2,
   "metadata": {},
   "outputs": [
    {
     "data": {
      "text/html": [
       "<div>\n",
       "<style scoped>\n",
       "    .dataframe tbody tr th:only-of-type {\n",
       "        vertical-align: middle;\n",
       "    }\n",
       "\n",
       "    .dataframe tbody tr th {\n",
       "        vertical-align: top;\n",
       "    }\n",
       "\n",
       "    .dataframe thead th {\n",
       "        text-align: right;\n",
       "    }\n",
       "</style>\n",
       "<table border=\"1\" class=\"dataframe\">\n",
       "  <thead>\n",
       "    <tr style=\"text-align: right;\">\n",
       "      <th></th>\n",
       "      <th>total_bill</th>\n",
       "      <th>tip</th>\n",
       "      <th>sex</th>\n",
       "      <th>smoker</th>\n",
       "      <th>day</th>\n",
       "      <th>time</th>\n",
       "      <th>size</th>\n",
       "    </tr>\n",
       "  </thead>\n",
       "  <tbody>\n",
       "    <tr>\n",
       "      <th>1</th>\n",
       "      <td>16.99</td>\n",
       "      <td>1.01</td>\n",
       "      <td>Female</td>\n",
       "      <td>No</td>\n",
       "      <td>Sun</td>\n",
       "      <td>Dinner</td>\n",
       "      <td>2</td>\n",
       "    </tr>\n",
       "    <tr>\n",
       "      <th>2</th>\n",
       "      <td>10.34</td>\n",
       "      <td>1.66</td>\n",
       "      <td>Male</td>\n",
       "      <td>No</td>\n",
       "      <td>Sun</td>\n",
       "      <td>Dinner</td>\n",
       "      <td>3</td>\n",
       "    </tr>\n",
       "    <tr>\n",
       "      <th>3</th>\n",
       "      <td>21.01</td>\n",
       "      <td>3.50</td>\n",
       "      <td>Male</td>\n",
       "      <td>No</td>\n",
       "      <td>Sun</td>\n",
       "      <td>Dinner</td>\n",
       "      <td>3</td>\n",
       "    </tr>\n",
       "    <tr>\n",
       "      <th>4</th>\n",
       "      <td>23.68</td>\n",
       "      <td>3.31</td>\n",
       "      <td>Male</td>\n",
       "      <td>No</td>\n",
       "      <td>Sun</td>\n",
       "      <td>Dinner</td>\n",
       "      <td>2</td>\n",
       "    </tr>\n",
       "    <tr>\n",
       "      <th>5</th>\n",
       "      <td>24.59</td>\n",
       "      <td>3.61</td>\n",
       "      <td>Female</td>\n",
       "      <td>No</td>\n",
       "      <td>Sun</td>\n",
       "      <td>Dinner</td>\n",
       "      <td>4</td>\n",
       "    </tr>\n",
       "    <tr>\n",
       "      <th>...</th>\n",
       "      <td>...</td>\n",
       "      <td>...</td>\n",
       "      <td>...</td>\n",
       "      <td>...</td>\n",
       "      <td>...</td>\n",
       "      <td>...</td>\n",
       "      <td>...</td>\n",
       "    </tr>\n",
       "    <tr>\n",
       "      <th>240</th>\n",
       "      <td>29.03</td>\n",
       "      <td>5.92</td>\n",
       "      <td>Male</td>\n",
       "      <td>No</td>\n",
       "      <td>Sat</td>\n",
       "      <td>Dinner</td>\n",
       "      <td>3</td>\n",
       "    </tr>\n",
       "    <tr>\n",
       "      <th>241</th>\n",
       "      <td>27.18</td>\n",
       "      <td>2.00</td>\n",
       "      <td>Female</td>\n",
       "      <td>Yes</td>\n",
       "      <td>Sat</td>\n",
       "      <td>Dinner</td>\n",
       "      <td>2</td>\n",
       "    </tr>\n",
       "    <tr>\n",
       "      <th>242</th>\n",
       "      <td>22.67</td>\n",
       "      <td>2.00</td>\n",
       "      <td>Male</td>\n",
       "      <td>Yes</td>\n",
       "      <td>Sat</td>\n",
       "      <td>Dinner</td>\n",
       "      <td>2</td>\n",
       "    </tr>\n",
       "    <tr>\n",
       "      <th>243</th>\n",
       "      <td>17.82</td>\n",
       "      <td>1.75</td>\n",
       "      <td>Male</td>\n",
       "      <td>No</td>\n",
       "      <td>Sat</td>\n",
       "      <td>Dinner</td>\n",
       "      <td>2</td>\n",
       "    </tr>\n",
       "    <tr>\n",
       "      <th>244</th>\n",
       "      <td>18.78</td>\n",
       "      <td>3.00</td>\n",
       "      <td>Female</td>\n",
       "      <td>No</td>\n",
       "      <td>Thur</td>\n",
       "      <td>Dinner</td>\n",
       "      <td>2</td>\n",
       "    </tr>\n",
       "  </tbody>\n",
       "</table>\n",
       "<p>244 rows × 7 columns</p>\n",
       "</div>"
      ],
      "text/plain": [
       "     total_bill   tip     sex smoker   day    time  size\n",
       "1         16.99  1.01  Female     No   Sun  Dinner     2\n",
       "2         10.34  1.66    Male     No   Sun  Dinner     3\n",
       "3         21.01  3.50    Male     No   Sun  Dinner     3\n",
       "4         23.68  3.31    Male     No   Sun  Dinner     2\n",
       "5         24.59  3.61  Female     No   Sun  Dinner     4\n",
       "..          ...   ...     ...    ...   ...     ...   ...\n",
       "240       29.03  5.92    Male     No   Sat  Dinner     3\n",
       "241       27.18  2.00  Female    Yes   Sat  Dinner     2\n",
       "242       22.67  2.00    Male    Yes   Sat  Dinner     2\n",
       "243       17.82  1.75    Male     No   Sat  Dinner     2\n",
       "244       18.78  3.00  Female     No  Thur  Dinner     2\n",
       "\n",
       "[244 rows x 7 columns]"
      ]
     },
     "execution_count": 2,
     "metadata": {},
     "output_type": "execute_result"
    }
   ],
   "source": [
    "tips_df = data(\"tips\")\n",
    "tips_df"
   ]
  },
  {
   "cell_type": "markdown",
   "metadata": {},
   "source": [
    "---\n",
    "### 2. Fit a linear regression model (ordinary least squares) and compute yhat, predictions of tip using total_bill."
   ]
  },
  {
   "cell_type": "code",
   "execution_count": 3,
   "metadata": {},
   "outputs": [
    {
     "data": {
      "text/html": [
       "<div>\n",
       "<style scoped>\n",
       "    .dataframe tbody tr th:only-of-type {\n",
       "        vertical-align: middle;\n",
       "    }\n",
       "\n",
       "    .dataframe tbody tr th {\n",
       "        vertical-align: top;\n",
       "    }\n",
       "\n",
       "    .dataframe thead th {\n",
       "        text-align: right;\n",
       "    }\n",
       "</style>\n",
       "<table border=\"1\" class=\"dataframe\">\n",
       "  <thead>\n",
       "    <tr style=\"text-align: right;\">\n",
       "      <th></th>\n",
       "      <th>total_bill</th>\n",
       "      <th>tip</th>\n",
       "    </tr>\n",
       "  </thead>\n",
       "  <tbody>\n",
       "    <tr>\n",
       "      <th>1</th>\n",
       "      <td>16.99</td>\n",
       "      <td>1.01</td>\n",
       "    </tr>\n",
       "    <tr>\n",
       "      <th>2</th>\n",
       "      <td>10.34</td>\n",
       "      <td>1.66</td>\n",
       "    </tr>\n",
       "    <tr>\n",
       "      <th>3</th>\n",
       "      <td>21.01</td>\n",
       "      <td>3.50</td>\n",
       "    </tr>\n",
       "    <tr>\n",
       "      <th>4</th>\n",
       "      <td>23.68</td>\n",
       "      <td>3.31</td>\n",
       "    </tr>\n",
       "    <tr>\n",
       "      <th>5</th>\n",
       "      <td>24.59</td>\n",
       "      <td>3.61</td>\n",
       "    </tr>\n",
       "    <tr>\n",
       "      <th>...</th>\n",
       "      <td>...</td>\n",
       "      <td>...</td>\n",
       "    </tr>\n",
       "    <tr>\n",
       "      <th>240</th>\n",
       "      <td>29.03</td>\n",
       "      <td>5.92</td>\n",
       "    </tr>\n",
       "    <tr>\n",
       "      <th>241</th>\n",
       "      <td>27.18</td>\n",
       "      <td>2.00</td>\n",
       "    </tr>\n",
       "    <tr>\n",
       "      <th>242</th>\n",
       "      <td>22.67</td>\n",
       "      <td>2.00</td>\n",
       "    </tr>\n",
       "    <tr>\n",
       "      <th>243</th>\n",
       "      <td>17.82</td>\n",
       "      <td>1.75</td>\n",
       "    </tr>\n",
       "    <tr>\n",
       "      <th>244</th>\n",
       "      <td>18.78</td>\n",
       "      <td>3.00</td>\n",
       "    </tr>\n",
       "  </tbody>\n",
       "</table>\n",
       "<p>244 rows × 2 columns</p>\n",
       "</div>"
      ],
      "text/plain": [
       "     total_bill   tip\n",
       "1         16.99  1.01\n",
       "2         10.34  1.66\n",
       "3         21.01  3.50\n",
       "4         23.68  3.31\n",
       "5         24.59  3.61\n",
       "..          ...   ...\n",
       "240       29.03  5.92\n",
       "241       27.18  2.00\n",
       "242       22.67  2.00\n",
       "243       17.82  1.75\n",
       "244       18.78  3.00\n",
       "\n",
       "[244 rows x 2 columns]"
      ]
     },
     "execution_count": 3,
     "metadata": {},
     "output_type": "execute_result"
    }
   ],
   "source": [
    "# get x (total_bill) and y (tip)\n",
    "tips_df = tips_df[[\"total_bill\", \"tip\"]]\n",
    "tips_df"
   ]
  },
  {
   "cell_type": "code",
   "execution_count": 4,
   "metadata": {},
   "outputs": [
    {
     "data": {
      "text/plain": [
       "((195, 2), (49, 2))"
      ]
     },
     "execution_count": 4,
     "metadata": {},
     "output_type": "execute_result"
    }
   ],
   "source": [
    "# split data\n",
    "train, test = ss.split_my_data(tips_df, .8, 56)\n",
    "train.shape, test.shape"
   ]
  },
  {
   "cell_type": "code",
   "execution_count": 5,
   "metadata": {},
   "outputs": [
    {
     "data": {
      "text/html": [
       "<div>\n",
       "<style scoped>\n",
       "    .dataframe tbody tr th:only-of-type {\n",
       "        vertical-align: middle;\n",
       "    }\n",
       "\n",
       "    .dataframe tbody tr th {\n",
       "        vertical-align: top;\n",
       "    }\n",
       "\n",
       "    .dataframe thead th {\n",
       "        text-align: right;\n",
       "    }\n",
       "</style>\n",
       "<table border=\"1\" class=\"dataframe\">\n",
       "  <thead>\n",
       "    <tr style=\"text-align: right;\">\n",
       "      <th></th>\n",
       "      <th>total_bill</th>\n",
       "      <th>tip</th>\n",
       "    </tr>\n",
       "  </thead>\n",
       "  <tbody>\n",
       "    <tr>\n",
       "      <th>3</th>\n",
       "      <td>21.01</td>\n",
       "      <td>3.50</td>\n",
       "    </tr>\n",
       "    <tr>\n",
       "      <th>99</th>\n",
       "      <td>21.01</td>\n",
       "      <td>3.00</td>\n",
       "    </tr>\n",
       "    <tr>\n",
       "      <th>155</th>\n",
       "      <td>19.77</td>\n",
       "      <td>2.00</td>\n",
       "    </tr>\n",
       "    <tr>\n",
       "      <th>196</th>\n",
       "      <td>7.56</td>\n",
       "      <td>1.44</td>\n",
       "    </tr>\n",
       "    <tr>\n",
       "      <th>61</th>\n",
       "      <td>20.29</td>\n",
       "      <td>3.21</td>\n",
       "    </tr>\n",
       "  </tbody>\n",
       "</table>\n",
       "</div>"
      ],
      "text/plain": [
       "     total_bill   tip\n",
       "3         21.01  3.50\n",
       "99        21.01  3.00\n",
       "155       19.77  2.00\n",
       "196        7.56  1.44\n",
       "61        20.29  3.21"
      ]
     },
     "execution_count": 5,
     "metadata": {},
     "output_type": "execute_result"
    }
   ],
   "source": [
    "train.head()"
   ]
  },
  {
   "cell_type": "code",
   "execution_count": 6,
   "metadata": {},
   "outputs": [
    {
     "data": {
      "text/html": [
       "<div>\n",
       "<style scoped>\n",
       "    .dataframe tbody tr th:only-of-type {\n",
       "        vertical-align: middle;\n",
       "    }\n",
       "\n",
       "    .dataframe tbody tr th {\n",
       "        vertical-align: top;\n",
       "    }\n",
       "\n",
       "    .dataframe thead th {\n",
       "        text-align: right;\n",
       "    }\n",
       "</style>\n",
       "<table border=\"1\" class=\"dataframe\">\n",
       "  <thead>\n",
       "    <tr style=\"text-align: right;\">\n",
       "      <th></th>\n",
       "      <th>total_bill</th>\n",
       "      <th>tip</th>\n",
       "    </tr>\n",
       "  </thead>\n",
       "  <tbody>\n",
       "    <tr>\n",
       "      <th>13</th>\n",
       "      <td>15.42</td>\n",
       "      <td>1.57</td>\n",
       "    </tr>\n",
       "    <tr>\n",
       "      <th>43</th>\n",
       "      <td>13.94</td>\n",
       "      <td>3.06</td>\n",
       "    </tr>\n",
       "    <tr>\n",
       "      <th>126</th>\n",
       "      <td>29.80</td>\n",
       "      <td>4.20</td>\n",
       "    </tr>\n",
       "    <tr>\n",
       "      <th>202</th>\n",
       "      <td>12.74</td>\n",
       "      <td>2.01</td>\n",
       "    </tr>\n",
       "    <tr>\n",
       "      <th>127</th>\n",
       "      <td>8.52</td>\n",
       "      <td>1.48</td>\n",
       "    </tr>\n",
       "  </tbody>\n",
       "</table>\n",
       "</div>"
      ],
      "text/plain": [
       "     total_bill   tip\n",
       "13        15.42  1.57\n",
       "43        13.94  3.06\n",
       "126       29.80  4.20\n",
       "202       12.74  2.01\n",
       "127        8.52  1.48"
      ]
     },
     "execution_count": 6,
     "metadata": {},
     "output_type": "execute_result"
    }
   ],
   "source": [
    "test.head()"
   ]
  },
  {
   "cell_type": "code",
   "execution_count": 7,
   "metadata": {},
   "outputs": [
    {
     "data": {
      "image/png": "[encoded data removed]",
      "text/plain": [
       "<Figure size 360x360 with 6 Axes>"
      ]
     },
     "metadata": {
      "needs_background": "light"
     },
     "output_type": "display_data"
    }
   ],
   "source": [
    "# 'splorin\n",
    "ex.plot_variable_pairs(train)"
   ]
  },
  {
   "cell_type": "code",
   "execution_count": 8,
   "metadata": {},
   "outputs": [
    {
     "name": "stdout",
     "output_type": "stream",
     "text": [
      "mean tip (train) = 3.0811282051282047\n",
      "median tip (train) = 3.0\n"
     ]
    }
   ],
   "source": [
    "print(\"mean tip (train) =\", train.tip.mean())\n",
    "print(\"median tip (train) =\", train.tip.median())"
   ]
  },
  {
   "cell_type": "code",
   "execution_count": 9,
   "metadata": {},
   "outputs": [
    {
     "name": "stderr",
     "output_type": "stream",
     "text": [
      "/usr/local/anaconda3/lib/python3.7/site-packages/ipykernel_launcher.py:1: SettingWithCopyWarning: \n",
      "A value is trying to be set on a copy of a slice from a DataFrame.\n",
      "Try using .loc[row_indexer,col_indexer] = value instead\n",
      "\n",
      "See the caveats in the documentation: http://pandas.pydata.org/pandas-docs/stable/user_guide/indexing.html#returning-a-view-versus-a-copy\n",
      "  \"\"\"Entry point for launching an IPython kernel.\n"
     ]
    },
    {
     "data": {
      "text/html": [
       "<div>\n",
       "<style scoped>\n",
       "    .dataframe tbody tr th:only-of-type {\n",
       "        vertical-align: middle;\n",
       "    }\n",
       "\n",
       "    .dataframe tbody tr th {\n",
       "        vertical-align: top;\n",
       "    }\n",
       "\n",
       "    .dataframe thead th {\n",
       "        text-align: right;\n",
       "    }\n",
       "</style>\n",
       "<table border=\"1\" class=\"dataframe\">\n",
       "  <thead>\n",
       "    <tr style=\"text-align: right;\">\n",
       "      <th></th>\n",
       "      <th>total_bill</th>\n",
       "      <th>tip</th>\n",
       "      <th>yhat_baseline</th>\n",
       "    </tr>\n",
       "  </thead>\n",
       "  <tbody>\n",
       "    <tr>\n",
       "      <th>3</th>\n",
       "      <td>21.01</td>\n",
       "      <td>3.50</td>\n",
       "      <td>3.081128</td>\n",
       "    </tr>\n",
       "    <tr>\n",
       "      <th>99</th>\n",
       "      <td>21.01</td>\n",
       "      <td>3.00</td>\n",
       "      <td>3.081128</td>\n",
       "    </tr>\n",
       "    <tr>\n",
       "      <th>155</th>\n",
       "      <td>19.77</td>\n",
       "      <td>2.00</td>\n",
       "      <td>3.081128</td>\n",
       "    </tr>\n",
       "    <tr>\n",
       "      <th>196</th>\n",
       "      <td>7.56</td>\n",
       "      <td>1.44</td>\n",
       "      <td>3.081128</td>\n",
       "    </tr>\n",
       "    <tr>\n",
       "      <th>61</th>\n",
       "      <td>20.29</td>\n",
       "      <td>3.21</td>\n",
       "      <td>3.081128</td>\n",
       "    </tr>\n",
       "  </tbody>\n",
       "</table>\n",
       "</div>"
      ],
      "text/plain": [
       "     total_bill   tip  yhat_baseline\n",
       "3         21.01  3.50       3.081128\n",
       "99        21.01  3.00       3.081128\n",
       "155       19.77  2.00       3.081128\n",
       "196        7.56  1.44       3.081128\n",
       "61        20.29  3.21       3.081128"
      ]
     },
     "execution_count": 9,
     "metadata": {},
     "output_type": "execute_result"
    }
   ],
   "source": [
    "train[\"yhat_baseline\"] = train.tip.mean()\n",
    "train.head()"
   ]
  },
  {
   "cell_type": "code",
   "execution_count": 10,
   "metadata": {},
   "outputs": [],
   "source": [
    "# code below fits a linear regression model on the train dataset\n",
    "# using tips as y/target variable and total_bill as x/feature\n",
    "ols_model = ols(\"tip ~ total_bill\", data=train).fit()\n",
    "predictions = ols_model.predict(train.total_bill)"
   ]
  },
  {
   "cell_type": "code",
   "execution_count": 11,
   "metadata": {},
   "outputs": [
    {
     "name": "stderr",
     "output_type": "stream",
     "text": [
      "/usr/local/anaconda3/lib/python3.7/site-packages/ipykernel_launcher.py:1: SettingWithCopyWarning: \n",
      "A value is trying to be set on a copy of a slice from a DataFrame.\n",
      "Try using .loc[row_indexer,col_indexer] = value instead\n",
      "\n",
      "See the caveats in the documentation: http://pandas.pydata.org/pandas-docs/stable/user_guide/indexing.html#returning-a-view-versus-a-copy\n",
      "  \"\"\"Entry point for launching an IPython kernel.\n"
     ]
    },
    {
     "data": {
      "text/html": [
       "<div>\n",
       "<style scoped>\n",
       "    .dataframe tbody tr th:only-of-type {\n",
       "        vertical-align: middle;\n",
       "    }\n",
       "\n",
       "    .dataframe tbody tr th {\n",
       "        vertical-align: top;\n",
       "    }\n",
       "\n",
       "    .dataframe thead th {\n",
       "        text-align: right;\n",
       "    }\n",
       "</style>\n",
       "<table border=\"1\" class=\"dataframe\">\n",
       "  <thead>\n",
       "    <tr style=\"text-align: right;\">\n",
       "      <th></th>\n",
       "      <th>total_bill</th>\n",
       "      <th>tip</th>\n",
       "      <th>yhat_baseline</th>\n",
       "      <th>yhat</th>\n",
       "    </tr>\n",
       "  </thead>\n",
       "  <tbody>\n",
       "    <tr>\n",
       "      <th>3</th>\n",
       "      <td>21.01</td>\n",
       "      <td>3.50</td>\n",
       "      <td>3.081128</td>\n",
       "      <td>3.203884</td>\n",
       "    </tr>\n",
       "    <tr>\n",
       "      <th>99</th>\n",
       "      <td>21.01</td>\n",
       "      <td>3.00</td>\n",
       "      <td>3.081128</td>\n",
       "      <td>3.203884</td>\n",
       "    </tr>\n",
       "    <tr>\n",
       "      <th>155</th>\n",
       "      <td>19.77</td>\n",
       "      <td>2.00</td>\n",
       "      <td>3.081128</td>\n",
       "      <td>3.064583</td>\n",
       "    </tr>\n",
       "    <tr>\n",
       "      <th>196</th>\n",
       "      <td>7.56</td>\n",
       "      <td>1.44</td>\n",
       "      <td>3.081128</td>\n",
       "      <td>1.692911</td>\n",
       "    </tr>\n",
       "    <tr>\n",
       "      <th>61</th>\n",
       "      <td>20.29</td>\n",
       "      <td>3.21</td>\n",
       "      <td>3.081128</td>\n",
       "      <td>3.122999</td>\n",
       "    </tr>\n",
       "  </tbody>\n",
       "</table>\n",
       "</div>"
      ],
      "text/plain": [
       "     total_bill   tip  yhat_baseline      yhat\n",
       "3         21.01  3.50       3.081128  3.203884\n",
       "99        21.01  3.00       3.081128  3.203884\n",
       "155       19.77  2.00       3.081128  3.064583\n",
       "196        7.56  1.44       3.081128  1.692911\n",
       "61        20.29  3.21       3.081128  3.122999"
      ]
     },
     "execution_count": 11,
     "metadata": {},
     "output_type": "execute_result"
    }
   ],
   "source": [
    "train[\"yhat\"] = predictions\n",
    "train.head()"
   ]
  },
  {
   "cell_type": "markdown",
   "metadata": {},
   "source": [
    "---\n",
    "### 3. Plot the residuals for the linear regression model that you made."
   ]
  },
  {
   "cell_type": "code",
   "execution_count": 12,
   "metadata": {},
   "outputs": [
    {
     "name": "stderr",
     "output_type": "stream",
     "text": [
      "/usr/local/anaconda3/lib/python3.7/site-packages/ipykernel_launcher.py:2: SettingWithCopyWarning: \n",
      "A value is trying to be set on a copy of a slice from a DataFrame.\n",
      "Try using .loc[row_indexer,col_indexer] = value instead\n",
      "\n",
      "See the caveats in the documentation: http://pandas.pydata.org/pandas-docs/stable/user_guide/indexing.html#returning-a-view-versus-a-copy\n",
      "  \n",
      "/usr/local/anaconda3/lib/python3.7/site-packages/ipykernel_launcher.py:3: SettingWithCopyWarning: \n",
      "A value is trying to be set on a copy of a slice from a DataFrame.\n",
      "Try using .loc[row_indexer,col_indexer] = value instead\n",
      "\n",
      "See the caveats in the documentation: http://pandas.pydata.org/pandas-docs/stable/user_guide/indexing.html#returning-a-view-versus-a-copy\n",
      "  This is separate from the ipykernel package so we can avoid doing imports until\n"
     ]
    },
    {
     "data": {
      "text/html": [
       "<div>\n",
       "<style scoped>\n",
       "    .dataframe tbody tr th:only-of-type {\n",
       "        vertical-align: middle;\n",
       "    }\n",
       "\n",
       "    .dataframe tbody tr th {\n",
       "        vertical-align: top;\n",
       "    }\n",
       "\n",
       "    .dataframe thead th {\n",
       "        text-align: right;\n",
       "    }\n",
       "</style>\n",
       "<table border=\"1\" class=\"dataframe\">\n",
       "  <thead>\n",
       "    <tr style=\"text-align: right;\">\n",
       "      <th></th>\n",
       "      <th>total_bill</th>\n",
       "      <th>tip</th>\n",
       "      <th>yhat_baseline</th>\n",
       "      <th>yhat</th>\n",
       "      <th>residual_baseline</th>\n",
       "      <th>residual</th>\n",
       "    </tr>\n",
       "  </thead>\n",
       "  <tbody>\n",
       "    <tr>\n",
       "      <th>3</th>\n",
       "      <td>21.01</td>\n",
       "      <td>3.50</td>\n",
       "      <td>3.081128</td>\n",
       "      <td>3.203884</td>\n",
       "      <td>-0.418872</td>\n",
       "      <td>-0.296116</td>\n",
       "    </tr>\n",
       "    <tr>\n",
       "      <th>99</th>\n",
       "      <td>21.01</td>\n",
       "      <td>3.00</td>\n",
       "      <td>3.081128</td>\n",
       "      <td>3.203884</td>\n",
       "      <td>0.081128</td>\n",
       "      <td>0.203884</td>\n",
       "    </tr>\n",
       "    <tr>\n",
       "      <th>155</th>\n",
       "      <td>19.77</td>\n",
       "      <td>2.00</td>\n",
       "      <td>3.081128</td>\n",
       "      <td>3.064583</td>\n",
       "      <td>1.081128</td>\n",
       "      <td>1.064583</td>\n",
       "    </tr>\n",
       "    <tr>\n",
       "      <th>196</th>\n",
       "      <td>7.56</td>\n",
       "      <td>1.44</td>\n",
       "      <td>3.081128</td>\n",
       "      <td>1.692911</td>\n",
       "      <td>1.641128</td>\n",
       "      <td>0.252911</td>\n",
       "    </tr>\n",
       "    <tr>\n",
       "      <th>61</th>\n",
       "      <td>20.29</td>\n",
       "      <td>3.21</td>\n",
       "      <td>3.081128</td>\n",
       "      <td>3.122999</td>\n",
       "      <td>-0.128872</td>\n",
       "      <td>-0.087001</td>\n",
       "    </tr>\n",
       "    <tr>\n",
       "      <th>...</th>\n",
       "      <td>...</td>\n",
       "      <td>...</td>\n",
       "      <td>...</td>\n",
       "      <td>...</td>\n",
       "      <td>...</td>\n",
       "      <td>...</td>\n",
       "    </tr>\n",
       "    <tr>\n",
       "      <th>163</th>\n",
       "      <td>16.21</td>\n",
       "      <td>2.00</td>\n",
       "      <td>3.081128</td>\n",
       "      <td>2.664652</td>\n",
       "      <td>1.081128</td>\n",
       "      <td>0.664652</td>\n",
       "    </tr>\n",
       "    <tr>\n",
       "      <th>193</th>\n",
       "      <td>28.44</td>\n",
       "      <td>2.56</td>\n",
       "      <td>3.081128</td>\n",
       "      <td>4.038570</td>\n",
       "      <td>0.521128</td>\n",
       "      <td>1.478570</td>\n",
       "    </tr>\n",
       "    <tr>\n",
       "      <th>144</th>\n",
       "      <td>27.05</td>\n",
       "      <td>5.00</td>\n",
       "      <td>3.081128</td>\n",
       "      <td>3.882418</td>\n",
       "      <td>-1.918872</td>\n",
       "      <td>-1.117582</td>\n",
       "    </tr>\n",
       "    <tr>\n",
       "      <th>229</th>\n",
       "      <td>13.28</td>\n",
       "      <td>2.72</td>\n",
       "      <td>3.081128</td>\n",
       "      <td>2.335496</td>\n",
       "      <td>0.361128</td>\n",
       "      <td>-0.384504</td>\n",
       "    </tr>\n",
       "    <tr>\n",
       "      <th>86</th>\n",
       "      <td>34.83</td>\n",
       "      <td>5.17</td>\n",
       "      <td>3.081128</td>\n",
       "      <td>4.756423</td>\n",
       "      <td>-2.088872</td>\n",
       "      <td>-0.413577</td>\n",
       "    </tr>\n",
       "  </tbody>\n",
       "</table>\n",
       "<p>195 rows × 6 columns</p>\n",
       "</div>"
      ],
      "text/plain": [
       "     total_bill   tip  yhat_baseline      yhat  residual_baseline  residual\n",
       "3         21.01  3.50       3.081128  3.203884          -0.418872 -0.296116\n",
       "99        21.01  3.00       3.081128  3.203884           0.081128  0.203884\n",
       "155       19.77  2.00       3.081128  3.064583           1.081128  1.064583\n",
       "196        7.56  1.44       3.081128  1.692911           1.641128  0.252911\n",
       "61        20.29  3.21       3.081128  3.122999          -0.128872 -0.087001\n",
       "..          ...   ...            ...       ...                ...       ...\n",
       "163       16.21  2.00       3.081128  2.664652           1.081128  0.664652\n",
       "193       28.44  2.56       3.081128  4.038570           0.521128  1.478570\n",
       "144       27.05  5.00       3.081128  3.882418          -1.918872 -1.117582\n",
       "229       13.28  2.72       3.081128  2.335496           0.361128 -0.384504\n",
       "86        34.83  5.17       3.081128  4.756423          -2.088872 -0.413577\n",
       "\n",
       "[195 rows x 6 columns]"
      ]
     },
     "execution_count": 12,
     "metadata": {},
     "output_type": "execute_result"
    }
   ],
   "source": [
    "# compute residuals\n",
    "train[\"residual_baseline\"] = train[\"yhat_baseline\"] - train[\"tip\"]\n",
    "train[\"residual\"] = train[\"yhat\"] - train[\"tip\"]\n",
    "train"
   ]
  },
  {
   "cell_type": "code",
   "execution_count": 13,
   "metadata": {
    "scrolled": false
   },
   "outputs": [
    {
     "data": {
      "image/png": "[encoded data removed]",
      "text/plain": [
       "<Figure size 1152x648 with 2 Axes>"
      ]
     },
     "metadata": {
      "needs_background": "light"
     },
     "output_type": "display_data"
    }
   ],
   "source": [
    "fig, axs = plt.subplots(2, 1, sharey=True, figsize=(16, 9))\n",
    "\n",
    "sns.lineplot(x=range(round(train.total_bill.min()), round(train.total_bill.max())), y=0, color=\"green\", ax=axs[0])\n",
    "sns.scatterplot(x=\"total_bill\", y=\"residual_baseline\", data=train, ax=axs[0]) # residual baseline\n",
    "sns.lineplot(x=range(round(train.total_bill.min()), round(train.total_bill.max())), y=0, color=\"green\", ax=axs[1])\n",
    "sns.scatterplot(x=\"total_bill\", y=\"residual\", data=train, ax=axs[1], color=\"red\") # residual\n",
    "plt.show()"
   ]
  },
  {
   "cell_type": "markdown",
   "metadata": {},
   "source": [
    "> The trend in the residual_baseline plot above (that is not shown in the model residual) indicates that there is more information we can use from total_bill to predict our target variable (tip)."
   ]
  },
  {
   "cell_type": "markdown",
   "metadata": {},
   "source": [
    "---\n",
    "### 4. Calculate the sum of squared errors, explained sum of squares, total sum of squares, mean squared error, and root mean squared error for your model.\n",
    "\n",
    "### 5. Calculate the sum of squared errors, mean squared error, and root mean squared error for the baseline model (i.e. a model that always predicts the average tip amount).\n",
    "\n",
    "### 6. Write python code that compares the sum of squared errors for your model against the sum of squared errors for the baseline model and outputs whether or not your model performs better than the baseline model."
   ]
  },
  {
   "cell_type": "code",
   "execution_count": 14,
   "metadata": {},
   "outputs": [],
   "source": [
    "from sklearn.metrics import mean_squared_error"
   ]
  },
  {
   "cell_type": "markdown",
   "metadata": {},
   "source": [
    "#### SSE - sum of squared errors"
   ]
  },
  {
   "cell_type": "markdown",
   "metadata": {},
   "source": [
    "$ SSE = \\sum_{i=1}^{n}(\\hat{y}-y_{i})^2 $"
   ]
  },
  {
   "cell_type": "markdown",
   "metadata": {},
   "source": [
    "$ MSE = \\frac{1}{n}\\sum_{i=1}^{n} (\\hat{y}-y_{i})^2 $"
   ]
  },
  {
   "cell_type": "markdown",
   "metadata": {},
   "source": [
    "$ n * MSE =\\sum_{i=1}^{n} (\\hat{y}-y_{i})^2 = SSE $"
   ]
  },
  {
   "cell_type": "code",
   "execution_count": 15,
   "metadata": {},
   "outputs": [
    {
     "name": "stdout",
     "output_type": "stream",
     "text": [
      "SSE = 201.90426276846716\n",
      "SSE_baseline = 398.9789517948719\n"
     ]
    }
   ],
   "source": [
    "SSE = mean_squared_error(train.tip, train.yhat)*train.shape[0]\n",
    "SSE_baseline = mean_squared_error(train.tip, train.yhat_baseline)*train.shape[0]\n",
    "print(\"SSE =\", SSE)\n",
    "print(\"SSE_baseline =\", SSE_baseline)"
   ]
  },
  {
   "cell_type": "code",
   "execution_count": 16,
   "metadata": {},
   "outputs": [
    {
     "name": "stdout",
     "output_type": "stream",
     "text": [
      "Model outperforms baseline\n"
     ]
    }
   ],
   "source": [
    "if SSE < SSE_baseline:\n",
    "    print(\"Model outperforms baseline\")\n",
    "else:\n",
    "    print(\"Model is useless\")"
   ]
  },
  {
   "cell_type": "markdown",
   "metadata": {},
   "source": [
    "#### ESS - explained sum of squares"
   ]
  },
  {
   "cell_type": "code",
   "execution_count": 17,
   "metadata": {},
   "outputs": [
    {
     "name": "stdout",
     "output_type": "stream",
     "text": [
      "ESS = 197.0746890264042\n"
     ]
    }
   ],
   "source": [
    "ESS = sum((train.yhat - train.tip.mean())**2)\n",
    "print(\"ESS =\", ESS)"
   ]
  },
  {
   "cell_type": "markdown",
   "metadata": {},
   "source": [
    "#### TSS - total sum of squares"
   ]
  },
  {
   "cell_type": "code",
   "execution_count": 18,
   "metadata": {},
   "outputs": [
    {
     "name": "stdout",
     "output_type": "stream",
     "text": [
      "TSS = 398.97895179487136\n"
     ]
    }
   ],
   "source": [
    "TSS = ESS + SSE\n",
    "print(\"TSS =\", TSS)"
   ]
  },
  {
   "cell_type": "markdown",
   "metadata": {},
   "source": [
    "#### MSE - mean squared error"
   ]
  },
  {
   "cell_type": "markdown",
   "metadata": {},
   "source": [
    "$ MSE = \\frac{1}{n}\\sum_{i=1}^{n} (\\hat{y}-y_{i})^2 $"
   ]
  },
  {
   "cell_type": "code",
   "execution_count": 19,
   "metadata": {},
   "outputs": [
    {
     "name": "stdout",
     "output_type": "stream",
     "text": [
      "MSE = 1.035406475735729\n",
      "MSE_baseline = 2.0460459066403685\n"
     ]
    }
   ],
   "source": [
    "MSE = mean_squared_error(train.tip, train.yhat)\n",
    "MSE_baseline = mean_squared_error(train.tip, train.yhat_baseline)\n",
    "print(\"MSE =\", MSE)\n",
    "print(\"MSE_baseline =\", MSE_baseline)"
   ]
  },
  {
   "cell_type": "markdown",
   "metadata": {},
   "source": [
    "#### RMSE - root mean squared error"
   ]
  },
  {
   "cell_type": "markdown",
   "metadata": {},
   "source": [
    "$ RMSE = \\sqrt{\\frac{1}{n}\\sum_{i=1}^{n} (\\hat{y}-y_{i})^2} $"
   ]
  },
  {
   "cell_type": "code",
   "execution_count": 20,
   "metadata": {},
   "outputs": [],
   "source": [
    "from math import sqrt"
   ]
  },
  {
   "cell_type": "code",
   "execution_count": 21,
   "metadata": {},
   "outputs": [
    {
     "name": "stdout",
     "output_type": "stream",
     "text": [
      "RMSE = 1.017549249783876\n",
      "RMSE_baseline = 1.430400610542504\n"
     ]
    }
   ],
   "source": [
    "RMSE = sqrt(MSE)\n",
    "RMSE_baseline = sqrt(MSE_baseline)\n",
    "print(\"RMSE =\", RMSE)\n",
    "print(\"RMSE_baseline =\", RMSE_baseline)"
   ]
  },
  {
   "cell_type": "markdown",
   "metadata": {},
   "source": [
    "---\n",
    "### 7. What is the amount of variance explained in your model?"
   ]
  },
  {
   "cell_type": "code",
   "execution_count": 22,
   "metadata": {},
   "outputs": [],
   "source": [
    "from sklearn.metrics import explained_variance_score"
   ]
  },
  {
   "cell_type": "code",
   "execution_count": 23,
   "metadata": {},
   "outputs": [
    {
     "name": "stdout",
     "output_type": "stream",
     "text": [
      "R-squared = 0.494\n",
      "ESS / TSS = 0.494\n",
      "True\n"
     ]
    }
   ],
   "source": [
    "R2 = ols_model.rsquared\n",
    "print(\"R-squared =\", round(R2, 3))\n",
    "print(\"ESS / TSS =\", round(ESS / TSS, 3))\n",
    "print(round(R2) == round(ESS / TSS))"
   ]
  },
  {
   "cell_type": "code",
   "execution_count": 24,
   "metadata": {},
   "outputs": [
    {
     "name": "stdout",
     "output_type": "stream",
     "text": [
      "R-squared = 0.494\n",
      "Explained Variance = 0.494\n",
      "True\n"
     ]
    }
   ],
   "source": [
    "evs = explained_variance_score(train.tip, train.yhat)\n",
    "print(\"R-squared =\", round(R2, 3))\n",
    "print(\"Explained Variance =\", round(evs, 3))\n",
    "print(round(R2) == round(evs))"
   ]
  },
  {
   "cell_type": "markdown",
   "metadata": {},
   "source": [
    "---\n",
    "### 8. Is your model significantly better than the baseline model?"
   ]
  },
  {
   "cell_type": "code",
   "execution_count": 25,
   "metadata": {},
   "outputs": [
    {
     "name": "stdout",
     "output_type": "stream",
     "text": [
      "p-value (or model significance) = 2.3140440906691813e-30\n"
     ]
    }
   ],
   "source": [
    "alpha = .001 # significance\n",
    "f_pval = ols_model.f_pvalue\n",
    "\n",
    "print(\"p-value (or model significance) =\", f_pval)"
   ]
  },
  {
   "cell_type": "code",
   "execution_count": 26,
   "metadata": {},
   "outputs": [
    {
     "name": "stdout",
     "output_type": "stream",
     "text": [
      "Model is significantly better than baseline model\n"
     ]
    }
   ],
   "source": [
    "if f_pval < alpha:\n",
    "    print(\"Model is significantly better than baseline model\")\n",
    "else:\n",
    "    print(\"Model is useless\")"
   ]
  },
  {
   "cell_type": "code",
   "execution_count": 27,
   "metadata": {},
   "outputs": [
    {
     "data": {
      "text/html": [
       "<table class=\"simpletable\">\n",
       "<caption>OLS Regression Results</caption>\n",
       "<tr>\n",
       "  <th>Dep. Variable:</th>           <td>tip</td>       <th>  R-squared:         </th> <td>   0.494</td>\n",
       "</tr>\n",
       "<tr>\n",
       "  <th>Model:</th>                   <td>OLS</td>       <th>  Adj. R-squared:    </th> <td>   0.491</td>\n",
       "</tr>\n",
       "<tr>\n",
       "  <th>Method:</th>             <td>Least Squares</td>  <th>  F-statistic:       </th> <td>   188.4</td>\n",
       "</tr>\n",
       "<tr>\n",
       "  <th>Date:</th>             <td>Thu, 02 Apr 2020</td> <th>  Prob (F-statistic):</th> <td>2.31e-30</td>\n",
       "</tr>\n",
       "<tr>\n",
       "  <th>Time:</th>                 <td>21:56:42</td>     <th>  Log-Likelihood:    </th> <td> -280.09</td>\n",
       "</tr>\n",
       "<tr>\n",
       "  <th>No. Observations:</th>      <td>   195</td>      <th>  AIC:               </th> <td>   564.2</td>\n",
       "</tr>\n",
       "<tr>\n",
       "  <th>Df Residuals:</th>          <td>   193</td>      <th>  BIC:               </th> <td>   570.7</td>\n",
       "</tr>\n",
       "<tr>\n",
       "  <th>Df Model:</th>              <td>     1</td>      <th>                     </th>     <td> </td>   \n",
       "</tr>\n",
       "<tr>\n",
       "  <th>Covariance Type:</th>      <td>nonrobust</td>    <th>                     </th>     <td> </td>   \n",
       "</tr>\n",
       "</table>\n",
       "<table class=\"simpletable\">\n",
       "<tr>\n",
       "       <td></td>         <th>coef</th>     <th>std err</th>      <th>t</th>      <th>P>|t|</th>  <th>[0.025</th>    <th>0.975]</th>  \n",
       "</tr>\n",
       "<tr>\n",
       "  <th>Intercept</th>  <td>    0.8436</td> <td>    0.179</td> <td>    4.720</td> <td> 0.000</td> <td>    0.491</td> <td>    1.196</td>\n",
       "</tr>\n",
       "<tr>\n",
       "  <th>total_bill</th> <td>    0.1123</td> <td>    0.008</td> <td>   13.725</td> <td> 0.000</td> <td>    0.096</td> <td>    0.128</td>\n",
       "</tr>\n",
       "</table>\n",
       "<table class=\"simpletable\">\n",
       "<tr>\n",
       "  <th>Omnibus:</th>       <td>17.866</td> <th>  Durbin-Watson:     </th> <td>   1.914</td>\n",
       "</tr>\n",
       "<tr>\n",
       "  <th>Prob(Omnibus):</th> <td> 0.000</td> <th>  Jarque-Bera (JB):  </th> <td>  30.888</td>\n",
       "</tr>\n",
       "<tr>\n",
       "  <th>Skew:</th>          <td> 0.487</td> <th>  Prob(JB):          </th> <td>1.96e-07</td>\n",
       "</tr>\n",
       "<tr>\n",
       "  <th>Kurtosis:</th>      <td> 4.689</td> <th>  Cond. No.          </th> <td>    53.4</td>\n",
       "</tr>\n",
       "</table><br/><br/>Warnings:<br/>[1] Standard Errors assume that the covariance matrix of the errors is correctly specified."
      ],
      "text/plain": [
       "<class 'statsmodels.iolib.summary.Summary'>\n",
       "\"\"\"\n",
       "                            OLS Regression Results                            \n",
       "==============================================================================\n",
       "Dep. Variable:                    tip   R-squared:                       0.494\n",
       "Model:                            OLS   Adj. R-squared:                  0.491\n",
       "Method:                 Least Squares   F-statistic:                     188.4\n",
       "Date:                Thu, 02 Apr 2020   Prob (F-statistic):           2.31e-30\n",
       "Time:                        21:56:42   Log-Likelihood:                -280.09\n",
       "No. Observations:                 195   AIC:                             564.2\n",
       "Df Residuals:                     193   BIC:                             570.7\n",
       "Df Model:                           1                                         \n",
       "Covariance Type:            nonrobust                                         \n",
       "==============================================================================\n",
       "                 coef    std err          t      P>|t|      [0.025      0.975]\n",
       "------------------------------------------------------------------------------\n",
       "Intercept      0.8436      0.179      4.720      0.000       0.491       1.196\n",
       "total_bill     0.1123      0.008     13.725      0.000       0.096       0.128\n",
       "==============================================================================\n",
       "Omnibus:                       17.866   Durbin-Watson:                   1.914\n",
       "Prob(Omnibus):                  0.000   Jarque-Bera (JB):               30.888\n",
       "Skew:                           0.487   Prob(JB):                     1.96e-07\n",
       "Kurtosis:                       4.689   Cond. No.                         53.4\n",
       "==============================================================================\n",
       "\n",
       "Warnings:\n",
       "[1] Standard Errors assume that the covariance matrix of the errors is correctly specified.\n",
       "\"\"\""
      ]
     },
     "execution_count": 27,
     "metadata": {},
     "output_type": "execute_result"
    }
   ],
   "source": [
    "ols_model.summary()"
   ]
  },
  {
   "cell_type": "markdown",
   "metadata": {},
   "source": [
    "---\n",
    "### 9.Create a file named evaluate.py that contains the following functions.\n",
    "\n",
    "- plot_residuals(y, yhat): creates a residual plot\n",
    "- regression_errors(y, yhat): returns the following values:\n",
    "    - sum of squared errors (SSE)\n",
    "    - explained sum of squares (ESS)\n",
    "    - total sum of squares (TSS)\n",
    "    - mean squared error (MSE)\n",
    "    - root mean squared error (RMSE)\n",
    "- baseline_mean_errors(y): computes the SSE, MSE, and RMSE for the baseline model\n",
    "- better_than_baseline(y, yhat): returns true if your model performs better than the baseline, otherwise false\n",
    "- model_significance(ols_model): that takes the ols model as input and returns the amount of variance explained in your model, and the value telling you whether your model is significantly better than the baseline model (Hint: use the rsquared and f_pvalue properties from the ols model)"
   ]
  },
  {
   "cell_type": "markdown",
   "metadata": {},
   "source": [
    "> plot_residuals(y, yhat): creates a residual plot"
   ]
  },
  {
   "cell_type": "code",
   "execution_count": 28,
   "metadata": {},
   "outputs": [],
   "source": [
    "# def plot_residuals(x, y, yhat, yhat_baseline, df):\n",
    "#     residual = yhat - y\n",
    "#     residual_baseline = yhat_baseline - y\n",
    "#     fig, axs = plt.subplots(2, 1, sharex=True, figsize=(16, 9))\n",
    "#     ax1 = axs[0]\n",
    "#     ax2 = axs[1]\n",
    "#     ax1.set_title('yhat residual')\n",
    "#     ax2.set_title('yhat residual_baseline')\n",
    "#     fig.text(.1, 0.5, 'residuals', ha='center', va='center', rotation='vertical')\n",
    "#     sns.lineplot(x=range(round(x.min()), round(x.max())), y=0, data=df, color=\"green\", ax=axs[0])\n",
    "#     sns.scatterplot(x=x, y=residual, data=df, color=\"navy\", ax=axs[0]) # residual\n",
    "#     sns.lineplot(x=range(round(x.min()), round(x.max())), y=0, data=df, color=\"green\", ax=axs[1])\n",
    "#     sns.scatterplot(x=x, y=residual_baseline, data=df, color=\"crimson\", ax=axs[1]) # residual baseline\n",
    "#     plt.show()"
   ]
  },
  {
   "cell_type": "code",
   "execution_count": 29,
   "metadata": {},
   "outputs": [
    {
     "data": {
      "image/png": "[encoded data removed]",
      "text/plain": [
       "<Figure size 1152x648 with 2 Axes>"
      ]
     },
     "metadata": {
      "needs_background": "light"
     },
     "output_type": "display_data"
    }
   ],
   "source": [
    "ev.plot_residuals(x=train.total_bill, y=train.tip, yhat=train.yhat, yhat_baseline=train.yhat_baseline, df=train)"
   ]
  },
  {
   "cell_type": "markdown",
   "metadata": {},
   "source": [
    "> regression_errors(y, yhat): returns the following values:\n",
    "> - sum of squared errors (SSE)\n",
    "> - explained sum of squares (ESS)\n",
    "> - total sum of squares (TSS)\n",
    "> - mean squared error (MSE)\n",
    "> - root mean squared error (RMSE)"
   ]
  },
  {
   "cell_type": "code",
   "execution_count": 30,
   "metadata": {},
   "outputs": [],
   "source": [
    "def regression_errors(y, yhat, df):\n",
    "    SSE = mean_squared_error(y, yhat)*df.shape[0]\n",
    "    ESS = sum((yhat - y.mean())**2)\n",
    "    TSS = ESS + SSE\n",
    "    MSE = mean_squared_error(y, yhat)\n",
    "    RMSE = sqrt(MSE)\n",
    "    return SSE, ESS, TSS, MSE, RMSE"
   ]
  },
  {
   "cell_type": "code",
   "execution_count": 31,
   "metadata": {},
   "outputs": [
    {
     "name": "stdout",
     "output_type": "stream",
     "text": [
      "SSE = 201.90426276846716\n",
      "ESS = 197.0746890264042\n",
      "TSS = 398.97895179487136\n",
      "MSE = 1.035406475735729\n",
      "RMSE = 1.017549249783876\n"
     ]
    }
   ],
   "source": [
    "SSE, ESS, TSS, MSE, RMSE = regression_errors(y=train.tip, yhat=train.yhat, df=train)\n",
    "print(\"SSE =\", SSE)\n",
    "print(\"ESS =\", ESS)\n",
    "print(\"TSS =\", TSS)\n",
    "print(\"MSE =\", MSE)\n",
    "print(\"RMSE =\", RMSE)"
   ]
  },
  {
   "cell_type": "markdown",
   "metadata": {},
   "source": [
    "> baseline_mean_errors(y): computes the SSE, MSE, and RMSE for the baseline model"
   ]
  },
  {
   "cell_type": "code",
   "execution_count": 32,
   "metadata": {},
   "outputs": [],
   "source": [
    "def baseline_mean_errors(y, yhat_baseline, df):\n",
    "    SSE_baseline = mean_squared_error(y, yhat_baseline)*df.shape[0]\n",
    "    MSE_baseline = mean_squared_error(y, yhat_baseline)\n",
    "    RMSE_baseline = sqrt(MSE_baseline)\n",
    "    return SSE_baseline, MSE_baseline, RMSE_baseline"
   ]
  },
  {
   "cell_type": "code",
   "execution_count": 33,
   "metadata": {},
   "outputs": [
    {
     "name": "stdout",
     "output_type": "stream",
     "text": [
      "SSE_baseline = 398.9789517948719\n",
      "MSE_baseline = 2.0460459066403685\n",
      "RMSE_baseline = 1.430400610542504\n"
     ]
    }
   ],
   "source": [
    "SSE_baseline, MSE_baseline, RMSE_baseline = baseline_mean_errors(y=train.tip, yhat_baseline=train.yhat_baseline, df=train)\n",
    "print(\"SSE_baseline =\", SSE_baseline)\n",
    "print(\"MSE_baseline =\", MSE_baseline)\n",
    "print(\"RMSE_baseline =\", RMSE_baseline)"
   ]
  },
  {
   "cell_type": "markdown",
   "metadata": {},
   "source": [
    "> better_than_baseline(y, yhat): returns true if your model performs better than the baseline, otherwise false"
   ]
  },
  {
   "cell_type": "code",
   "execution_count": 34,
   "metadata": {},
   "outputs": [],
   "source": [
    "def better_than_baseline(y, yhat, yhat_baseline, df):\n",
    "    SSE, ESS, TSS, MSE, RMSE = regression_errors(y=y, yhat=yhat, df=df)\n",
    "    SSE_baseline, MSE_baseline, RMSE_baseline = baseline_mean_errors(y=y, yhat_baseline=yhat_baseline, df=df)\n",
    "    if SSE < SSE_baseline and MSE < MSE_baseline and RMSE < RMSE_baseline:\n",
    "        return True\n",
    "    else:\n",
    "        return False"
   ]
  },
  {
   "cell_type": "code",
   "execution_count": 35,
   "metadata": {},
   "outputs": [
    {
     "data": {
      "text/plain": [
       "True"
      ]
     },
     "execution_count": 35,
     "metadata": {},
     "output_type": "execute_result"
    }
   ],
   "source": [
    "better_than_baseline(y=train.tip, yhat=train.yhat, yhat_baseline=train.yhat_baseline, df=train)"
   ]
  },
  {
   "cell_type": "markdown",
   "metadata": {},
   "source": [
    "> model_significance(ols_model): that takes the ols model as input and returns the amount of variance explained in your model, and the value telling you whether your model is significantly better than the baseline model (Hint: use the rsquared and f_pvalue properties from the ols model)"
   ]
  },
  {
   "cell_type": "code",
   "execution_count": 36,
   "metadata": {},
   "outputs": [],
   "source": [
    "# def model_significance(ols_model):\n",
    "#     ols_model.f_pvalue"
   ]
  }
 ],
 "metadata": {
  "kernelspec": {
   "display_name": "Python 3",
   "language": "python",
   "name": "python3"
  },
  "language_info": {
   "codemirror_mode": {
    "name": "ipython",
    "version": 3
   },
   "file_extension": ".py",
   "mimetype": "text/x-python",
   "name": "python",
   "nbconvert_exporter": "python",
   "pygments_lexer": "ipython3",
   "version": "3.7.4"
  }
 },
 "nbformat": 4,
 "nbformat_minor": 2
}
