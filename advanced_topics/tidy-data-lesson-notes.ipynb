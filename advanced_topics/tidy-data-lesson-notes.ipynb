{
 "cells": [
  {
   "cell_type": "markdown",
   "metadata": {},
   "source": [
    "# Data Reshaping + Tidy Data\n",
    "\n",
    "Note on \"melt\":\n",
    "\n",
    "\"\"\"\n",
    "pd.melt(df)\n",
    "\"\"\"\n",
    "\n",
    "is the same as\n",
    "\n",
    "\"\"\"\n",
    "df.melt()\n",
    "\"\"\"\n",
    "\n",
    "When melting you lose the index on the original DataFrame"
   ]
  },
  {
   "cell_type": "markdown",
   "metadata": {},
   "source": [
    "## Tidy Data\n",
    "- data that has been properly normalized\n",
    "\n",
    "Data is typically:\n",
    "- data is tabular: made up of rows and columns\n",
    "- each cell has one and only one value\n",
    "- each variable is a column\n",
    "- each row is an observation"
   ]
  },
  {
   "cell_type": "code",
   "execution_count": null,
   "metadata": {},
   "outputs": [],
   "source": []
  }
 ],
 "metadata": {
  "kernelspec": {
   "display_name": "Python 3",
   "language": "python",
   "name": "python3"
  },
  "language_info": {
   "codemirror_mode": {
    "name": "ipython",
    "version": 3
   },
   "file_extension": ".py",
   "mimetype": "text/x-python",
   "name": "python",
   "nbconvert_exporter": "python",
   "pygments_lexer": "ipython3",
   "version": "3.7.4"
  }
 },
 "nbformat": 4,
 "nbformat_minor": 2
}
