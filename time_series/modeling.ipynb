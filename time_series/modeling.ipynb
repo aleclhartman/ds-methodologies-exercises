{
 "cells": [
  {
   "cell_type": "code",
   "execution_count": 1,
   "metadata": {},
   "outputs": [],
   "source": [
    "import numpy as np\n",
    "import pandas as pd\n",
    "\n",
    "from datetime import datetime\n",
    "\n",
    "from sklearn.metrics import mean_squared_error\n",
    "\n",
    "from math import sqrt\n",
    "\n",
    "import matplotlib.pyplot as plt\n",
    "%matplotlib inline\n",
    "import seaborn as sns\n",
    "\n",
    "import statsmodels.api as sm\n",
    "from statsmodels.tsa.api import Holt\n",
    "\n",
    "import acquire as ac\n",
    "import prepare as pr\n",
    "\n",
    "import warnings\n",
    "warnings.filterwarnings(\"ignore\")"
   ]
  },
  {
   "cell_type": "code",
   "execution_count": 2,
   "metadata": {},
   "outputs": [],
   "source": [
    "# cameron's code for using i as a label for the iterable output\n",
    "# for i in range(3):\n",
    "#     locals()['x' + str(i)] = i\n",
    "# x2"
   ]
  },
  {
   "cell_type": "code",
   "execution_count": 3,
   "metadata": {},
   "outputs": [
    {
     "data": {
      "text/html": [
       "<div>\n",
       "<style scoped>\n",
       "    .dataframe tbody tr th:only-of-type {\n",
       "        vertical-align: middle;\n",
       "    }\n",
       "\n",
       "    .dataframe tbody tr th {\n",
       "        vertical-align: top;\n",
       "    }\n",
       "\n",
       "    .dataframe thead th {\n",
       "        text-align: right;\n",
       "    }\n",
       "</style>\n",
       "<table border=\"1\" class=\"dataframe\">\n",
       "  <thead>\n",
       "    <tr style=\"text-align: right;\">\n",
       "      <th></th>\n",
       "      <th>sale_amount</th>\n",
       "      <th>sale_date</th>\n",
       "      <th>sale_id</th>\n",
       "      <th>item_brand</th>\n",
       "      <th>item_id</th>\n",
       "      <th>item_name</th>\n",
       "      <th>item_price</th>\n",
       "      <th>item_upc12</th>\n",
       "      <th>item_upc14</th>\n",
       "      <th>store_address</th>\n",
       "      <th>store_city</th>\n",
       "      <th>store_id</th>\n",
       "      <th>store_state</th>\n",
       "      <th>store_zipcode</th>\n",
       "    </tr>\n",
       "  </thead>\n",
       "  <tbody>\n",
       "    <tr>\n",
       "      <th>0</th>\n",
       "      <td>13.0</td>\n",
       "      <td>Tue, 01 Jan 2013 00:00:00 GMT</td>\n",
       "      <td>1</td>\n",
       "      <td>Riceland</td>\n",
       "      <td>1</td>\n",
       "      <td>Riceland American Jazmine Rice</td>\n",
       "      <td>0.84</td>\n",
       "      <td>35200264013</td>\n",
       "      <td>35200264013</td>\n",
       "      <td>12125 Alamo Ranch Pkwy</td>\n",
       "      <td>San Antonio</td>\n",
       "      <td>1</td>\n",
       "      <td>TX</td>\n",
       "      <td>78253</td>\n",
       "    </tr>\n",
       "    <tr>\n",
       "      <th>1</th>\n",
       "      <td>11.0</td>\n",
       "      <td>Wed, 02 Jan 2013 00:00:00 GMT</td>\n",
       "      <td>2</td>\n",
       "      <td>Riceland</td>\n",
       "      <td>1</td>\n",
       "      <td>Riceland American Jazmine Rice</td>\n",
       "      <td>0.84</td>\n",
       "      <td>35200264013</td>\n",
       "      <td>35200264013</td>\n",
       "      <td>12125 Alamo Ranch Pkwy</td>\n",
       "      <td>San Antonio</td>\n",
       "      <td>1</td>\n",
       "      <td>TX</td>\n",
       "      <td>78253</td>\n",
       "    </tr>\n",
       "    <tr>\n",
       "      <th>2</th>\n",
       "      <td>14.0</td>\n",
       "      <td>Thu, 03 Jan 2013 00:00:00 GMT</td>\n",
       "      <td>3</td>\n",
       "      <td>Riceland</td>\n",
       "      <td>1</td>\n",
       "      <td>Riceland American Jazmine Rice</td>\n",
       "      <td>0.84</td>\n",
       "      <td>35200264013</td>\n",
       "      <td>35200264013</td>\n",
       "      <td>12125 Alamo Ranch Pkwy</td>\n",
       "      <td>San Antonio</td>\n",
       "      <td>1</td>\n",
       "      <td>TX</td>\n",
       "      <td>78253</td>\n",
       "    </tr>\n",
       "    <tr>\n",
       "      <th>3</th>\n",
       "      <td>13.0</td>\n",
       "      <td>Fri, 04 Jan 2013 00:00:00 GMT</td>\n",
       "      <td>4</td>\n",
       "      <td>Riceland</td>\n",
       "      <td>1</td>\n",
       "      <td>Riceland American Jazmine Rice</td>\n",
       "      <td>0.84</td>\n",
       "      <td>35200264013</td>\n",
       "      <td>35200264013</td>\n",
       "      <td>12125 Alamo Ranch Pkwy</td>\n",
       "      <td>San Antonio</td>\n",
       "      <td>1</td>\n",
       "      <td>TX</td>\n",
       "      <td>78253</td>\n",
       "    </tr>\n",
       "    <tr>\n",
       "      <th>4</th>\n",
       "      <td>10.0</td>\n",
       "      <td>Sat, 05 Jan 2013 00:00:00 GMT</td>\n",
       "      <td>5</td>\n",
       "      <td>Riceland</td>\n",
       "      <td>1</td>\n",
       "      <td>Riceland American Jazmine Rice</td>\n",
       "      <td>0.84</td>\n",
       "      <td>35200264013</td>\n",
       "      <td>35200264013</td>\n",
       "      <td>12125 Alamo Ranch Pkwy</td>\n",
       "      <td>San Antonio</td>\n",
       "      <td>1</td>\n",
       "      <td>TX</td>\n",
       "      <td>78253</td>\n",
       "    </tr>\n",
       "    <tr>\n",
       "      <th>...</th>\n",
       "      <td>...</td>\n",
       "      <td>...</td>\n",
       "      <td>...</td>\n",
       "      <td>...</td>\n",
       "      <td>...</td>\n",
       "      <td>...</td>\n",
       "      <td>...</td>\n",
       "      <td>...</td>\n",
       "      <td>...</td>\n",
       "      <td>...</td>\n",
       "      <td>...</td>\n",
       "      <td>...</td>\n",
       "      <td>...</td>\n",
       "      <td>...</td>\n",
       "    </tr>\n",
       "    <tr>\n",
       "      <th>912995</th>\n",
       "      <td>63.0</td>\n",
       "      <td>Wed, 27 Dec 2017 00:00:00 GMT</td>\n",
       "      <td>912996</td>\n",
       "      <td>Choice</td>\n",
       "      <td>50</td>\n",
       "      <td>Choice Organic Teas Black Tea Classic Black - ...</td>\n",
       "      <td>5.20</td>\n",
       "      <td>47445919221</td>\n",
       "      <td>47445919221</td>\n",
       "      <td>8503 NW Military Hwy</td>\n",
       "      <td>San Antonio</td>\n",
       "      <td>10</td>\n",
       "      <td>TX</td>\n",
       "      <td>78231</td>\n",
       "    </tr>\n",
       "    <tr>\n",
       "      <th>912996</th>\n",
       "      <td>59.0</td>\n",
       "      <td>Thu, 28 Dec 2017 00:00:00 GMT</td>\n",
       "      <td>912997</td>\n",
       "      <td>Choice</td>\n",
       "      <td>50</td>\n",
       "      <td>Choice Organic Teas Black Tea Classic Black - ...</td>\n",
       "      <td>5.20</td>\n",
       "      <td>47445919221</td>\n",
       "      <td>47445919221</td>\n",
       "      <td>8503 NW Military Hwy</td>\n",
       "      <td>San Antonio</td>\n",
       "      <td>10</td>\n",
       "      <td>TX</td>\n",
       "      <td>78231</td>\n",
       "    </tr>\n",
       "    <tr>\n",
       "      <th>912997</th>\n",
       "      <td>74.0</td>\n",
       "      <td>Fri, 29 Dec 2017 00:00:00 GMT</td>\n",
       "      <td>912998</td>\n",
       "      <td>Choice</td>\n",
       "      <td>50</td>\n",
       "      <td>Choice Organic Teas Black Tea Classic Black - ...</td>\n",
       "      <td>5.20</td>\n",
       "      <td>47445919221</td>\n",
       "      <td>47445919221</td>\n",
       "      <td>8503 NW Military Hwy</td>\n",
       "      <td>San Antonio</td>\n",
       "      <td>10</td>\n",
       "      <td>TX</td>\n",
       "      <td>78231</td>\n",
       "    </tr>\n",
       "    <tr>\n",
       "      <th>912998</th>\n",
       "      <td>62.0</td>\n",
       "      <td>Sat, 30 Dec 2017 00:00:00 GMT</td>\n",
       "      <td>912999</td>\n",
       "      <td>Choice</td>\n",
       "      <td>50</td>\n",
       "      <td>Choice Organic Teas Black Tea Classic Black - ...</td>\n",
       "      <td>5.20</td>\n",
       "      <td>47445919221</td>\n",
       "      <td>47445919221</td>\n",
       "      <td>8503 NW Military Hwy</td>\n",
       "      <td>San Antonio</td>\n",
       "      <td>10</td>\n",
       "      <td>TX</td>\n",
       "      <td>78231</td>\n",
       "    </tr>\n",
       "    <tr>\n",
       "      <th>912999</th>\n",
       "      <td>82.0</td>\n",
       "      <td>Sun, 31 Dec 2017 00:00:00 GMT</td>\n",
       "      <td>913000</td>\n",
       "      <td>Choice</td>\n",
       "      <td>50</td>\n",
       "      <td>Choice Organic Teas Black Tea Classic Black - ...</td>\n",
       "      <td>5.20</td>\n",
       "      <td>47445919221</td>\n",
       "      <td>47445919221</td>\n",
       "      <td>8503 NW Military Hwy</td>\n",
       "      <td>San Antonio</td>\n",
       "      <td>10</td>\n",
       "      <td>TX</td>\n",
       "      <td>78231</td>\n",
       "    </tr>\n",
       "  </tbody>\n",
       "</table>\n",
       "<p>913000 rows × 14 columns</p>\n",
       "</div>"
      ],
      "text/plain": [
       "        sale_amount                      sale_date  sale_id item_brand  \\\n",
       "0              13.0  Tue, 01 Jan 2013 00:00:00 GMT        1   Riceland   \n",
       "1              11.0  Wed, 02 Jan 2013 00:00:00 GMT        2   Riceland   \n",
       "2              14.0  Thu, 03 Jan 2013 00:00:00 GMT        3   Riceland   \n",
       "3              13.0  Fri, 04 Jan 2013 00:00:00 GMT        4   Riceland   \n",
       "4              10.0  Sat, 05 Jan 2013 00:00:00 GMT        5   Riceland   \n",
       "...             ...                            ...      ...        ...   \n",
       "912995         63.0  Wed, 27 Dec 2017 00:00:00 GMT   912996     Choice   \n",
       "912996         59.0  Thu, 28 Dec 2017 00:00:00 GMT   912997     Choice   \n",
       "912997         74.0  Fri, 29 Dec 2017 00:00:00 GMT   912998     Choice   \n",
       "912998         62.0  Sat, 30 Dec 2017 00:00:00 GMT   912999     Choice   \n",
       "912999         82.0  Sun, 31 Dec 2017 00:00:00 GMT   913000     Choice   \n",
       "\n",
       "        item_id                                          item_name  \\\n",
       "0             1                     Riceland American Jazmine Rice   \n",
       "1             1                     Riceland American Jazmine Rice   \n",
       "2             1                     Riceland American Jazmine Rice   \n",
       "3             1                     Riceland American Jazmine Rice   \n",
       "4             1                     Riceland American Jazmine Rice   \n",
       "...         ...                                                ...   \n",
       "912995       50  Choice Organic Teas Black Tea Classic Black - ...   \n",
       "912996       50  Choice Organic Teas Black Tea Classic Black - ...   \n",
       "912997       50  Choice Organic Teas Black Tea Classic Black - ...   \n",
       "912998       50  Choice Organic Teas Black Tea Classic Black - ...   \n",
       "912999       50  Choice Organic Teas Black Tea Classic Black - ...   \n",
       "\n",
       "        item_price   item_upc12   item_upc14           store_address  \\\n",
       "0             0.84  35200264013  35200264013  12125 Alamo Ranch Pkwy   \n",
       "1             0.84  35200264013  35200264013  12125 Alamo Ranch Pkwy   \n",
       "2             0.84  35200264013  35200264013  12125 Alamo Ranch Pkwy   \n",
       "3             0.84  35200264013  35200264013  12125 Alamo Ranch Pkwy   \n",
       "4             0.84  35200264013  35200264013  12125 Alamo Ranch Pkwy   \n",
       "...            ...          ...          ...                     ...   \n",
       "912995        5.20  47445919221  47445919221    8503 NW Military Hwy   \n",
       "912996        5.20  47445919221  47445919221    8503 NW Military Hwy   \n",
       "912997        5.20  47445919221  47445919221    8503 NW Military Hwy   \n",
       "912998        5.20  47445919221  47445919221    8503 NW Military Hwy   \n",
       "912999        5.20  47445919221  47445919221    8503 NW Military Hwy   \n",
       "\n",
       "         store_city  store_id store_state  store_zipcode  \n",
       "0       San Antonio         1          TX          78253  \n",
       "1       San Antonio         1          TX          78253  \n",
       "2       San Antonio         1          TX          78253  \n",
       "3       San Antonio         1          TX          78253  \n",
       "4       San Antonio         1          TX          78253  \n",
       "...             ...       ...         ...            ...  \n",
       "912995  San Antonio        10          TX          78231  \n",
       "912996  San Antonio        10          TX          78231  \n",
       "912997  San Antonio        10          TX          78231  \n",
       "912998  San Antonio        10          TX          78231  \n",
       "912999  San Antonio        10          TX          78231  \n",
       "\n",
       "[913000 rows x 14 columns]"
      ]
     },
     "execution_count": 3,
     "metadata": {},
     "output_type": "execute_result"
    }
   ],
   "source": [
    "df = ac.get_sales()\n",
    "df"
   ]
  },
  {
   "cell_type": "markdown",
   "metadata": {},
   "source": [
    "## 1. Split data (train/test) and resample by any period, except daily, and aggregate using the sum.\n"
   ]
  },
  {
   "cell_type": "markdown",
   "metadata": {},
   "source": [
    "---\n",
    "### Prepare"
   ]
  },
  {
   "cell_type": "code",
   "execution_count": 4,
   "metadata": {},
   "outputs": [],
   "source": [
    "df.rename(columns={\"sale_amount\": \"quantity\"}, inplace=True)"
   ]
  },
  {
   "cell_type": "code",
   "execution_count": 5,
   "metadata": {},
   "outputs": [
    {
     "data": {
      "text/html": [
       "<div>\n",
       "<style scoped>\n",
       "    .dataframe tbody tr th:only-of-type {\n",
       "        vertical-align: middle;\n",
       "    }\n",
       "\n",
       "    .dataframe tbody tr th {\n",
       "        vertical-align: top;\n",
       "    }\n",
       "\n",
       "    .dataframe thead th {\n",
       "        text-align: right;\n",
       "    }\n",
       "</style>\n",
       "<table border=\"1\" class=\"dataframe\">\n",
       "  <thead>\n",
       "    <tr style=\"text-align: right;\">\n",
       "      <th></th>\n",
       "      <th>quantity</th>\n",
       "      <th>sale_amount</th>\n",
       "    </tr>\n",
       "    <tr>\n",
       "      <th>ds</th>\n",
       "      <th></th>\n",
       "      <th></th>\n",
       "    </tr>\n",
       "  </thead>\n",
       "  <tbody>\n",
       "    <tr>\n",
       "      <th>2013-01-01 00:00:00+00:00</th>\n",
       "      <td>13696.0</td>\n",
       "      <td>73844.01</td>\n",
       "    </tr>\n",
       "    <tr>\n",
       "      <th>2013-01-02 00:00:00+00:00</th>\n",
       "      <td>13678.0</td>\n",
       "      <td>73570.58</td>\n",
       "    </tr>\n",
       "    <tr>\n",
       "      <th>2013-01-03 00:00:00+00:00</th>\n",
       "      <td>14488.0</td>\n",
       "      <td>78169.48</td>\n",
       "    </tr>\n",
       "    <tr>\n",
       "      <th>2013-01-04 00:00:00+00:00</th>\n",
       "      <td>15677.0</td>\n",
       "      <td>84467.73</td>\n",
       "    </tr>\n",
       "    <tr>\n",
       "      <th>2013-01-05 00:00:00+00:00</th>\n",
       "      <td>16237.0</td>\n",
       "      <td>87621.85</td>\n",
       "    </tr>\n",
       "    <tr>\n",
       "      <th>...</th>\n",
       "      <td>...</td>\n",
       "      <td>...</td>\n",
       "    </tr>\n",
       "    <tr>\n",
       "      <th>2017-12-27 00:00:00+00:00</th>\n",
       "      <td>20378.0</td>\n",
       "      <td>109151.15</td>\n",
       "    </tr>\n",
       "    <tr>\n",
       "      <th>2017-12-28 00:00:00+00:00</th>\n",
       "      <td>21885.0</td>\n",
       "      <td>117377.49</td>\n",
       "    </tr>\n",
       "    <tr>\n",
       "      <th>2017-12-29 00:00:00+00:00</th>\n",
       "      <td>23535.0</td>\n",
       "      <td>126541.84</td>\n",
       "    </tr>\n",
       "    <tr>\n",
       "      <th>2017-12-30 00:00:00+00:00</th>\n",
       "      <td>24988.0</td>\n",
       "      <td>134903.07</td>\n",
       "    </tr>\n",
       "    <tr>\n",
       "      <th>2017-12-31 00:00:00+00:00</th>\n",
       "      <td>26420.0</td>\n",
       "      <td>140905.74</td>\n",
       "    </tr>\n",
       "  </tbody>\n",
       "</table>\n",
       "<p>1826 rows × 2 columns</p>\n",
       "</div>"
      ],
      "text/plain": [
       "                           quantity  sale_amount\n",
       "ds                                              \n",
       "2013-01-01 00:00:00+00:00   13696.0     73844.01\n",
       "2013-01-02 00:00:00+00:00   13678.0     73570.58\n",
       "2013-01-03 00:00:00+00:00   14488.0     78169.48\n",
       "2013-01-04 00:00:00+00:00   15677.0     84467.73\n",
       "2013-01-05 00:00:00+00:00   16237.0     87621.85\n",
       "...                             ...          ...\n",
       "2017-12-27 00:00:00+00:00   20378.0    109151.15\n",
       "2017-12-28 00:00:00+00:00   21885.0    117377.49\n",
       "2017-12-29 00:00:00+00:00   23535.0    126541.84\n",
       "2017-12-30 00:00:00+00:00   24988.0    134903.07\n",
       "2017-12-31 00:00:00+00:00   26420.0    140905.74\n",
       "\n",
       "[1826 rows x 2 columns]"
      ]
     },
     "execution_count": 5,
     "metadata": {},
     "output_type": "execute_result"
    }
   ],
   "source": [
    "df = df.assign(ds = pd.to_datetime(df.sale_date)).sort_values(\"ds\")\\\n",
    "    .assign(sale_amount = df.quantity * df.item_price)\\\n",
    "    .groupby([\"ds\"])[[\"quantity\", \"sale_amount\"]].sum()\\\n",
    "    .reset_index().set_index(\"ds\")\n",
    "df"
   ]
  },
  {
   "cell_type": "markdown",
   "metadata": {},
   "source": [
    "---"
   ]
  },
  {
   "cell_type": "markdown",
   "metadata": {},
   "source": [
    "**Resample by month + Aggregate using sum**"
   ]
  },
  {
   "cell_type": "code",
   "execution_count": 6,
   "metadata": {},
   "outputs": [],
   "source": [
    "df = df.resample(\"W\").sum()"
   ]
  },
  {
   "cell_type": "markdown",
   "metadata": {},
   "source": [
    "**Split**"
   ]
  },
  {
   "cell_type": "code",
   "execution_count": 7,
   "metadata": {},
   "outputs": [
    {
     "data": {
      "text/html": [
       "<div>\n",
       "<style scoped>\n",
       "    .dataframe tbody tr th:only-of-type {\n",
       "        vertical-align: middle;\n",
       "    }\n",
       "\n",
       "    .dataframe tbody tr th {\n",
       "        vertical-align: top;\n",
       "    }\n",
       "\n",
       "    .dataframe thead th {\n",
       "        text-align: right;\n",
       "    }\n",
       "</style>\n",
       "<table border=\"1\" class=\"dataframe\">\n",
       "  <thead>\n",
       "    <tr style=\"text-align: right;\">\n",
       "      <th></th>\n",
       "      <th>quantity</th>\n",
       "      <th>sale_amount</th>\n",
       "    </tr>\n",
       "    <tr>\n",
       "      <th>ds</th>\n",
       "      <th></th>\n",
       "      <th></th>\n",
       "    </tr>\n",
       "  </thead>\n",
       "  <tbody>\n",
       "    <tr>\n",
       "      <th>2016-11-27 00:00:00+00:00</th>\n",
       "      <td>208743.0</td>\n",
       "      <td>1122205.56</td>\n",
       "    </tr>\n",
       "    <tr>\n",
       "      <th>2016-12-04 00:00:00+00:00</th>\n",
       "      <td>171559.0</td>\n",
       "      <td>923191.49</td>\n",
       "    </tr>\n",
       "    <tr>\n",
       "      <th>2016-12-11 00:00:00+00:00</th>\n",
       "      <td>149165.0</td>\n",
       "      <td>799959.63</td>\n",
       "    </tr>\n",
       "    <tr>\n",
       "      <th>2016-12-18 00:00:00+00:00</th>\n",
       "      <td>149388.0</td>\n",
       "      <td>802545.25</td>\n",
       "    </tr>\n",
       "    <tr>\n",
       "      <th>2016-12-25 00:00:00+00:00</th>\n",
       "      <td>149381.0</td>\n",
       "      <td>802308.50</td>\n",
       "    </tr>\n",
       "  </tbody>\n",
       "</table>\n",
       "</div>"
      ],
      "text/plain": [
       "                           quantity  sale_amount\n",
       "ds                                              \n",
       "2016-11-27 00:00:00+00:00  208743.0   1122205.56\n",
       "2016-12-04 00:00:00+00:00  171559.0    923191.49\n",
       "2016-12-11 00:00:00+00:00  149165.0    799959.63\n",
       "2016-12-18 00:00:00+00:00  149388.0    802545.25\n",
       "2016-12-25 00:00:00+00:00  149381.0    802308.50"
      ]
     },
     "execution_count": 7,
     "metadata": {},
     "output_type": "execute_result"
    }
   ],
   "source": [
    "train = df[:\"2016-12-25\"]\n",
    "test = df[\"2017-01-01\":]\n",
    "train.tail()"
   ]
  },
  {
   "cell_type": "code",
   "execution_count": 8,
   "metadata": {},
   "outputs": [
    {
     "name": "stdout",
     "output_type": "stream",
     "text": [
      "(53, 2)\n"
     ]
    },
    {
     "data": {
      "text/html": [
       "<div>\n",
       "<style scoped>\n",
       "    .dataframe tbody tr th:only-of-type {\n",
       "        vertical-align: middle;\n",
       "    }\n",
       "\n",
       "    .dataframe tbody tr th {\n",
       "        vertical-align: top;\n",
       "    }\n",
       "\n",
       "    .dataframe thead th {\n",
       "        text-align: right;\n",
       "    }\n",
       "</style>\n",
       "<table border=\"1\" class=\"dataframe\">\n",
       "  <thead>\n",
       "    <tr style=\"text-align: right;\">\n",
       "      <th></th>\n",
       "      <th>quantity</th>\n",
       "      <th>sale_amount</th>\n",
       "    </tr>\n",
       "    <tr>\n",
       "      <th>ds</th>\n",
       "      <th></th>\n",
       "      <th></th>\n",
       "    </tr>\n",
       "  </thead>\n",
       "  <tbody>\n",
       "    <tr>\n",
       "      <th>2017-01-01 00:00:00+00:00</th>\n",
       "      <td>146640.0</td>\n",
       "      <td>788100.24</td>\n",
       "    </tr>\n",
       "    <tr>\n",
       "      <th>2017-01-08 00:00:00+00:00</th>\n",
       "      <td>140112.0</td>\n",
       "      <td>755550.37</td>\n",
       "    </tr>\n",
       "    <tr>\n",
       "      <th>2017-01-15 00:00:00+00:00</th>\n",
       "      <td>139901.0</td>\n",
       "      <td>752373.86</td>\n",
       "    </tr>\n",
       "    <tr>\n",
       "      <th>2017-01-22 00:00:00+00:00</th>\n",
       "      <td>139914.0</td>\n",
       "      <td>750565.94</td>\n",
       "    </tr>\n",
       "    <tr>\n",
       "      <th>2017-01-29 00:00:00+00:00</th>\n",
       "      <td>139345.0</td>\n",
       "      <td>748669.80</td>\n",
       "    </tr>\n",
       "  </tbody>\n",
       "</table>\n",
       "</div>"
      ],
      "text/plain": [
       "                           quantity  sale_amount\n",
       "ds                                              \n",
       "2017-01-01 00:00:00+00:00  146640.0    788100.24\n",
       "2017-01-08 00:00:00+00:00  140112.0    755550.37\n",
       "2017-01-15 00:00:00+00:00  139901.0    752373.86\n",
       "2017-01-22 00:00:00+00:00  139914.0    750565.94\n",
       "2017-01-29 00:00:00+00:00  139345.0    748669.80"
      ]
     },
     "execution_count": 8,
     "metadata": {},
     "output_type": "execute_result"
    }
   ],
   "source": [
    "print(test.shape)\n",
    "test.head()"
   ]
  },
  {
   "cell_type": "markdown",
   "metadata": {},
   "source": [
    "**Validate Split**"
   ]
  },
  {
   "cell_type": "code",
   "execution_count": 9,
   "metadata": {},
   "outputs": [
    {
     "name": "stdout",
     "output_type": "stream",
     "text": [
      "True\n",
      "                           quantity  sale_amount\n",
      "ds                                              \n",
      "2013-01-06 00:00:00+00:00      True         True\n",
      "                           quantity  sale_amount\n",
      "ds                                              \n",
      "2017-12-31 00:00:00+00:00      True         True\n"
     ]
    }
   ],
   "source": [
    "print((train.shape[0] + test.shape[0]) == df.shape[0])\n",
    "print(train.head(1) == df.head(1))\n",
    "print(test.tail(1) == df.tail(1))"
   ]
  },
  {
   "cell_type": "markdown",
   "metadata": {},
   "source": [
    "## 2. Forecast, plot and evaluate using each of the 4 parametric based methods we discussed:\n",
    "- Simple Average\n",
    "- Moving Average\n",
    "- Holt's Linear Trend Model\n",
    "- Based on previous year/month/etc., this is up to you."
   ]
  },
  {
   "cell_type": "code",
   "execution_count": 10,
   "metadata": {},
   "outputs": [],
   "source": [
    "def make_predictions():\n",
    "    \"\"\"\n",
    "    This function creates a forecast depending the specified method of calculating\n",
    "    the quantity and sale_amount variables as global variables outside the function\n",
    "    \"\"\"\n",
    "    \n",
    "    # create yhat DataFrame\n",
    "    yhat = pd.DataFrame({\n",
    "        \"quantity\": quantity, \n",
    "        \"sale_amount\": sale_amount,\n",
    "    }, index=test.index)\n",
    "    \n",
    "    return yhat"
   ]
  },
  {
   "cell_type": "code",
   "execution_count": 11,
   "metadata": {},
   "outputs": [],
   "source": [
    "def evaluate(target_var):\n",
    "    \"\"\"\n",
    "    This function evaluates the forecasting model using the root mean squared error of the target variable\n",
    "    \"\"\"\n",
    "    \n",
    "    # calcuated RMSE\n",
    "    rmse = round(sqrt(mean_squared_error(test[target_var], yhat[target_var])))\n",
    "    \n",
    "    return rmse"
   ]
  },
  {
   "cell_type": "code",
   "execution_count": 12,
   "metadata": {},
   "outputs": [],
   "source": [
    "def plot_and_eval(target_var):\n",
    "    \"\"\"\n",
    "    This function plots the train, test, and forecast for the target variable and evaluates the model\n",
    "    \"\"\"\n",
    "    \n",
    "    # set figure size\n",
    "    plt.figure(figsize=(16, 4))\n",
    "    \n",
    "    # plot train target variable\n",
    "    plt.plot(train[target_var], label=\"Train\", linewidth=1)\n",
    "    \n",
    "    # plot test target variable\n",
    "    plt.plot(test[target_var], label=\"Test\", linewidth=1)\n",
    "    \n",
    "    # plot forecast target variable\n",
    "    plt.plot(yhat[target_var])\n",
    "    \n",
    "    # title of plot\n",
    "    plt.title(target_var)\n",
    "    \n",
    "    # calling evaluate function to calculate the RMSE of the model\n",
    "    rmse = evaluate(target_var)\n",
    "    \n",
    "    # printing the RMSE for the target_variable\n",
    "    print(target_var, f\"-- RMSE: {rmse:.0f}\")\n",
    "    \n",
    "    # show the plot\n",
    "    plt.show()"
   ]
  },
  {
   "cell_type": "code",
   "execution_count": 13,
   "metadata": {},
   "outputs": [],
   "source": [
    "def append_evaluation(model_type, target_var):\n",
    "    \"\"\"\n",
    "    This function appends the evaluation of a specific model to a DataFrame for future reference\n",
    "    This function operates under the assumption of the existance of an evaluation DataFrame\n",
    "    \"\"\"\n",
    "    \n",
    "    # calling evaluate function to calculate the RMSE of the model\n",
    "    rmse = evaluate(target_var)\n",
    "    \n",
    "    # creating dictionary with model specification, target_variable, and evaluation metric\n",
    "    d = {\"model_type\": [model_type], \"target_var\": [target_var], \"rmse\": rmse}\n",
    "    \n",
    "    # creating a DataFrame from the dictionary above\n",
    "    d = pd.DataFrame(d)\n",
    "    \n",
    "    # appending values to the evaluation DataFrame and returning said DataFrame\n",
    "    return evaluation.append(d, ignore_index=True)"
   ]
  },
  {
   "cell_type": "markdown",
   "metadata": {},
   "source": [
    "---\n",
    "**Simple Average**"
   ]
  },
  {
   "cell_type": "code",
   "execution_count": 14,
   "metadata": {},
   "outputs": [
    {
     "data": {
      "text/html": [
       "<div>\n",
       "<style scoped>\n",
       "    .dataframe tbody tr th:only-of-type {\n",
       "        vertical-align: middle;\n",
       "    }\n",
       "\n",
       "    .dataframe tbody tr th {\n",
       "        vertical-align: top;\n",
       "    }\n",
       "\n",
       "    .dataframe thead th {\n",
       "        text-align: right;\n",
       "    }\n",
       "</style>\n",
       "<table border=\"1\" class=\"dataframe\">\n",
       "  <thead>\n",
       "    <tr style=\"text-align: right;\">\n",
       "      <th></th>\n",
       "      <th>quantity</th>\n",
       "      <th>sale_amount</th>\n",
       "    </tr>\n",
       "    <tr>\n",
       "      <th>ds</th>\n",
       "      <th></th>\n",
       "      <th></th>\n",
       "    </tr>\n",
       "  </thead>\n",
       "  <tbody>\n",
       "    <tr>\n",
       "      <th>2013-01-06 00:00:00+00:00</th>\n",
       "      <td>91067.0</td>\n",
       "      <td>490767.50</td>\n",
       "    </tr>\n",
       "    <tr>\n",
       "      <th>2013-01-13 00:00:00+00:00</th>\n",
       "      <td>103902.0</td>\n",
       "      <td>559934.21</td>\n",
       "    </tr>\n",
       "    <tr>\n",
       "      <th>2013-01-20 00:00:00+00:00</th>\n",
       "      <td>102950.0</td>\n",
       "      <td>552813.52</td>\n",
       "    </tr>\n",
       "    <tr>\n",
       "      <th>2013-01-27 00:00:00+00:00</th>\n",
       "      <td>103298.0</td>\n",
       "      <td>554908.84</td>\n",
       "    </tr>\n",
       "    <tr>\n",
       "      <th>2013-02-03 00:00:00+00:00</th>\n",
       "      <td>109027.0</td>\n",
       "      <td>586547.55</td>\n",
       "    </tr>\n",
       "  </tbody>\n",
       "</table>\n",
       "</div>"
      ],
      "text/plain": [
       "                           quantity  sale_amount\n",
       "ds                                              \n",
       "2013-01-06 00:00:00+00:00   91067.0    490767.50\n",
       "2013-01-13 00:00:00+00:00  103902.0    559934.21\n",
       "2013-01-20 00:00:00+00:00  102950.0    552813.52\n",
       "2013-01-27 00:00:00+00:00  103298.0    554908.84\n",
       "2013-02-03 00:00:00+00:00  109027.0    586547.55"
      ]
     },
     "execution_count": 14,
     "metadata": {},
     "output_type": "execute_result"
    }
   ],
   "source": [
    "train.head()"
   ]
  },
  {
   "cell_type": "markdown",
   "metadata": {},
   "source": [
    "**Predict**"
   ]
  },
  {
   "cell_type": "code",
   "execution_count": 15,
   "metadata": {},
   "outputs": [
    {
     "name": "stdout",
     "output_type": "stream",
     "text": [
      "(53, 2)\n"
     ]
    },
    {
     "data": {
      "text/html": [
       "<div>\n",
       "<style scoped>\n",
       "    .dataframe tbody tr th:only-of-type {\n",
       "        vertical-align: middle;\n",
       "    }\n",
       "\n",
       "    .dataframe tbody tr th {\n",
       "        vertical-align: top;\n",
       "    }\n",
       "\n",
       "    .dataframe thead th {\n",
       "        text-align: right;\n",
       "    }\n",
       "</style>\n",
       "<table border=\"1\" class=\"dataframe\">\n",
       "  <thead>\n",
       "    <tr style=\"text-align: right;\">\n",
       "      <th></th>\n",
       "      <th>quantity</th>\n",
       "      <th>sale_amount</th>\n",
       "    </tr>\n",
       "    <tr>\n",
       "      <th>ds</th>\n",
       "      <th></th>\n",
       "      <th></th>\n",
       "    </tr>\n",
       "  </thead>\n",
       "  <tbody>\n",
       "    <tr>\n",
       "      <th>2017-01-01 00:00:00+00:00</th>\n",
       "      <td>177153.08</td>\n",
       "      <td>952417.26</td>\n",
       "    </tr>\n",
       "    <tr>\n",
       "      <th>2017-01-08 00:00:00+00:00</th>\n",
       "      <td>177153.08</td>\n",
       "      <td>952417.26</td>\n",
       "    </tr>\n",
       "    <tr>\n",
       "      <th>2017-01-15 00:00:00+00:00</th>\n",
       "      <td>177153.08</td>\n",
       "      <td>952417.26</td>\n",
       "    </tr>\n",
       "    <tr>\n",
       "      <th>2017-01-22 00:00:00+00:00</th>\n",
       "      <td>177153.08</td>\n",
       "      <td>952417.26</td>\n",
       "    </tr>\n",
       "    <tr>\n",
       "      <th>2017-01-29 00:00:00+00:00</th>\n",
       "      <td>177153.08</td>\n",
       "      <td>952417.26</td>\n",
       "    </tr>\n",
       "  </tbody>\n",
       "</table>\n",
       "</div>"
      ],
      "text/plain": [
       "                            quantity  sale_amount\n",
       "ds                                               \n",
       "2017-01-01 00:00:00+00:00  177153.08    952417.26\n",
       "2017-01-08 00:00:00+00:00  177153.08    952417.26\n",
       "2017-01-15 00:00:00+00:00  177153.08    952417.26\n",
       "2017-01-22 00:00:00+00:00  177153.08    952417.26\n",
       "2017-01-29 00:00:00+00:00  177153.08    952417.26"
      ]
     },
     "execution_count": 15,
     "metadata": {},
     "output_type": "execute_result"
    }
   ],
   "source": [
    "quantity = round(train[\"quantity\"].mean(), 2)\n",
    "sale_amount = round(train[\"sale_amount\"].mean(), 2)\n",
    "\n",
    "yhat = make_predictions()\n",
    "\n",
    "print(yhat.shape)\n",
    "yhat.head()"
   ]
  },
  {
   "cell_type": "markdown",
   "metadata": {},
   "source": [
    "**Evaluate**"
   ]
  },
  {
   "cell_type": "code",
   "execution_count": 16,
   "metadata": {},
   "outputs": [
    {
     "name": "stdout",
     "output_type": "stream",
     "text": [
      "quantity RMSE = 46568\n",
      "sale_amount RMSE = 250161\n"
     ]
    }
   ],
   "source": [
    "for col in train.columns:\n",
    "    print(f\"{col} RMSE = {evaluate(col)}\")"
   ]
  },
  {
   "cell_type": "markdown",
   "metadata": {},
   "source": [
    "**Plot + Evaluate**"
   ]
  },
  {
   "cell_type": "code",
   "execution_count": 17,
   "metadata": {},
   "outputs": [
    {
     "name": "stdout",
     "output_type": "stream",
     "text": [
      "quantity -- RMSE: 46568\n"
     ]
    },
    {
     "data": {
      "image/png": "[encoded data removed]",
      "text/plain": [
       "<Figure size 1152x288 with 1 Axes>"
      ]
     },
     "metadata": {
      "needs_background": "light"
     },
     "output_type": "display_data"
    },
    {
     "name": "stdout",
     "output_type": "stream",
     "text": [
      "sale_amount -- RMSE: 250161\n"
     ]
    },
    {
     "data": {
      "image/png": "[encoded data removed]",
      "text/plain": [
       "<Figure size 1152x288 with 1 Axes>"
      ]
     },
     "metadata": {
      "needs_background": "light"
     },
     "output_type": "display_data"
    }
   ],
   "source": [
    "for col in train.columns:\n",
    "    plot_and_eval(col)"
   ]
  },
  {
   "cell_type": "markdown",
   "metadata": {},
   "source": [
    "**Append Evaluation Metrics**"
   ]
  },
  {
   "cell_type": "code",
   "execution_count": 18,
   "metadata": {},
   "outputs": [
    {
     "data": {
      "text/html": [
       "<div>\n",
       "<style scoped>\n",
       "    .dataframe tbody tr th:only-of-type {\n",
       "        vertical-align: middle;\n",
       "    }\n",
       "\n",
       "    .dataframe tbody tr th {\n",
       "        vertical-align: top;\n",
       "    }\n",
       "\n",
       "    .dataframe thead th {\n",
       "        text-align: right;\n",
       "    }\n",
       "</style>\n",
       "<table border=\"1\" class=\"dataframe\">\n",
       "  <thead>\n",
       "    <tr style=\"text-align: right;\">\n",
       "      <th></th>\n",
       "      <th>model_type</th>\n",
       "      <th>target_var</th>\n",
       "      <th>rmse</th>\n",
       "    </tr>\n",
       "  </thead>\n",
       "  <tbody>\n",
       "    <tr>\n",
       "      <th>0</th>\n",
       "      <td>Simple Average</td>\n",
       "      <td>quantity</td>\n",
       "      <td>46568</td>\n",
       "    </tr>\n",
       "    <tr>\n",
       "      <th>1</th>\n",
       "      <td>Simple Average</td>\n",
       "      <td>sale_amount</td>\n",
       "      <td>250161</td>\n",
       "    </tr>\n",
       "  </tbody>\n",
       "</table>\n",
       "</div>"
      ],
      "text/plain": [
       "       model_type   target_var    rmse\n",
       "0  Simple Average     quantity   46568\n",
       "1  Simple Average  sale_amount  250161"
      ]
     },
     "execution_count": 18,
     "metadata": {},
     "output_type": "execute_result"
    }
   ],
   "source": [
    "# create the evaluation DataFrame\n",
    "evaluation = pd.DataFrame(columns = [\"model_type\", \"target_var\", \"rmse\"])\n",
    "\n",
    "# call append_evaluation function\n",
    "evaluation = append_evaluation(model_type=\"Simple Average\", target_var=\"quantity\")\n",
    "evaluation = append_evaluation(model_type=\"Simple Average\", target_var=\"sale_amount\")\n",
    "evaluation"
   ]
  },
  {
   "cell_type": "markdown",
   "metadata": {},
   "source": [
    "---\n",
    "**Moving Average**"
   ]
  },
  {
   "cell_type": "markdown",
   "metadata": {},
   "source": [
    "**Predict**"
   ]
  },
  {
   "cell_type": "code",
   "execution_count": 19,
   "metadata": {},
   "outputs": [
    {
     "data": {
      "text/html": [
       "<div>\n",
       "<style scoped>\n",
       "    .dataframe tbody tr th:only-of-type {\n",
       "        vertical-align: middle;\n",
       "    }\n",
       "\n",
       "    .dataframe tbody tr th {\n",
       "        vertical-align: top;\n",
       "    }\n",
       "\n",
       "    .dataframe thead th {\n",
       "        text-align: right;\n",
       "    }\n",
       "</style>\n",
       "<table border=\"1\" class=\"dataframe\">\n",
       "  <thead>\n",
       "    <tr style=\"text-align: right;\">\n",
       "      <th></th>\n",
       "      <th>quantity</th>\n",
       "      <th>sale_amount</th>\n",
       "    </tr>\n",
       "    <tr>\n",
       "      <th>ds</th>\n",
       "      <th></th>\n",
       "      <th></th>\n",
       "    </tr>\n",
       "  </thead>\n",
       "  <tbody>\n",
       "    <tr>\n",
       "      <th>2017-01-01 00:00:00+00:00</th>\n",
       "      <td>187358.92</td>\n",
       "      <td>1006901.42</td>\n",
       "    </tr>\n",
       "    <tr>\n",
       "      <th>2017-01-08 00:00:00+00:00</th>\n",
       "      <td>187358.92</td>\n",
       "      <td>1006901.42</td>\n",
       "    </tr>\n",
       "    <tr>\n",
       "      <th>2017-01-15 00:00:00+00:00</th>\n",
       "      <td>187358.92</td>\n",
       "      <td>1006901.42</td>\n",
       "    </tr>\n",
       "    <tr>\n",
       "      <th>2017-01-22 00:00:00+00:00</th>\n",
       "      <td>187358.92</td>\n",
       "      <td>1006901.42</td>\n",
       "    </tr>\n",
       "    <tr>\n",
       "      <th>2017-01-29 00:00:00+00:00</th>\n",
       "      <td>187358.92</td>\n",
       "      <td>1006901.42</td>\n",
       "    </tr>\n",
       "  </tbody>\n",
       "</table>\n",
       "</div>"
      ],
      "text/plain": [
       "                            quantity  sale_amount\n",
       "ds                                               \n",
       "2017-01-01 00:00:00+00:00  187358.92   1006901.42\n",
       "2017-01-08 00:00:00+00:00  187358.92   1006901.42\n",
       "2017-01-15 00:00:00+00:00  187358.92   1006901.42\n",
       "2017-01-22 00:00:00+00:00  187358.92   1006901.42\n",
       "2017-01-29 00:00:00+00:00  187358.92   1006901.42"
      ]
     },
     "execution_count": 19,
     "metadata": {},
     "output_type": "execute_result"
    }
   ],
   "source": [
    "period = 13 # 13 week rolling average == quarterly\n",
    "\n",
    "quantity = round(train.quantity.rolling(period).mean().iloc[-1], 2)\n",
    "sale_amount = round(train.sale_amount.rolling(period).mean().iloc[-1], 2)\n",
    "\n",
    "yhat = make_predictions()\n",
    "yhat.head()"
   ]
  },
  {
   "cell_type": "markdown",
   "metadata": {},
   "source": [
    "**Evaluate**"
   ]
  },
  {
   "cell_type": "code",
   "execution_count": 20,
   "metadata": {},
   "outputs": [
    {
     "name": "stdout",
     "output_type": "stream",
     "text": [
      "quantity RMSE = 41323\n",
      "sale_amount RMSE = 222145\n"
     ]
    }
   ],
   "source": [
    "for col in train.columns:\n",
    "    print(f\"{col} RMSE = {evaluate(col)}\")"
   ]
  },
  {
   "cell_type": "markdown",
   "metadata": {},
   "source": [
    "**Plot + Evaluate**"
   ]
  },
  {
   "cell_type": "code",
   "execution_count": 21,
   "metadata": {},
   "outputs": [
    {
     "name": "stdout",
     "output_type": "stream",
     "text": [
      "quantity -- RMSE: 41323\n"
     ]
    },
    {
     "data": {
      "image/png": "[encoded data removed]",
      "text/plain": [
       "<Figure size 1152x288 with 1 Axes>"
      ]
     },
     "metadata": {
      "needs_background": "light"
     },
     "output_type": "display_data"
    },
    {
     "name": "stdout",
     "output_type": "stream",
     "text": [
      "sale_amount -- RMSE: 222145\n"
     ]
    },
    {
     "data": {
      "image/png": "[encoded data removed]",
      "text/plain": [
       "<Figure size 1152x288 with 1 Axes>"
      ]
     },
     "metadata": {
      "needs_background": "light"
     },
     "output_type": "display_data"
    }
   ],
   "source": [
    "for col in train.columns:\n",
    "    plot_and_eval(col)"
   ]
  },
  {
   "cell_type": "markdown",
   "metadata": {},
   "source": [
    "**Append Evaluation Metrics**"
   ]
  },
  {
   "cell_type": "code",
   "execution_count": 22,
   "metadata": {},
   "outputs": [
    {
     "data": {
      "text/html": [
       "<div>\n",
       "<style scoped>\n",
       "    .dataframe tbody tr th:only-of-type {\n",
       "        vertical-align: middle;\n",
       "    }\n",
       "\n",
       "    .dataframe tbody tr th {\n",
       "        vertical-align: top;\n",
       "    }\n",
       "\n",
       "    .dataframe thead th {\n",
       "        text-align: right;\n",
       "    }\n",
       "</style>\n",
       "<table border=\"1\" class=\"dataframe\">\n",
       "  <thead>\n",
       "    <tr style=\"text-align: right;\">\n",
       "      <th></th>\n",
       "      <th>model_type</th>\n",
       "      <th>target_var</th>\n",
       "      <th>rmse</th>\n",
       "    </tr>\n",
       "  </thead>\n",
       "  <tbody>\n",
       "    <tr>\n",
       "      <th>0</th>\n",
       "      <td>Simple Average</td>\n",
       "      <td>quantity</td>\n",
       "      <td>46568</td>\n",
       "    </tr>\n",
       "    <tr>\n",
       "      <th>1</th>\n",
       "      <td>Simple Average</td>\n",
       "      <td>sale_amount</td>\n",
       "      <td>250161</td>\n",
       "    </tr>\n",
       "  </tbody>\n",
       "</table>\n",
       "</div>"
      ],
      "text/plain": [
       "       model_type   target_var    rmse\n",
       "0  Simple Average     quantity   46568\n",
       "1  Simple Average  sale_amount  250161"
      ]
     },
     "execution_count": 22,
     "metadata": {},
     "output_type": "execute_result"
    }
   ],
   "source": [
    "evaluation"
   ]
  },
  {
   "cell_type": "code",
   "execution_count": 23,
   "metadata": {},
   "outputs": [
    {
     "data": {
      "text/html": [
       "<div>\n",
       "<style scoped>\n",
       "    .dataframe tbody tr th:only-of-type {\n",
       "        vertical-align: middle;\n",
       "    }\n",
       "\n",
       "    .dataframe tbody tr th {\n",
       "        vertical-align: top;\n",
       "    }\n",
       "\n",
       "    .dataframe thead th {\n",
       "        text-align: right;\n",
       "    }\n",
       "</style>\n",
       "<table border=\"1\" class=\"dataframe\">\n",
       "  <thead>\n",
       "    <tr style=\"text-align: right;\">\n",
       "      <th></th>\n",
       "      <th>model_type</th>\n",
       "      <th>target_var</th>\n",
       "      <th>rmse</th>\n",
       "    </tr>\n",
       "  </thead>\n",
       "  <tbody>\n",
       "    <tr>\n",
       "      <th>0</th>\n",
       "      <td>Simple Average</td>\n",
       "      <td>quantity</td>\n",
       "      <td>46568</td>\n",
       "    </tr>\n",
       "    <tr>\n",
       "      <th>1</th>\n",
       "      <td>Simple Average</td>\n",
       "      <td>sale_amount</td>\n",
       "      <td>250161</td>\n",
       "    </tr>\n",
       "    <tr>\n",
       "      <th>2</th>\n",
       "      <td>13-Week Rolling Avg.</td>\n",
       "      <td>quantity</td>\n",
       "      <td>41323</td>\n",
       "    </tr>\n",
       "    <tr>\n",
       "      <th>3</th>\n",
       "      <td>13-Week Rolling Avg.</td>\n",
       "      <td>sale_amount</td>\n",
       "      <td>222145</td>\n",
       "    </tr>\n",
       "  </tbody>\n",
       "</table>\n",
       "</div>"
      ],
      "text/plain": [
       "             model_type   target_var    rmse\n",
       "0        Simple Average     quantity   46568\n",
       "1        Simple Average  sale_amount  250161\n",
       "2  13-Week Rolling Avg.     quantity   41323\n",
       "3  13-Week Rolling Avg.  sale_amount  222145"
      ]
     },
     "execution_count": 23,
     "metadata": {},
     "output_type": "execute_result"
    }
   ],
   "source": [
    "evaluation = append_evaluation(model_type=\"13-Week Rolling Avg.\", target_var=\"quantity\")\n",
    "evaluation = append_evaluation(model_type=\"13-Week Rolling Avg.\", target_var=\"sale_amount\")\n",
    "evaluation"
   ]
  },
  {
   "cell_type": "code",
   "execution_count": null,
   "metadata": {},
   "outputs": [],
   "source": []
  }
 ],
 "metadata": {
  "kernelspec": {
   "display_name": "Python 3",
   "language": "python",
   "name": "python3"
  },
  "language_info": {
   "codemirror_mode": {
    "name": "ipython",
    "version": 3
   },
   "file_extension": ".py",
   "mimetype": "text/x-python",
   "name": "python",
   "nbconvert_exporter": "python",
   "pygments_lexer": "ipython3",
   "version": "3.7.4"
  }
 },
 "nbformat": 4,
 "nbformat_minor": 2
}
