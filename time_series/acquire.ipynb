{
 "cells": [
  {
   "cell_type": "markdown",
   "metadata": {},
   "source": [
    "# Acquire Exercises"
   ]
  },
  {
   "cell_type": "code",
   "execution_count": 1,
   "metadata": {},
   "outputs": [],
   "source": [
    "import numpy as np\n",
    "import pandas as pd\n",
    "\n",
    "import requests"
   ]
  },
  {
   "cell_type": "markdown",
   "metadata": {},
   "source": [
    "---"
   ]
  },
  {
   "cell_type": "code",
   "execution_count": 2,
   "metadata": {},
   "outputs": [
    {
     "name": "stdout",
     "output_type": "stream",
     "text": [
      "{\"api\":\"/api/v1\",\"help\":\"/documentation\"}\n",
      "\n"
     ]
    }
   ],
   "source": [
    "base_url = \"https://python.zach.lol\"\n",
    "print(requests.get(base_url).text)"
   ]
  },
  {
   "cell_type": "code",
   "execution_count": 3,
   "metadata": {},
   "outputs": [
    {
     "name": "stdout",
     "output_type": "stream",
     "text": [
      "\n",
      "The API accepts GET requests for all endpoints, where endpoints are prefixed\n",
      "with\n",
      "\n",
      "    /api/{version}\n",
      "\n",
      "Where version is \"v1\"\n",
      "\n",
      "Valid endpoints:\n",
      "\n",
      "- /stores[/{store_id}]\n",
      "- /items[/{item_id}]\n",
      "- /sales[/{sale_id}]\n",
      "\n",
      "All endpoints accept a `page` parameter that can be used to navigate through\n",
      "the results.\n",
      "\n"
     ]
    }
   ],
   "source": [
    "response = requests.get(base_url + \"/documentation\")\n",
    "print(response.json()[\"payload\"])"
   ]
  },
  {
   "cell_type": "markdown",
   "metadata": {},
   "source": [
    "## 1. Using the code from the lesson as a guide, create a dataframe named items that has all of the data for items."
   ]
  },
  {
   "cell_type": "code",
   "execution_count": 4,
   "metadata": {},
   "outputs": [
    {
     "data": {
      "text/plain": [
       "dict_keys(['payload', 'status'])"
      ]
     },
     "execution_count": 4,
     "metadata": {},
     "output_type": "execute_result"
    }
   ],
   "source": [
    "response = requests.get(\"https://python.zach.lol/api/v1/items\")\n",
    "data = response.json()\n",
    "data.keys()"
   ]
  },
  {
   "cell_type": "code",
   "execution_count": 5,
   "metadata": {},
   "outputs": [
    {
     "data": {
      "text/plain": [
       "dict_keys(['items', 'max_page', 'next_page', 'page', 'previous_page'])"
      ]
     },
     "execution_count": 5,
     "metadata": {},
     "output_type": "execute_result"
    }
   ],
   "source": [
    "data[\"payload\"].keys()"
   ]
  },
  {
   "cell_type": "code",
   "execution_count": 6,
   "metadata": {},
   "outputs": [
    {
     "name": "stdout",
     "output_type": "stream",
     "text": [
      "max page: 3\n",
      "max page: /api/v1/items?page=2\n"
     ]
    }
   ],
   "source": [
    "print(\"max page: %s\" % data[\"payload\"][\"max_page\"])\n",
    "print(\"max page: %s\" % data[\"payload\"][\"next_page\"])"
   ]
  },
  {
   "cell_type": "code",
   "execution_count": 7,
   "metadata": {},
   "outputs": [
    {
     "data": {
      "text/html": [
       "<div>\n",
       "<style scoped>\n",
       "    .dataframe tbody tr th:only-of-type {\n",
       "        vertical-align: middle;\n",
       "    }\n",
       "\n",
       "    .dataframe tbody tr th {\n",
       "        vertical-align: top;\n",
       "    }\n",
       "\n",
       "    .dataframe thead th {\n",
       "        text-align: right;\n",
       "    }\n",
       "</style>\n",
       "<table border=\"1\" class=\"dataframe\">\n",
       "  <thead>\n",
       "    <tr style=\"text-align: right;\">\n",
       "      <th></th>\n",
       "      <th>item_brand</th>\n",
       "      <th>item_id</th>\n",
       "      <th>item_name</th>\n",
       "      <th>item_price</th>\n",
       "      <th>item_upc12</th>\n",
       "      <th>item_upc14</th>\n",
       "    </tr>\n",
       "  </thead>\n",
       "  <tbody>\n",
       "    <tr>\n",
       "      <th>0</th>\n",
       "      <td>Riceland</td>\n",
       "      <td>1</td>\n",
       "      <td>Riceland American Jazmine Rice</td>\n",
       "      <td>0.84</td>\n",
       "      <td>35200264013</td>\n",
       "      <td>35200264013</td>\n",
       "    </tr>\n",
       "    <tr>\n",
       "      <th>1</th>\n",
       "      <td>Caress</td>\n",
       "      <td>2</td>\n",
       "      <td>Caress Velvet Bliss Ultra Silkening Beauty Bar...</td>\n",
       "      <td>6.44</td>\n",
       "      <td>11111065925</td>\n",
       "      <td>11111065925</td>\n",
       "    </tr>\n",
       "    <tr>\n",
       "      <th>2</th>\n",
       "      <td>Earths Best</td>\n",
       "      <td>3</td>\n",
       "      <td>Earths Best Organic Fruit Yogurt Smoothie Mixe...</td>\n",
       "      <td>2.43</td>\n",
       "      <td>23923330139</td>\n",
       "      <td>23923330139</td>\n",
       "    </tr>\n",
       "    <tr>\n",
       "      <th>3</th>\n",
       "      <td>Boars Head</td>\n",
       "      <td>4</td>\n",
       "      <td>Boars Head Sliced White American Cheese - 120 Ct</td>\n",
       "      <td>3.14</td>\n",
       "      <td>208528800007</td>\n",
       "      <td>208528800007</td>\n",
       "    </tr>\n",
       "    <tr>\n",
       "      <th>4</th>\n",
       "      <td>Back To Nature</td>\n",
       "      <td>5</td>\n",
       "      <td>Back To Nature Gluten Free White Cheddar Rice ...</td>\n",
       "      <td>2.61</td>\n",
       "      <td>759283100036</td>\n",
       "      <td>759283100036</td>\n",
       "    </tr>\n",
       "    <tr>\n",
       "      <th>5</th>\n",
       "      <td>Sally Hansen</td>\n",
       "      <td>6</td>\n",
       "      <td>Sally Hansen Nail Color Magnetic 903 Silver El...</td>\n",
       "      <td>6.93</td>\n",
       "      <td>74170388732</td>\n",
       "      <td>74170388732</td>\n",
       "    </tr>\n",
       "    <tr>\n",
       "      <th>6</th>\n",
       "      <td>Twinings Of London</td>\n",
       "      <td>7</td>\n",
       "      <td>Twinings Of London Classics Lady Grey Tea - 20 Ct</td>\n",
       "      <td>9.64</td>\n",
       "      <td>70177154004</td>\n",
       "      <td>70177154004</td>\n",
       "    </tr>\n",
       "    <tr>\n",
       "      <th>7</th>\n",
       "      <td>Lea &amp; Perrins</td>\n",
       "      <td>8</td>\n",
       "      <td>Lea &amp; Perrins Marinade In-a-bag Cracked Pepper...</td>\n",
       "      <td>1.68</td>\n",
       "      <td>51600080015</td>\n",
       "      <td>51600080015</td>\n",
       "    </tr>\n",
       "    <tr>\n",
       "      <th>8</th>\n",
       "      <td>Van De Kamps</td>\n",
       "      <td>9</td>\n",
       "      <td>Van De Kamps Fillets Beer Battered - 10 Ct</td>\n",
       "      <td>1.79</td>\n",
       "      <td>19600923015</td>\n",
       "      <td>19600923015</td>\n",
       "    </tr>\n",
       "    <tr>\n",
       "      <th>9</th>\n",
       "      <td>Ahold</td>\n",
       "      <td>10</td>\n",
       "      <td>Ahold Cocoa Almonds</td>\n",
       "      <td>3.17</td>\n",
       "      <td>688267141676</td>\n",
       "      <td>688267141676</td>\n",
       "    </tr>\n",
       "    <tr>\n",
       "      <th>10</th>\n",
       "      <td>Honest Tea</td>\n",
       "      <td>11</td>\n",
       "      <td>Honest Tea Peach White Tea</td>\n",
       "      <td>3.93</td>\n",
       "      <td>657622604842</td>\n",
       "      <td>657622604842</td>\n",
       "    </tr>\n",
       "    <tr>\n",
       "      <th>11</th>\n",
       "      <td>Mueller</td>\n",
       "      <td>12</td>\n",
       "      <td>Mueller Sport Care Basic Support Level Medium ...</td>\n",
       "      <td>8.40</td>\n",
       "      <td>74676640211</td>\n",
       "      <td>74676640211</td>\n",
       "    </tr>\n",
       "    <tr>\n",
       "      <th>12</th>\n",
       "      <td>Garnier Nutritioniste</td>\n",
       "      <td>13</td>\n",
       "      <td>Garnier Nutritioniste Moisture Rescue Fresh Cl...</td>\n",
       "      <td>6.47</td>\n",
       "      <td>603084234561</td>\n",
       "      <td>603084234561</td>\n",
       "    </tr>\n",
       "    <tr>\n",
       "      <th>13</th>\n",
       "      <td>Pamprin</td>\n",
       "      <td>14</td>\n",
       "      <td>Pamprin Maximum Strength Multi-symptom Menstru...</td>\n",
       "      <td>7.54</td>\n",
       "      <td>41167300121</td>\n",
       "      <td>41167300121</td>\n",
       "    </tr>\n",
       "    <tr>\n",
       "      <th>14</th>\n",
       "      <td>Suave</td>\n",
       "      <td>15</td>\n",
       "      <td>Suave Naturals Moisturizing Body Wash Creamy T...</td>\n",
       "      <td>9.11</td>\n",
       "      <td>79400847201</td>\n",
       "      <td>79400847201</td>\n",
       "    </tr>\n",
       "    <tr>\n",
       "      <th>15</th>\n",
       "      <td>Burts Bees</td>\n",
       "      <td>16</td>\n",
       "      <td>Burts Bees Daily Moisturizing Cream Sensitive</td>\n",
       "      <td>5.17</td>\n",
       "      <td>792850014008</td>\n",
       "      <td>792850014008</td>\n",
       "    </tr>\n",
       "    <tr>\n",
       "      <th>16</th>\n",
       "      <td>Ducal</td>\n",
       "      <td>17</td>\n",
       "      <td>Ducal Refried Red Beans</td>\n",
       "      <td>1.16</td>\n",
       "      <td>88313590791</td>\n",
       "      <td>88313590791</td>\n",
       "    </tr>\n",
       "    <tr>\n",
       "      <th>17</th>\n",
       "      <td>Scotch</td>\n",
       "      <td>18</td>\n",
       "      <td>Scotch Removable Clear Mounting Squares - 35 Ct</td>\n",
       "      <td>4.39</td>\n",
       "      <td>21200725340</td>\n",
       "      <td>21200725340</td>\n",
       "    </tr>\n",
       "    <tr>\n",
       "      <th>18</th>\n",
       "      <td>Careone</td>\n",
       "      <td>19</td>\n",
       "      <td>Careone Family Comb Set - 8 Ct</td>\n",
       "      <td>0.74</td>\n",
       "      <td>41520035646</td>\n",
       "      <td>41520035646</td>\n",
       "    </tr>\n",
       "    <tr>\n",
       "      <th>19</th>\n",
       "      <td>Usda Produce</td>\n",
       "      <td>20</td>\n",
       "      <td>Plums Black</td>\n",
       "      <td>5.62</td>\n",
       "      <td>204040000000</td>\n",
       "      <td>204040000000</td>\n",
       "    </tr>\n",
       "  </tbody>\n",
       "</table>\n",
       "</div>"
      ],
      "text/plain": [
       "               item_brand  item_id  \\\n",
       "0                Riceland        1   \n",
       "1                  Caress        2   \n",
       "2             Earths Best        3   \n",
       "3              Boars Head        4   \n",
       "4          Back To Nature        5   \n",
       "5            Sally Hansen        6   \n",
       "6      Twinings Of London        7   \n",
       "7           Lea & Perrins        8   \n",
       "8            Van De Kamps        9   \n",
       "9                   Ahold       10   \n",
       "10             Honest Tea       11   \n",
       "11                Mueller       12   \n",
       "12  Garnier Nutritioniste       13   \n",
       "13                Pamprin       14   \n",
       "14                  Suave       15   \n",
       "15             Burts Bees       16   \n",
       "16                  Ducal       17   \n",
       "17                 Scotch       18   \n",
       "18                Careone       19   \n",
       "19           Usda Produce       20   \n",
       "\n",
       "                                            item_name  item_price  \\\n",
       "0                      Riceland American Jazmine Rice        0.84   \n",
       "1   Caress Velvet Bliss Ultra Silkening Beauty Bar...        6.44   \n",
       "2   Earths Best Organic Fruit Yogurt Smoothie Mixe...        2.43   \n",
       "3    Boars Head Sliced White American Cheese - 120 Ct        3.14   \n",
       "4   Back To Nature Gluten Free White Cheddar Rice ...        2.61   \n",
       "5   Sally Hansen Nail Color Magnetic 903 Silver El...        6.93   \n",
       "6   Twinings Of London Classics Lady Grey Tea - 20 Ct        9.64   \n",
       "7   Lea & Perrins Marinade In-a-bag Cracked Pepper...        1.68   \n",
       "8          Van De Kamps Fillets Beer Battered - 10 Ct        1.79   \n",
       "9                                 Ahold Cocoa Almonds        3.17   \n",
       "10                         Honest Tea Peach White Tea        3.93   \n",
       "11  Mueller Sport Care Basic Support Level Medium ...        8.40   \n",
       "12  Garnier Nutritioniste Moisture Rescue Fresh Cl...        6.47   \n",
       "13  Pamprin Maximum Strength Multi-symptom Menstru...        7.54   \n",
       "14  Suave Naturals Moisturizing Body Wash Creamy T...        9.11   \n",
       "15      Burts Bees Daily Moisturizing Cream Sensitive        5.17   \n",
       "16                            Ducal Refried Red Beans        1.16   \n",
       "17    Scotch Removable Clear Mounting Squares - 35 Ct        4.39   \n",
       "18                     Careone Family Comb Set - 8 Ct        0.74   \n",
       "19                                        Plums Black        5.62   \n",
       "\n",
       "      item_upc12    item_upc14  \n",
       "0    35200264013   35200264013  \n",
       "1    11111065925   11111065925  \n",
       "2    23923330139   23923330139  \n",
       "3   208528800007  208528800007  \n",
       "4   759283100036  759283100036  \n",
       "5    74170388732   74170388732  \n",
       "6    70177154004   70177154004  \n",
       "7    51600080015   51600080015  \n",
       "8    19600923015   19600923015  \n",
       "9   688267141676  688267141676  \n",
       "10  657622604842  657622604842  \n",
       "11   74676640211   74676640211  \n",
       "12  603084234561  603084234561  \n",
       "13   41167300121   41167300121  \n",
       "14   79400847201   79400847201  \n",
       "15  792850014008  792850014008  \n",
       "16   88313590791   88313590791  \n",
       "17   21200725340   21200725340  \n",
       "18   41520035646   41520035646  \n",
       "19  204040000000  204040000000  "
      ]
     },
     "execution_count": 7,
     "metadata": {},
     "output_type": "execute_result"
    }
   ],
   "source": [
    "items = pd.DataFrame(data[\"payload\"][\"items\"])\n",
    "items"
   ]
  },
  {
   "cell_type": "code",
   "execution_count": null,
   "metadata": {},
   "outputs": [],
   "source": []
  }
 ],
 "metadata": {
  "kernelspec": {
   "display_name": "Python 3",
   "language": "python",
   "name": "python3"
  },
  "language_info": {
   "codemirror_mode": {
    "name": "ipython",
    "version": 3
   },
   "file_extension": ".py",
   "mimetype": "text/x-python",
   "name": "python",
   "nbconvert_exporter": "python",
   "pygments_lexer": "ipython3",
   "version": "3.7.4"
  }
 },
 "nbformat": 4,
 "nbformat_minor": 2
}
