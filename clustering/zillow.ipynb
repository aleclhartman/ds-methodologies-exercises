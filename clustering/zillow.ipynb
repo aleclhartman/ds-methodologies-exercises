{
 "cells": [
  {
   "cell_type": "markdown",
   "metadata": {},
   "source": [
    "# Acquire\n",
    "## Zillow"
   ]
  },
  {
   "cell_type": "code",
   "execution_count": 1,
   "metadata": {},
   "outputs": [],
   "source": [
    "import numpy as np\n",
    "import pandas as pd\n",
    "\n",
    "%matplotlib inline\n",
    "import matplotlib.pyplot as plt\n",
    "import seaborn as sns\n",
    "\n",
    "pd.set_option(\"display.max_rows\", None)\n",
    "pd.set_option(\"display.max_columns\", None)\n",
    "\n",
    "from env import host, user, password, get_db_url"
   ]
  },
  {
   "cell_type": "code",
   "execution_count": 2,
   "metadata": {},
   "outputs": [],
   "source": [
    "zillow_query = \"\"\"\n",
    "SELECT prop.*, pred.logerror, pred.transactiondate, ac.airconditioningdesc, ar.architecturalstyledesc, bu.buildingclassdesc, he.heatingorsystemdesc, la.propertylandusedesc, st.storydesc, co.typeconstructiondesc\n",
    "FROM properties_2017 AS prop\n",
    "JOIN (\n",
    "\tSELECT parcelid, MAX(logerror) as logerror, MAX(transactiondate) AS transactiondate\n",
    "\tFROM predictions_2017\n",
    "\tGROUP BY parcelid) AS pred ON prop.parcelid = pred.parcelid\n",
    "LEFT JOIN airconditioningtype AS ac USING(airconditioningtypeid)\n",
    "LEFT JOIN architecturalstyletype AS ar USING(architecturalstyletypeid)\n",
    "LEFT JOIN buildingclasstype AS bu USING(buildingclasstypeid)\n",
    "LEFT JOIN heatingorsystemtype AS he USING(heatingorsystemtypeid)\n",
    "LEFT JOIN propertylandusetype AS la USING(propertylandusetypeid)\n",
    "LEFT JOIN storytype AS st USING(storytypeid)\n",
    "LEFT JOIN typeconstructiontype as co USING(typeconstructiontypeid)\n",
    "WHERE prop.latitude IS NOT NULL\n",
    "AND prop.longitude IS NOT NULL;\"\"\""
   ]
  },
  {
   "cell_type": "code",
   "execution_count": 3,
   "metadata": {},
   "outputs": [],
   "source": [
    "zillow_url = get_db_url(\"zillow\")"
   ]
  },
  {
   "cell_type": "code",
   "execution_count": null,
   "metadata": {},
   "outputs": [],
   "source": [
    "df = pd.read_sql(zillow_query, zillow_url)\n",
    "df"
   ]
  },
  {
   "cell_type": "code",
   "execution_count": null,
   "metadata": {},
   "outputs": [],
   "source": [
    "df.parcelid.value_counts().max()"
   ]
  },
  {
   "cell_type": "code",
   "execution_count": null,
   "metadata": {},
   "outputs": [],
   "source": [
    "def get_zillow_data():\n",
    "    # query\n",
    "    zillow_query = \"\"\"\n",
    "    SELECT prop.*, pred.logerror, pred.transactiondate, ac.airconditioningdesc, ar.architecturalstyledesc, bu.buildingclassdesc, he.heatingorsystemdesc, la.propertylandusedesc, st.storydesc, co.typeconstructiondesc\n",
    "    FROM properties_2017 AS prop\n",
    "    JOIN (\n",
    "        SELECT parcelid, MAX(logerror) as logerror, MAX(transactiondate) AS transactiondate\n",
    "        FROM predictions_2017\n",
    "        GROUP BY parcelid) AS pred ON prop.parcelid = pred.parcelid\n",
    "    LEFT JOIN airconditioningtype AS ac USING(airconditioningtypeid)\n",
    "    LEFT JOIN architecturalstyletype AS ar USING(architecturalstyletypeid)\n",
    "    LEFT JOIN buildingclasstype AS bu USING(buildingclasstypeid)\n",
    "    LEFT JOIN heatingorsystemtype AS he USING(heatingorsystemtypeid)\n",
    "    LEFT JOIN propertylandusetype AS la USING(propertylandusetypeid)\n",
    "    LEFT JOIN storytype AS st USING(storytypeid)\n",
    "    LEFT JOIN typeconstructiontype as co USING(typeconstructiontypeid)\n",
    "    WHERE prop.latitude IS NOT NULL\n",
    "    AND prop.longitude IS NOT NULL;\"\"\"\n",
    "    \n",
    "    # get url\n",
    "    zillow_url = get_db_url(\"zillow\")\n",
    "    \n",
    "    df = pd.read_sql(zillow_query, zillow_url)\n",
    "    \n",
    "    return df"
   ]
  },
  {
   "cell_type": "code",
   "execution_count": null,
   "metadata": {},
   "outputs": [],
   "source": [
    "df = get_zillow_data()"
   ]
  },
  {
   "cell_type": "code",
   "execution_count": null,
   "metadata": {},
   "outputs": [],
   "source": [
    "df.head()"
   ]
  },
  {
   "cell_type": "code",
   "execution_count": null,
   "metadata": {},
   "outputs": [],
   "source": [
    "df.describe()"
   ]
  },
  {
   "cell_type": "code",
   "execution_count": null,
   "metadata": {},
   "outputs": [],
   "source": [
    "df.info()"
   ]
  },
  {
   "cell_type": "code",
   "execution_count": null,
   "metadata": {},
   "outputs": [],
   "source": [
    "df.dtypes"
   ]
  },
  {
   "cell_type": "code",
   "execution_count": null,
   "metadata": {},
   "outputs": [],
   "source": [
    "df.shape"
   ]
  },
  {
   "cell_type": "code",
   "execution_count": null,
   "metadata": {
    "scrolled": false
   },
   "outputs": [],
   "source": [
    "df.hist(figsize=(32, 32))\n",
    "plt.show()"
   ]
  },
  {
   "cell_type": "code",
   "execution_count": null,
   "metadata": {},
   "outputs": [],
   "source": [
    "for c in df.columns:\n",
    "    print(df[c].value_counts())\n",
    "    print()"
   ]
  },
  {
   "cell_type": "code",
   "execution_count": null,
   "metadata": {
    "scrolled": false
   },
   "outputs": [],
   "source": [
    "missing = pd.DataFrame({\n",
    "    \"num_rows_missing\": df.isnull().sum(axis=0),\n",
    "    \"pct_rows_missing\": df.isnull().sum(axis=0) / df.shape[0]\n",
    "})\n",
    "\n",
    "missing"
   ]
  },
  {
   "cell_type": "code",
   "execution_count": null,
   "metadata": {},
   "outputs": [],
   "source": [
    "def missing_rows(df):\n",
    "    missing_rows = pd.DataFrame({\n",
    "        \"num_rows_missing\": df.isnull().sum(axis=0),\n",
    "        \"pct_rows_missing\": df.isnull().sum(axis=0) / df.shape[0]\n",
    "    })\n",
    "    return missing_rows"
   ]
  },
  {
   "cell_type": "code",
   "execution_count": null,
   "metadata": {},
   "outputs": [],
   "source": [
    "missing_rows(df)"
   ]
  },
  {
   "cell_type": "code",
   "execution_count": null,
   "metadata": {},
   "outputs": [],
   "source": [
    "# missing_columns = pd.DataFrame({\n",
    "#     \"num_cols_missing\": df.isnull().sum(axis=1),\n",
    "#     \"pct_cols_missing\": df.isnull().sum(axis=0) / df.shape[0],\n",
    "#     \"num_rows\": \n",
    "# })\n",
    "\n",
    "# missing_columns"
   ]
  },
  {
   "cell_type": "code",
   "execution_count": null,
   "metadata": {},
   "outputs": [],
   "source": [
    "# df.isnull().sum()"
   ]
  },
  {
   "cell_type": "code",
   "execution_count": null,
   "metadata": {},
   "outputs": [],
   "source": []
  }
 ],
 "metadata": {
  "kernelspec": {
   "display_name": "Python 3",
   "language": "python",
   "name": "python3"
  },
  "language_info": {
   "codemirror_mode": {
    "name": "ipython",
    "version": 3
   },
   "file_extension": ".py",
   "mimetype": "text/x-python",
   "name": "python",
   "nbconvert_exporter": "python",
   "pygments_lexer": "ipython3",
   "version": "3.7.4"
  }
 },
 "nbformat": 4,
 "nbformat_minor": 2
}
